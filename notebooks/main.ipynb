{
 "cells": [
  {
   "cell_type": "markdown",
   "id": "4a25d97d",
   "metadata": {},
   "source": [
    "# Brain Stroke Diagnosos Prediction"
   ]
  },
  {
   "cell_type": "code",
   "execution_count": null,
   "id": "3b99855b",
   "metadata": {},
   "outputs": [],
   "source": []
  }
 ],
 "metadata": {
  "kernelspec": {
   "display_name": "std-prog",
   "language": "python",
   "name": "python3"
  },
  "language_info": {
   "name": "python",
   "version": "3.13.5"
  }
 },
 "nbformat": 4,
 "nbformat_minor": 5
}
