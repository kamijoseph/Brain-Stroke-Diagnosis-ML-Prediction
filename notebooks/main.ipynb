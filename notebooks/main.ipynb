{
 "cells": [
  {
   "cell_type": "markdown",
   "id": "4a25d97d",
   "metadata": {},
   "source": [
    "# Brain Stroke Diagnosos Prediction"
   ]
  },
  {
   "cell_type": "code",
   "execution_count": 169,
   "id": "3b99855b",
   "metadata": {},
   "outputs": [],
   "source": [
    "import pandas as pd\n",
    "import numpy as np\n",
    "import matplotlib.pyplot as plt\n",
    "import seaborn as sns\n",
    "import plotly.express as px\n",
    "import plotly.graph_objects as go\n",
    "import plotly.subplots as sp\n",
    "from sklearn.preprocessing import OneHotEncoder, OrdinalEncoder, StandardScaler\n",
    "from sklearn.pipeline import Pipeline\n",
    "from sklearn.compose import ColumnTransformer\n",
    "from imblearn.over_sampling import SMOTE\n",
    "from sklearn.model_selection import train_test_split\n",
    "from sklearn.ensemble import RandomForestClassifier\n",
    "from xgboost import XGBClassifier\n",
    "from sklearn.metrics import (\n",
    "    classification_report, confusion_matrix, roc_auc_score, RocCurveDisplay\n",
    ")"
   ]
  },
  {
   "cell_type": "code",
   "execution_count": 110,
   "id": "541f8a76",
   "metadata": {},
   "outputs": [],
   "source": [
    "# importing the data\n",
    "data = pd.read_csv(\"../datasets/train.csv\")\n",
    "test_data = pd.read_csv(\"../datasets/test.csv\")"
   ]
  },
  {
   "cell_type": "code",
   "execution_count": 111,
   "id": "09ea3402",
   "metadata": {},
   "outputs": [
    {
     "name": "stdout",
     "output_type": "stream",
     "text": [
      "(15304, 12) (10204, 11)\n"
     ]
    }
   ],
   "source": [
    "print(data.shape, test_data.shape)"
   ]
  },
  {
   "cell_type": "code",
   "execution_count": 112,
   "id": "0e73782b",
   "metadata": {},
   "outputs": [
    {
     "data": {
      "text/html": [
       "<div>\n",
       "<style scoped>\n",
       "    .dataframe tbody tr th:only-of-type {\n",
       "        vertical-align: middle;\n",
       "    }\n",
       "\n",
       "    .dataframe tbody tr th {\n",
       "        vertical-align: top;\n",
       "    }\n",
       "\n",
       "    .dataframe thead th {\n",
       "        text-align: right;\n",
       "    }\n",
       "</style>\n",
       "<table border=\"1\" class=\"dataframe\">\n",
       "  <thead>\n",
       "    <tr style=\"text-align: right;\">\n",
       "      <th></th>\n",
       "      <th>id</th>\n",
       "      <th>gender</th>\n",
       "      <th>age</th>\n",
       "      <th>hypertension</th>\n",
       "      <th>heart_disease</th>\n",
       "      <th>ever_married</th>\n",
       "      <th>work_type</th>\n",
       "      <th>Residence_type</th>\n",
       "      <th>avg_glucose_level</th>\n",
       "      <th>bmi</th>\n",
       "      <th>smoking_status</th>\n",
       "      <th>stroke</th>\n",
       "    </tr>\n",
       "  </thead>\n",
       "  <tbody>\n",
       "    <tr>\n",
       "      <th>0</th>\n",
       "      <td>0</td>\n",
       "      <td>Male</td>\n",
       "      <td>28.0</td>\n",
       "      <td>0</td>\n",
       "      <td>0</td>\n",
       "      <td>Yes</td>\n",
       "      <td>Private</td>\n",
       "      <td>Urban</td>\n",
       "      <td>79.53</td>\n",
       "      <td>31.1</td>\n",
       "      <td>never smoked</td>\n",
       "      <td>0</td>\n",
       "    </tr>\n",
       "    <tr>\n",
       "      <th>1</th>\n",
       "      <td>1</td>\n",
       "      <td>Male</td>\n",
       "      <td>33.0</td>\n",
       "      <td>0</td>\n",
       "      <td>0</td>\n",
       "      <td>Yes</td>\n",
       "      <td>Private</td>\n",
       "      <td>Rural</td>\n",
       "      <td>78.44</td>\n",
       "      <td>23.9</td>\n",
       "      <td>formerly smoked</td>\n",
       "      <td>0</td>\n",
       "    </tr>\n",
       "    <tr>\n",
       "      <th>2</th>\n",
       "      <td>2</td>\n",
       "      <td>Female</td>\n",
       "      <td>42.0</td>\n",
       "      <td>0</td>\n",
       "      <td>0</td>\n",
       "      <td>Yes</td>\n",
       "      <td>Private</td>\n",
       "      <td>Rural</td>\n",
       "      <td>103.00</td>\n",
       "      <td>40.3</td>\n",
       "      <td>Unknown</td>\n",
       "      <td>0</td>\n",
       "    </tr>\n",
       "    <tr>\n",
       "      <th>3</th>\n",
       "      <td>3</td>\n",
       "      <td>Male</td>\n",
       "      <td>56.0</td>\n",
       "      <td>0</td>\n",
       "      <td>0</td>\n",
       "      <td>Yes</td>\n",
       "      <td>Private</td>\n",
       "      <td>Urban</td>\n",
       "      <td>64.87</td>\n",
       "      <td>28.8</td>\n",
       "      <td>never smoked</td>\n",
       "      <td>0</td>\n",
       "    </tr>\n",
       "    <tr>\n",
       "      <th>4</th>\n",
       "      <td>4</td>\n",
       "      <td>Female</td>\n",
       "      <td>24.0</td>\n",
       "      <td>0</td>\n",
       "      <td>0</td>\n",
       "      <td>No</td>\n",
       "      <td>Private</td>\n",
       "      <td>Rural</td>\n",
       "      <td>73.36</td>\n",
       "      <td>28.8</td>\n",
       "      <td>never smoked</td>\n",
       "      <td>0</td>\n",
       "    </tr>\n",
       "  </tbody>\n",
       "</table>\n",
       "</div>"
      ],
      "text/plain": [
       "   id  gender   age  hypertension  heart_disease ever_married work_type  \\\n",
       "0   0    Male  28.0             0              0          Yes   Private   \n",
       "1   1    Male  33.0             0              0          Yes   Private   \n",
       "2   2  Female  42.0             0              0          Yes   Private   \n",
       "3   3    Male  56.0             0              0          Yes   Private   \n",
       "4   4  Female  24.0             0              0           No   Private   \n",
       "\n",
       "  Residence_type  avg_glucose_level   bmi   smoking_status  stroke  \n",
       "0          Urban              79.53  31.1     never smoked       0  \n",
       "1          Rural              78.44  23.9  formerly smoked       0  \n",
       "2          Rural             103.00  40.3          Unknown       0  \n",
       "3          Urban              64.87  28.8     never smoked       0  \n",
       "4          Rural              73.36  28.8     never smoked       0  "
      ]
     },
     "execution_count": 112,
     "metadata": {},
     "output_type": "execute_result"
    }
   ],
   "source": [
    "data.head()"
   ]
  },
  {
   "cell_type": "code",
   "execution_count": 113,
   "id": "8bb51b33",
   "metadata": {},
   "outputs": [
    {
     "data": {
      "text/plain": [
       "stroke\n",
       "0    14672\n",
       "1      632\n",
       "Name: count, dtype: int64"
      ]
     },
     "execution_count": 113,
     "metadata": {},
     "output_type": "execute_result"
    }
   ],
   "source": [
    "data[\"stroke\"].value_counts()"
   ]
  },
  {
   "cell_type": "code",
   "execution_count": 114,
   "id": "c80eff12",
   "metadata": {},
   "outputs": [
    {
     "data": {
      "text/plain": [
       "id                   0\n",
       "gender               0\n",
       "age                  0\n",
       "hypertension         0\n",
       "heart_disease        0\n",
       "ever_married         0\n",
       "work_type            0\n",
       "Residence_type       0\n",
       "avg_glucose_level    0\n",
       "bmi                  0\n",
       "smoking_status       0\n",
       "stroke               0\n",
       "dtype: int64"
      ]
     },
     "execution_count": 114,
     "metadata": {},
     "output_type": "execute_result"
    }
   ],
   "source": [
    "# missing values\n",
    "data.isnull().sum()"
   ]
  },
  {
   "cell_type": "code",
   "execution_count": 115,
   "id": "75ad42ae",
   "metadata": {},
   "outputs": [
    {
     "name": "stdout",
     "output_type": "stream",
     "text": [
      "<class 'pandas.core.frame.DataFrame'>\n",
      "RangeIndex: 15304 entries, 0 to 15303\n",
      "Data columns (total 12 columns):\n",
      " #   Column             Non-Null Count  Dtype  \n",
      "---  ------             --------------  -----  \n",
      " 0   id                 15304 non-null  int64  \n",
      " 1   gender             15304 non-null  object \n",
      " 2   age                15304 non-null  float64\n",
      " 3   hypertension       15304 non-null  int64  \n",
      " 4   heart_disease      15304 non-null  int64  \n",
      " 5   ever_married       15304 non-null  object \n",
      " 6   work_type          15304 non-null  object \n",
      " 7   Residence_type     15304 non-null  object \n",
      " 8   avg_glucose_level  15304 non-null  float64\n",
      " 9   bmi                15304 non-null  float64\n",
      " 10  smoking_status     15304 non-null  object \n",
      " 11  stroke             15304 non-null  int64  \n",
      "dtypes: float64(3), int64(4), object(5)\n",
      "memory usage: 1.4+ MB\n"
     ]
    }
   ],
   "source": [
    "data.info()"
   ]
  },
  {
   "cell_type": "code",
   "execution_count": 116,
   "id": "043234e0",
   "metadata": {},
   "outputs": [
    {
     "data": {
      "text/html": [
       "<div>\n",
       "<style scoped>\n",
       "    .dataframe tbody tr th:only-of-type {\n",
       "        vertical-align: middle;\n",
       "    }\n",
       "\n",
       "    .dataframe tbody tr th {\n",
       "        vertical-align: top;\n",
       "    }\n",
       "\n",
       "    .dataframe thead th {\n",
       "        text-align: right;\n",
       "    }\n",
       "</style>\n",
       "<table border=\"1\" class=\"dataframe\">\n",
       "  <thead>\n",
       "    <tr style=\"text-align: right;\">\n",
       "      <th></th>\n",
       "      <th>id</th>\n",
       "      <th>gender</th>\n",
       "      <th>age</th>\n",
       "      <th>hypertension</th>\n",
       "      <th>heart_disease</th>\n",
       "      <th>ever_married</th>\n",
       "      <th>work_type</th>\n",
       "      <th>Residence_type</th>\n",
       "      <th>avg_glucose_level</th>\n",
       "      <th>bmi</th>\n",
       "      <th>smoking_status</th>\n",
       "      <th>stroke</th>\n",
       "    </tr>\n",
       "  </thead>\n",
       "  <tbody>\n",
       "    <tr>\n",
       "      <th>9446</th>\n",
       "      <td>9446</td>\n",
       "      <td>Male</td>\n",
       "      <td>72.0</td>\n",
       "      <td>0</td>\n",
       "      <td>1</td>\n",
       "      <td>Yes</td>\n",
       "      <td>Self-employed</td>\n",
       "      <td>Rural</td>\n",
       "      <td>59.61</td>\n",
       "      <td>34.7</td>\n",
       "      <td>smokes</td>\n",
       "      <td>1</td>\n",
       "    </tr>\n",
       "    <tr>\n",
       "      <th>6121</th>\n",
       "      <td>6121</td>\n",
       "      <td>Male</td>\n",
       "      <td>27.0</td>\n",
       "      <td>0</td>\n",
       "      <td>0</td>\n",
       "      <td>No</td>\n",
       "      <td>Private</td>\n",
       "      <td>Rural</td>\n",
       "      <td>116.66</td>\n",
       "      <td>30.9</td>\n",
       "      <td>formerly smoked</td>\n",
       "      <td>0</td>\n",
       "    </tr>\n",
       "    <tr>\n",
       "      <th>6479</th>\n",
       "      <td>6479</td>\n",
       "      <td>Female</td>\n",
       "      <td>44.0</td>\n",
       "      <td>0</td>\n",
       "      <td>0</td>\n",
       "      <td>Yes</td>\n",
       "      <td>Private</td>\n",
       "      <td>Rural</td>\n",
       "      <td>72.03</td>\n",
       "      <td>23.1</td>\n",
       "      <td>never smoked</td>\n",
       "      <td>0</td>\n",
       "    </tr>\n",
       "    <tr>\n",
       "      <th>2146</th>\n",
       "      <td>2146</td>\n",
       "      <td>Female</td>\n",
       "      <td>20.0</td>\n",
       "      <td>0</td>\n",
       "      <td>0</td>\n",
       "      <td>No</td>\n",
       "      <td>Self-employed</td>\n",
       "      <td>Rural</td>\n",
       "      <td>85.84</td>\n",
       "      <td>23.8</td>\n",
       "      <td>never smoked</td>\n",
       "      <td>0</td>\n",
       "    </tr>\n",
       "    <tr>\n",
       "      <th>12427</th>\n",
       "      <td>12427</td>\n",
       "      <td>Male</td>\n",
       "      <td>58.0</td>\n",
       "      <td>0</td>\n",
       "      <td>0</td>\n",
       "      <td>Yes</td>\n",
       "      <td>Private</td>\n",
       "      <td>Rural</td>\n",
       "      <td>81.54</td>\n",
       "      <td>25.7</td>\n",
       "      <td>smokes</td>\n",
       "      <td>0</td>\n",
       "    </tr>\n",
       "    <tr>\n",
       "      <th>8509</th>\n",
       "      <td>8509</td>\n",
       "      <td>Female</td>\n",
       "      <td>1.8</td>\n",
       "      <td>0</td>\n",
       "      <td>0</td>\n",
       "      <td>No</td>\n",
       "      <td>children</td>\n",
       "      <td>Rural</td>\n",
       "      <td>82.48</td>\n",
       "      <td>19.1</td>\n",
       "      <td>Unknown</td>\n",
       "      <td>0</td>\n",
       "    </tr>\n",
       "    <tr>\n",
       "      <th>11544</th>\n",
       "      <td>11544</td>\n",
       "      <td>Female</td>\n",
       "      <td>53.0</td>\n",
       "      <td>0</td>\n",
       "      <td>0</td>\n",
       "      <td>Yes</td>\n",
       "      <td>Govt_job</td>\n",
       "      <td>Rural</td>\n",
       "      <td>83.84</td>\n",
       "      <td>32.1</td>\n",
       "      <td>Unknown</td>\n",
       "      <td>0</td>\n",
       "    </tr>\n",
       "    <tr>\n",
       "      <th>1165</th>\n",
       "      <td>1165</td>\n",
       "      <td>Male</td>\n",
       "      <td>71.0</td>\n",
       "      <td>1</td>\n",
       "      <td>1</td>\n",
       "      <td>Yes</td>\n",
       "      <td>Private</td>\n",
       "      <td>Rural</td>\n",
       "      <td>197.09</td>\n",
       "      <td>28.3</td>\n",
       "      <td>formerly smoked</td>\n",
       "      <td>0</td>\n",
       "    </tr>\n",
       "    <tr>\n",
       "      <th>2676</th>\n",
       "      <td>2676</td>\n",
       "      <td>Female</td>\n",
       "      <td>64.0</td>\n",
       "      <td>0</td>\n",
       "      <td>0</td>\n",
       "      <td>Yes</td>\n",
       "      <td>Govt_job</td>\n",
       "      <td>Rural</td>\n",
       "      <td>84.21</td>\n",
       "      <td>39.2</td>\n",
       "      <td>smokes</td>\n",
       "      <td>0</td>\n",
       "    </tr>\n",
       "    <tr>\n",
       "      <th>10372</th>\n",
       "      <td>10372</td>\n",
       "      <td>Female</td>\n",
       "      <td>53.0</td>\n",
       "      <td>0</td>\n",
       "      <td>0</td>\n",
       "      <td>Yes</td>\n",
       "      <td>Self-employed</td>\n",
       "      <td>Urban</td>\n",
       "      <td>113.41</td>\n",
       "      <td>32.4</td>\n",
       "      <td>Unknown</td>\n",
       "      <td>0</td>\n",
       "    </tr>\n",
       "  </tbody>\n",
       "</table>\n",
       "</div>"
      ],
      "text/plain": [
       "          id  gender   age  hypertension  heart_disease ever_married  \\\n",
       "9446    9446    Male  72.0             0              1          Yes   \n",
       "6121    6121    Male  27.0             0              0           No   \n",
       "6479    6479  Female  44.0             0              0          Yes   \n",
       "2146    2146  Female  20.0             0              0           No   \n",
       "12427  12427    Male  58.0             0              0          Yes   \n",
       "8509    8509  Female   1.8             0              0           No   \n",
       "11544  11544  Female  53.0             0              0          Yes   \n",
       "1165    1165    Male  71.0             1              1          Yes   \n",
       "2676    2676  Female  64.0             0              0          Yes   \n",
       "10372  10372  Female  53.0             0              0          Yes   \n",
       "\n",
       "           work_type Residence_type  avg_glucose_level   bmi   smoking_status  \\\n",
       "9446   Self-employed          Rural              59.61  34.7           smokes   \n",
       "6121         Private          Rural             116.66  30.9  formerly smoked   \n",
       "6479         Private          Rural              72.03  23.1     never smoked   \n",
       "2146   Self-employed          Rural              85.84  23.8     never smoked   \n",
       "12427        Private          Rural              81.54  25.7           smokes   \n",
       "8509        children          Rural              82.48  19.1          Unknown   \n",
       "11544       Govt_job          Rural              83.84  32.1          Unknown   \n",
       "1165         Private          Rural             197.09  28.3  formerly smoked   \n",
       "2676        Govt_job          Rural              84.21  39.2           smokes   \n",
       "10372  Self-employed          Urban             113.41  32.4          Unknown   \n",
       "\n",
       "       stroke  \n",
       "9446        1  \n",
       "6121        0  \n",
       "6479        0  \n",
       "2146        0  \n",
       "12427       0  \n",
       "8509        0  \n",
       "11544       0  \n",
       "1165        0  \n",
       "2676        0  \n",
       "10372       0  "
      ]
     },
     "execution_count": 116,
     "metadata": {},
     "output_type": "execute_result"
    }
   ],
   "source": [
    "data.sample(10)"
   ]
  },
  {
   "cell_type": "code",
   "execution_count": 117,
   "id": "54408d73",
   "metadata": {},
   "outputs": [
    {
     "data": {
      "text/html": [
       "<div>\n",
       "<style scoped>\n",
       "    .dataframe tbody tr th:only-of-type {\n",
       "        vertical-align: middle;\n",
       "    }\n",
       "\n",
       "    .dataframe tbody tr th {\n",
       "        vertical-align: top;\n",
       "    }\n",
       "\n",
       "    .dataframe thead th {\n",
       "        text-align: right;\n",
       "    }\n",
       "</style>\n",
       "<table border=\"1\" class=\"dataframe\">\n",
       "  <thead>\n",
       "    <tr style=\"text-align: right;\">\n",
       "      <th></th>\n",
       "      <th>gender</th>\n",
       "      <th>age</th>\n",
       "      <th>hypertension</th>\n",
       "      <th>heart_disease</th>\n",
       "      <th>ever_married</th>\n",
       "      <th>work_type</th>\n",
       "      <th>Residence_type</th>\n",
       "      <th>avg_glucose_level</th>\n",
       "      <th>bmi</th>\n",
       "      <th>smoking_status</th>\n",
       "      <th>stroke</th>\n",
       "    </tr>\n",
       "  </thead>\n",
       "  <tbody>\n",
       "    <tr>\n",
       "      <th>14559</th>\n",
       "      <td>Male</td>\n",
       "      <td>17.0</td>\n",
       "      <td>0</td>\n",
       "      <td>0</td>\n",
       "      <td>No</td>\n",
       "      <td>Private</td>\n",
       "      <td>Urban</td>\n",
       "      <td>98.56</td>\n",
       "      <td>23.6</td>\n",
       "      <td>Unknown</td>\n",
       "      <td>0</td>\n",
       "    </tr>\n",
       "    <tr>\n",
       "      <th>11347</th>\n",
       "      <td>Female</td>\n",
       "      <td>79.0</td>\n",
       "      <td>0</td>\n",
       "      <td>0</td>\n",
       "      <td>No</td>\n",
       "      <td>Self-employed</td>\n",
       "      <td>Urban</td>\n",
       "      <td>79.63</td>\n",
       "      <td>21.7</td>\n",
       "      <td>Unknown</td>\n",
       "      <td>1</td>\n",
       "    </tr>\n",
       "    <tr>\n",
       "      <th>3597</th>\n",
       "      <td>Male</td>\n",
       "      <td>42.0</td>\n",
       "      <td>0</td>\n",
       "      <td>0</td>\n",
       "      <td>Yes</td>\n",
       "      <td>Private</td>\n",
       "      <td>Rural</td>\n",
       "      <td>107.50</td>\n",
       "      <td>54.0</td>\n",
       "      <td>Unknown</td>\n",
       "      <td>0</td>\n",
       "    </tr>\n",
       "    <tr>\n",
       "      <th>4425</th>\n",
       "      <td>Female</td>\n",
       "      <td>36.0</td>\n",
       "      <td>0</td>\n",
       "      <td>0</td>\n",
       "      <td>No</td>\n",
       "      <td>Govt_job</td>\n",
       "      <td>Urban</td>\n",
       "      <td>67.02</td>\n",
       "      <td>25.5</td>\n",
       "      <td>smokes</td>\n",
       "      <td>0</td>\n",
       "    </tr>\n",
       "    <tr>\n",
       "      <th>11215</th>\n",
       "      <td>Female</td>\n",
       "      <td>37.0</td>\n",
       "      <td>0</td>\n",
       "      <td>0</td>\n",
       "      <td>Yes</td>\n",
       "      <td>Private</td>\n",
       "      <td>Rural</td>\n",
       "      <td>79.83</td>\n",
       "      <td>27.5</td>\n",
       "      <td>never smoked</td>\n",
       "      <td>0</td>\n",
       "    </tr>\n",
       "    <tr>\n",
       "      <th>8741</th>\n",
       "      <td>Female</td>\n",
       "      <td>65.0</td>\n",
       "      <td>0</td>\n",
       "      <td>0</td>\n",
       "      <td>Yes</td>\n",
       "      <td>Private</td>\n",
       "      <td>Urban</td>\n",
       "      <td>78.73</td>\n",
       "      <td>23.9</td>\n",
       "      <td>never smoked</td>\n",
       "      <td>0</td>\n",
       "    </tr>\n",
       "    <tr>\n",
       "      <th>11331</th>\n",
       "      <td>Female</td>\n",
       "      <td>26.0</td>\n",
       "      <td>0</td>\n",
       "      <td>0</td>\n",
       "      <td>Yes</td>\n",
       "      <td>Private</td>\n",
       "      <td>Rural</td>\n",
       "      <td>69.77</td>\n",
       "      <td>23.2</td>\n",
       "      <td>Unknown</td>\n",
       "      <td>0</td>\n",
       "    </tr>\n",
       "    <tr>\n",
       "      <th>14822</th>\n",
       "      <td>Male</td>\n",
       "      <td>47.0</td>\n",
       "      <td>0</td>\n",
       "      <td>0</td>\n",
       "      <td>Yes</td>\n",
       "      <td>Self-employed</td>\n",
       "      <td>Rural</td>\n",
       "      <td>70.71</td>\n",
       "      <td>25.4</td>\n",
       "      <td>never smoked</td>\n",
       "      <td>0</td>\n",
       "    </tr>\n",
       "    <tr>\n",
       "      <th>9176</th>\n",
       "      <td>Male</td>\n",
       "      <td>52.0</td>\n",
       "      <td>0</td>\n",
       "      <td>0</td>\n",
       "      <td>Yes</td>\n",
       "      <td>Govt_job</td>\n",
       "      <td>Urban</td>\n",
       "      <td>70.32</td>\n",
       "      <td>25.4</td>\n",
       "      <td>never smoked</td>\n",
       "      <td>0</td>\n",
       "    </tr>\n",
       "    <tr>\n",
       "      <th>10771</th>\n",
       "      <td>Female</td>\n",
       "      <td>40.0</td>\n",
       "      <td>0</td>\n",
       "      <td>0</td>\n",
       "      <td>No</td>\n",
       "      <td>Private</td>\n",
       "      <td>Rural</td>\n",
       "      <td>70.65</td>\n",
       "      <td>37.3</td>\n",
       "      <td>formerly smoked</td>\n",
       "      <td>0</td>\n",
       "    </tr>\n",
       "  </tbody>\n",
       "</table>\n",
       "</div>"
      ],
      "text/plain": [
       "       gender   age  hypertension  heart_disease ever_married      work_type  \\\n",
       "14559    Male  17.0             0              0           No        Private   \n",
       "11347  Female  79.0             0              0           No  Self-employed   \n",
       "3597     Male  42.0             0              0          Yes        Private   \n",
       "4425   Female  36.0             0              0           No       Govt_job   \n",
       "11215  Female  37.0             0              0          Yes        Private   \n",
       "8741   Female  65.0             0              0          Yes        Private   \n",
       "11331  Female  26.0             0              0          Yes        Private   \n",
       "14822    Male  47.0             0              0          Yes  Self-employed   \n",
       "9176     Male  52.0             0              0          Yes       Govt_job   \n",
       "10771  Female  40.0             0              0           No        Private   \n",
       "\n",
       "      Residence_type  avg_glucose_level   bmi   smoking_status  stroke  \n",
       "14559          Urban              98.56  23.6          Unknown       0  \n",
       "11347          Urban              79.63  21.7          Unknown       1  \n",
       "3597           Rural             107.50  54.0          Unknown       0  \n",
       "4425           Urban              67.02  25.5           smokes       0  \n",
       "11215          Rural              79.83  27.5     never smoked       0  \n",
       "8741           Urban              78.73  23.9     never smoked       0  \n",
       "11331          Rural              69.77  23.2          Unknown       0  \n",
       "14822          Rural              70.71  25.4     never smoked       0  \n",
       "9176           Urban              70.32  25.4     never smoked       0  \n",
       "10771          Rural              70.65  37.3  formerly smoked       0  "
      ]
     },
     "execution_count": 117,
     "metadata": {},
     "output_type": "execute_result"
    }
   ],
   "source": [
    "data = data.drop(\"id\", axis=1)\n",
    "data.sample(10)"
   ]
  },
  {
   "cell_type": "code",
   "execution_count": 118,
   "id": "bfc23952",
   "metadata": {},
   "outputs": [
    {
     "data": {
      "text/plain": [
       "work_type\n",
       "Private          9752\n",
       "children         2038\n",
       "Self-employed    1939\n",
       "Govt_job         1533\n",
       "Never_worked       42\n",
       "Name: count, dtype: int64"
      ]
     },
     "execution_count": 118,
     "metadata": {},
     "output_type": "execute_result"
    }
   ],
   "source": [
    "data[\"work_type\"].value_counts()"
   ]
  },
  {
   "cell_type": "code",
   "execution_count": 119,
   "id": "5b07b915",
   "metadata": {},
   "outputs": [
    {
     "data": {
      "text/plain": [
       "smoking_status\n",
       "never smoked       6281\n",
       "Unknown            4543\n",
       "formerly smoked    2337\n",
       "smokes             2143\n",
       "Name: count, dtype: int64"
      ]
     },
     "execution_count": 119,
     "metadata": {},
     "output_type": "execute_result"
    }
   ],
   "source": [
    "data[\"smoking_status\"].value_counts()"
   ]
  },
  {
   "cell_type": "code",
   "execution_count": 120,
   "id": "d710d128",
   "metadata": {},
   "outputs": [
    {
     "data": {
      "text/plain": [
       "Residence_type\n",
       "Rural    7664\n",
       "Urban    7640\n",
       "Name: count, dtype: int64"
      ]
     },
     "execution_count": 120,
     "metadata": {},
     "output_type": "execute_result"
    }
   ],
   "source": [
    "data[\"Residence_type\"].value_counts()"
   ]
  },
  {
   "cell_type": "code",
   "execution_count": 121,
   "id": "fadd3387",
   "metadata": {},
   "outputs": [
    {
     "data": {
      "text/html": [
       "<div>\n",
       "<style scoped>\n",
       "    .dataframe tbody tr th:only-of-type {\n",
       "        vertical-align: middle;\n",
       "    }\n",
       "\n",
       "    .dataframe tbody tr th {\n",
       "        vertical-align: top;\n",
       "    }\n",
       "\n",
       "    .dataframe thead th {\n",
       "        text-align: right;\n",
       "    }\n",
       "</style>\n",
       "<table border=\"1\" class=\"dataframe\">\n",
       "  <thead>\n",
       "    <tr style=\"text-align: right;\">\n",
       "      <th></th>\n",
       "      <th>gender</th>\n",
       "      <th>age</th>\n",
       "      <th>hypertension</th>\n",
       "      <th>heart_disease</th>\n",
       "      <th>ever_married</th>\n",
       "      <th>work_type</th>\n",
       "      <th>Residence_type</th>\n",
       "      <th>avg_glucose_level</th>\n",
       "      <th>bmi</th>\n",
       "      <th>smoking_status</th>\n",
       "      <th>stroke</th>\n",
       "    </tr>\n",
       "  </thead>\n",
       "  <tbody>\n",
       "    <tr>\n",
       "      <th>581</th>\n",
       "      <td>Male</td>\n",
       "      <td>63.0</td>\n",
       "      <td>0</td>\n",
       "      <td>0</td>\n",
       "      <td>Yes</td>\n",
       "      <td>Private</td>\n",
       "      <td>Rural</td>\n",
       "      <td>75.52</td>\n",
       "      <td>31.2</td>\n",
       "      <td>formerly smoked</td>\n",
       "      <td>0</td>\n",
       "    </tr>\n",
       "    <tr>\n",
       "      <th>9312</th>\n",
       "      <td>Female</td>\n",
       "      <td>34.0</td>\n",
       "      <td>0</td>\n",
       "      <td>0</td>\n",
       "      <td>No</td>\n",
       "      <td>Govt_job</td>\n",
       "      <td>Rural</td>\n",
       "      <td>74.01</td>\n",
       "      <td>20.0</td>\n",
       "      <td>never smoked</td>\n",
       "      <td>0</td>\n",
       "    </tr>\n",
       "    <tr>\n",
       "      <th>11799</th>\n",
       "      <td>Male</td>\n",
       "      <td>45.0</td>\n",
       "      <td>0</td>\n",
       "      <td>0</td>\n",
       "      <td>Yes</td>\n",
       "      <td>Private</td>\n",
       "      <td>Rural</td>\n",
       "      <td>104.55</td>\n",
       "      <td>18.9</td>\n",
       "      <td>formerly smoked</td>\n",
       "      <td>0</td>\n",
       "    </tr>\n",
       "    <tr>\n",
       "      <th>1713</th>\n",
       "      <td>Female</td>\n",
       "      <td>65.0</td>\n",
       "      <td>0</td>\n",
       "      <td>0</td>\n",
       "      <td>Yes</td>\n",
       "      <td>Self-employed</td>\n",
       "      <td>Rural</td>\n",
       "      <td>82.84</td>\n",
       "      <td>33.0</td>\n",
       "      <td>never smoked</td>\n",
       "      <td>0</td>\n",
       "    </tr>\n",
       "    <tr>\n",
       "      <th>14959</th>\n",
       "      <td>Female</td>\n",
       "      <td>80.0</td>\n",
       "      <td>0</td>\n",
       "      <td>0</td>\n",
       "      <td>Yes</td>\n",
       "      <td>Self-employed</td>\n",
       "      <td>Rural</td>\n",
       "      <td>91.02</td>\n",
       "      <td>34.1</td>\n",
       "      <td>never smoked</td>\n",
       "      <td>1</td>\n",
       "    </tr>\n",
       "    <tr>\n",
       "      <th>1845</th>\n",
       "      <td>Male</td>\n",
       "      <td>45.0</td>\n",
       "      <td>0</td>\n",
       "      <td>0</td>\n",
       "      <td>No</td>\n",
       "      <td>Govt_job</td>\n",
       "      <td>Urban</td>\n",
       "      <td>70.23</td>\n",
       "      <td>23.3</td>\n",
       "      <td>never smoked</td>\n",
       "      <td>0</td>\n",
       "    </tr>\n",
       "    <tr>\n",
       "      <th>1397</th>\n",
       "      <td>Male</td>\n",
       "      <td>18.0</td>\n",
       "      <td>0</td>\n",
       "      <td>0</td>\n",
       "      <td>No</td>\n",
       "      <td>Private</td>\n",
       "      <td>Urban</td>\n",
       "      <td>79.89</td>\n",
       "      <td>23.6</td>\n",
       "      <td>Unknown</td>\n",
       "      <td>0</td>\n",
       "    </tr>\n",
       "    <tr>\n",
       "      <th>8541</th>\n",
       "      <td>Female</td>\n",
       "      <td>80.0</td>\n",
       "      <td>0</td>\n",
       "      <td>0</td>\n",
       "      <td>Yes</td>\n",
       "      <td>Private</td>\n",
       "      <td>Rural</td>\n",
       "      <td>80.96</td>\n",
       "      <td>22.0</td>\n",
       "      <td>never smoked</td>\n",
       "      <td>0</td>\n",
       "    </tr>\n",
       "    <tr>\n",
       "      <th>7461</th>\n",
       "      <td>Female</td>\n",
       "      <td>57.0</td>\n",
       "      <td>0</td>\n",
       "      <td>0</td>\n",
       "      <td>Yes</td>\n",
       "      <td>Self-employed</td>\n",
       "      <td>Urban</td>\n",
       "      <td>89.81</td>\n",
       "      <td>24.4</td>\n",
       "      <td>formerly smoked</td>\n",
       "      <td>0</td>\n",
       "    </tr>\n",
       "    <tr>\n",
       "      <th>12440</th>\n",
       "      <td>Female</td>\n",
       "      <td>31.0</td>\n",
       "      <td>0</td>\n",
       "      <td>0</td>\n",
       "      <td>Yes</td>\n",
       "      <td>Private</td>\n",
       "      <td>Urban</td>\n",
       "      <td>62.64</td>\n",
       "      <td>18.6</td>\n",
       "      <td>smokes</td>\n",
       "      <td>0</td>\n",
       "    </tr>\n",
       "  </tbody>\n",
       "</table>\n",
       "</div>"
      ],
      "text/plain": [
       "       gender   age  hypertension  heart_disease ever_married      work_type  \\\n",
       "581      Male  63.0             0              0          Yes        Private   \n",
       "9312   Female  34.0             0              0           No       Govt_job   \n",
       "11799    Male  45.0             0              0          Yes        Private   \n",
       "1713   Female  65.0             0              0          Yes  Self-employed   \n",
       "14959  Female  80.0             0              0          Yes  Self-employed   \n",
       "1845     Male  45.0             0              0           No       Govt_job   \n",
       "1397     Male  18.0             0              0           No        Private   \n",
       "8541   Female  80.0             0              0          Yes        Private   \n",
       "7461   Female  57.0             0              0          Yes  Self-employed   \n",
       "12440  Female  31.0             0              0          Yes        Private   \n",
       "\n",
       "      Residence_type  avg_glucose_level   bmi   smoking_status  stroke  \n",
       "581            Rural              75.52  31.2  formerly smoked       0  \n",
       "9312           Rural              74.01  20.0     never smoked       0  \n",
       "11799          Rural             104.55  18.9  formerly smoked       0  \n",
       "1713           Rural              82.84  33.0     never smoked       0  \n",
       "14959          Rural              91.02  34.1     never smoked       1  \n",
       "1845           Urban              70.23  23.3     never smoked       0  \n",
       "1397           Urban              79.89  23.6          Unknown       0  \n",
       "8541           Rural              80.96  22.0     never smoked       0  \n",
       "7461           Urban              89.81  24.4  formerly smoked       0  \n",
       "12440          Urban              62.64  18.6           smokes       0  "
      ]
     },
     "execution_count": 121,
     "metadata": {},
     "output_type": "execute_result"
    }
   ],
   "source": [
    "data.sample(10)"
   ]
  },
  {
   "cell_type": "code",
   "execution_count": 122,
   "id": "9aad2bed",
   "metadata": {},
   "outputs": [
    {
     "data": {
      "text/plain": [
       "<bound method Series.unique of 0        28.0\n",
       "1        33.0\n",
       "2        42.0\n",
       "3        56.0\n",
       "4        24.0\n",
       "         ... \n",
       "15299    22.0\n",
       "15300    46.0\n",
       "15301    75.0\n",
       "15302    46.0\n",
       "15303    14.0\n",
       "Name: age, Length: 15304, dtype: float64>"
      ]
     },
     "execution_count": 122,
     "metadata": {},
     "output_type": "execute_result"
    }
   ],
   "source": [
    "data[\"age\"].unique"
   ]
  },
  {
   "cell_type": "code",
   "execution_count": 123,
   "id": "85d8af1b",
   "metadata": {},
   "outputs": [
    {
     "data": {
      "text/plain": [
       "gender\n",
       "Female    9446\n",
       "Male      5857\n",
       "Other        1\n",
       "Name: count, dtype: int64"
      ]
     },
     "execution_count": 123,
     "metadata": {},
     "output_type": "execute_result"
    }
   ],
   "source": [
    "data[\"gender\"].value_counts()"
   ]
  },
  {
   "cell_type": "code",
   "execution_count": 124,
   "id": "52fc1990",
   "metadata": {},
   "outputs": [
    {
     "data": {
      "text/plain": [
       "<bound method Series.unique of 0         79.53\n",
       "1         78.44\n",
       "2        103.00\n",
       "3         64.87\n",
       "4         73.36\n",
       "          ...  \n",
       "15299     72.63\n",
       "15300    101.19\n",
       "15301     87.69\n",
       "15302    101.13\n",
       "15303     85.12\n",
       "Name: avg_glucose_level, Length: 15304, dtype: float64>"
      ]
     },
     "execution_count": 124,
     "metadata": {},
     "output_type": "execute_result"
    }
   ],
   "source": [
    "data[\"avg_glucose_level\"].unique"
   ]
  },
  {
   "cell_type": "code",
   "execution_count": 125,
   "id": "7cebcd78",
   "metadata": {},
   "outputs": [
    {
     "data": {
      "text/plain": [
       "<bound method Series.unique of 0        31.1\n",
       "1        23.9\n",
       "2        40.3\n",
       "3        28.8\n",
       "4        28.8\n",
       "         ... \n",
       "15299    19.5\n",
       "15300    32.1\n",
       "15301    26.2\n",
       "15302    22.5\n",
       "15303    24.7\n",
       "Name: bmi, Length: 15304, dtype: float64>"
      ]
     },
     "execution_count": 125,
     "metadata": {},
     "output_type": "execute_result"
    }
   ],
   "source": [
    "data[\"bmi\"].unique"
   ]
  },
  {
   "cell_type": "code",
   "execution_count": 126,
   "id": "d956db05",
   "metadata": {},
   "outputs": [
    {
     "data": {
      "text/plain": [
       "smoking_status\n",
       "never smoked       6281\n",
       "Unknown            4543\n",
       "formerly smoked    2337\n",
       "smokes             2143\n",
       "Name: count, dtype: int64"
      ]
     },
     "execution_count": 126,
     "metadata": {},
     "output_type": "execute_result"
    }
   ],
   "source": [
    "data[\"smoking_status\"].value_counts()"
   ]
  },
  {
   "cell_type": "code",
   "execution_count": 127,
   "id": "60626ebb",
   "metadata": {},
   "outputs": [
    {
     "data": {
      "text/html": [
       "<div>\n",
       "<style scoped>\n",
       "    .dataframe tbody tr th:only-of-type {\n",
       "        vertical-align: middle;\n",
       "    }\n",
       "\n",
       "    .dataframe tbody tr th {\n",
       "        vertical-align: top;\n",
       "    }\n",
       "\n",
       "    .dataframe thead th {\n",
       "        text-align: right;\n",
       "    }\n",
       "</style>\n",
       "<table border=\"1\" class=\"dataframe\">\n",
       "  <thead>\n",
       "    <tr style=\"text-align: right;\">\n",
       "      <th></th>\n",
       "      <th>gender</th>\n",
       "      <th>age</th>\n",
       "      <th>hypertension</th>\n",
       "      <th>heart_disease</th>\n",
       "      <th>ever_married</th>\n",
       "      <th>work_type</th>\n",
       "      <th>Residence_type</th>\n",
       "      <th>avg_glucose_level</th>\n",
       "      <th>bmi</th>\n",
       "      <th>smoking_status</th>\n",
       "      <th>stroke</th>\n",
       "    </tr>\n",
       "  </thead>\n",
       "  <tbody>\n",
       "    <tr>\n",
       "      <th>14674</th>\n",
       "      <td>Female</td>\n",
       "      <td>26.0</td>\n",
       "      <td>0</td>\n",
       "      <td>0</td>\n",
       "      <td>Yes</td>\n",
       "      <td>Private</td>\n",
       "      <td>Rural</td>\n",
       "      <td>88.79</td>\n",
       "      <td>38.1</td>\n",
       "      <td>Unknown</td>\n",
       "      <td>0</td>\n",
       "    </tr>\n",
       "    <tr>\n",
       "      <th>1135</th>\n",
       "      <td>Female</td>\n",
       "      <td>56.0</td>\n",
       "      <td>0</td>\n",
       "      <td>0</td>\n",
       "      <td>Yes</td>\n",
       "      <td>Private</td>\n",
       "      <td>Rural</td>\n",
       "      <td>102.97</td>\n",
       "      <td>28.2</td>\n",
       "      <td>never smoked</td>\n",
       "      <td>0</td>\n",
       "    </tr>\n",
       "    <tr>\n",
       "      <th>12574</th>\n",
       "      <td>Female</td>\n",
       "      <td>26.0</td>\n",
       "      <td>0</td>\n",
       "      <td>0</td>\n",
       "      <td>No</td>\n",
       "      <td>Private</td>\n",
       "      <td>Rural</td>\n",
       "      <td>85.27</td>\n",
       "      <td>24.0</td>\n",
       "      <td>never smoked</td>\n",
       "      <td>0</td>\n",
       "    </tr>\n",
       "    <tr>\n",
       "      <th>911</th>\n",
       "      <td>Female</td>\n",
       "      <td>24.0</td>\n",
       "      <td>0</td>\n",
       "      <td>0</td>\n",
       "      <td>Yes</td>\n",
       "      <td>Private</td>\n",
       "      <td>Urban</td>\n",
       "      <td>60.55</td>\n",
       "      <td>23.3</td>\n",
       "      <td>never smoked</td>\n",
       "      <td>0</td>\n",
       "    </tr>\n",
       "    <tr>\n",
       "      <th>12894</th>\n",
       "      <td>Female</td>\n",
       "      <td>70.0</td>\n",
       "      <td>1</td>\n",
       "      <td>0</td>\n",
       "      <td>Yes</td>\n",
       "      <td>Private</td>\n",
       "      <td>Urban</td>\n",
       "      <td>71.63</td>\n",
       "      <td>27.8</td>\n",
       "      <td>never smoked</td>\n",
       "      <td>0</td>\n",
       "    </tr>\n",
       "    <tr>\n",
       "      <th>13044</th>\n",
       "      <td>Female</td>\n",
       "      <td>30.0</td>\n",
       "      <td>0</td>\n",
       "      <td>0</td>\n",
       "      <td>Yes</td>\n",
       "      <td>Private</td>\n",
       "      <td>Urban</td>\n",
       "      <td>115.23</td>\n",
       "      <td>28.2</td>\n",
       "      <td>never smoked</td>\n",
       "      <td>0</td>\n",
       "    </tr>\n",
       "    <tr>\n",
       "      <th>6172</th>\n",
       "      <td>Female</td>\n",
       "      <td>31.0</td>\n",
       "      <td>0</td>\n",
       "      <td>0</td>\n",
       "      <td>No</td>\n",
       "      <td>Private</td>\n",
       "      <td>Urban</td>\n",
       "      <td>131.43</td>\n",
       "      <td>45.0</td>\n",
       "      <td>smokes</td>\n",
       "      <td>0</td>\n",
       "    </tr>\n",
       "    <tr>\n",
       "      <th>11119</th>\n",
       "      <td>Male</td>\n",
       "      <td>37.0</td>\n",
       "      <td>0</td>\n",
       "      <td>0</td>\n",
       "      <td>Yes</td>\n",
       "      <td>Private</td>\n",
       "      <td>Urban</td>\n",
       "      <td>134.39</td>\n",
       "      <td>22.7</td>\n",
       "      <td>Unknown</td>\n",
       "      <td>0</td>\n",
       "    </tr>\n",
       "    <tr>\n",
       "      <th>6324</th>\n",
       "      <td>Male</td>\n",
       "      <td>50.0</td>\n",
       "      <td>0</td>\n",
       "      <td>0</td>\n",
       "      <td>Yes</td>\n",
       "      <td>Govt_job</td>\n",
       "      <td>Rural</td>\n",
       "      <td>99.96</td>\n",
       "      <td>40.2</td>\n",
       "      <td>never smoked</td>\n",
       "      <td>0</td>\n",
       "    </tr>\n",
       "    <tr>\n",
       "      <th>13967</th>\n",
       "      <td>Male</td>\n",
       "      <td>5.0</td>\n",
       "      <td>0</td>\n",
       "      <td>0</td>\n",
       "      <td>No</td>\n",
       "      <td>children</td>\n",
       "      <td>Rural</td>\n",
       "      <td>80.07</td>\n",
       "      <td>18.1</td>\n",
       "      <td>Unknown</td>\n",
       "      <td>0</td>\n",
       "    </tr>\n",
       "  </tbody>\n",
       "</table>\n",
       "</div>"
      ],
      "text/plain": [
       "       gender   age  hypertension  heart_disease ever_married work_type  \\\n",
       "14674  Female  26.0             0              0          Yes   Private   \n",
       "1135   Female  56.0             0              0          Yes   Private   \n",
       "12574  Female  26.0             0              0           No   Private   \n",
       "911    Female  24.0             0              0          Yes   Private   \n",
       "12894  Female  70.0             1              0          Yes   Private   \n",
       "13044  Female  30.0             0              0          Yes   Private   \n",
       "6172   Female  31.0             0              0           No   Private   \n",
       "11119    Male  37.0             0              0          Yes   Private   \n",
       "6324     Male  50.0             0              0          Yes  Govt_job   \n",
       "13967    Male   5.0             0              0           No  children   \n",
       "\n",
       "      Residence_type  avg_glucose_level   bmi smoking_status  stroke  \n",
       "14674          Rural              88.79  38.1        Unknown       0  \n",
       "1135           Rural             102.97  28.2   never smoked       0  \n",
       "12574          Rural              85.27  24.0   never smoked       0  \n",
       "911            Urban              60.55  23.3   never smoked       0  \n",
       "12894          Urban              71.63  27.8   never smoked       0  \n",
       "13044          Urban             115.23  28.2   never smoked       0  \n",
       "6172           Urban             131.43  45.0         smokes       0  \n",
       "11119          Urban             134.39  22.7        Unknown       0  \n",
       "6324           Rural              99.96  40.2   never smoked       0  \n",
       "13967          Rural              80.07  18.1        Unknown       0  "
      ]
     },
     "execution_count": 127,
     "metadata": {},
     "output_type": "execute_result"
    }
   ],
   "source": [
    "data.sample(10)"
   ]
  },
  {
   "cell_type": "code",
   "execution_count": 128,
   "id": "a6644c78",
   "metadata": {},
   "outputs": [
    {
     "data": {
      "text/html": [
       "<div>\n",
       "<style scoped>\n",
       "    .dataframe tbody tr th:only-of-type {\n",
       "        vertical-align: middle;\n",
       "    }\n",
       "\n",
       "    .dataframe tbody tr th {\n",
       "        vertical-align: top;\n",
       "    }\n",
       "\n",
       "    .dataframe thead th {\n",
       "        text-align: right;\n",
       "    }\n",
       "</style>\n",
       "<table border=\"1\" class=\"dataframe\">\n",
       "  <thead>\n",
       "    <tr style=\"text-align: right;\">\n",
       "      <th></th>\n",
       "      <th>count</th>\n",
       "      <th>mean</th>\n",
       "      <th>std</th>\n",
       "      <th>min</th>\n",
       "      <th>25%</th>\n",
       "      <th>50%</th>\n",
       "      <th>75%</th>\n",
       "      <th>max</th>\n",
       "    </tr>\n",
       "  </thead>\n",
       "  <tbody>\n",
       "    <tr>\n",
       "      <th>age</th>\n",
       "      <td>15304.0</td>\n",
       "      <td>41.417708</td>\n",
       "      <td>21.444673</td>\n",
       "      <td>0.08</td>\n",
       "      <td>26.0</td>\n",
       "      <td>43.00</td>\n",
       "      <td>57.00</td>\n",
       "      <td>82.0</td>\n",
       "    </tr>\n",
       "    <tr>\n",
       "      <th>hypertension</th>\n",
       "      <td>15304.0</td>\n",
       "      <td>0.049726</td>\n",
       "      <td>0.217384</td>\n",
       "      <td>0.00</td>\n",
       "      <td>0.0</td>\n",
       "      <td>0.00</td>\n",
       "      <td>0.00</td>\n",
       "      <td>1.0</td>\n",
       "    </tr>\n",
       "    <tr>\n",
       "      <th>heart_disease</th>\n",
       "      <td>15304.0</td>\n",
       "      <td>0.023327</td>\n",
       "      <td>0.150946</td>\n",
       "      <td>0.00</td>\n",
       "      <td>0.0</td>\n",
       "      <td>0.00</td>\n",
       "      <td>0.00</td>\n",
       "      <td>1.0</td>\n",
       "    </tr>\n",
       "    <tr>\n",
       "      <th>avg_glucose_level</th>\n",
       "      <td>15304.0</td>\n",
       "      <td>89.039853</td>\n",
       "      <td>25.476102</td>\n",
       "      <td>55.22</td>\n",
       "      <td>74.9</td>\n",
       "      <td>85.12</td>\n",
       "      <td>96.98</td>\n",
       "      <td>267.6</td>\n",
       "    </tr>\n",
       "    <tr>\n",
       "      <th>bmi</th>\n",
       "      <td>15304.0</td>\n",
       "      <td>28.112721</td>\n",
       "      <td>6.722315</td>\n",
       "      <td>10.30</td>\n",
       "      <td>23.5</td>\n",
       "      <td>27.60</td>\n",
       "      <td>32.00</td>\n",
       "      <td>80.1</td>\n",
       "    </tr>\n",
       "    <tr>\n",
       "      <th>stroke</th>\n",
       "      <td>15304.0</td>\n",
       "      <td>0.041296</td>\n",
       "      <td>0.198981</td>\n",
       "      <td>0.00</td>\n",
       "      <td>0.0</td>\n",
       "      <td>0.00</td>\n",
       "      <td>0.00</td>\n",
       "      <td>1.0</td>\n",
       "    </tr>\n",
       "  </tbody>\n",
       "</table>\n",
       "</div>"
      ],
      "text/plain": [
       "                     count       mean        std    min   25%    50%    75%  \\\n",
       "age                15304.0  41.417708  21.444673   0.08  26.0  43.00  57.00   \n",
       "hypertension       15304.0   0.049726   0.217384   0.00   0.0   0.00   0.00   \n",
       "heart_disease      15304.0   0.023327   0.150946   0.00   0.0   0.00   0.00   \n",
       "avg_glucose_level  15304.0  89.039853  25.476102  55.22  74.9  85.12  96.98   \n",
       "bmi                15304.0  28.112721   6.722315  10.30  23.5  27.60  32.00   \n",
       "stroke             15304.0   0.041296   0.198981   0.00   0.0   0.00   0.00   \n",
       "\n",
       "                     max  \n",
       "age                 82.0  \n",
       "hypertension         1.0  \n",
       "heart_disease        1.0  \n",
       "avg_glucose_level  267.6  \n",
       "bmi                 80.1  \n",
       "stroke               1.0  "
      ]
     },
     "execution_count": 128,
     "metadata": {},
     "output_type": "execute_result"
    }
   ],
   "source": [
    "data.describe().T"
   ]
  },
  {
   "cell_type": "code",
   "execution_count": 129,
   "id": "17ffd9c7",
   "metadata": {},
   "outputs": [
    {
     "data": {
      "text/plain": [
       "gender                  3\n",
       "age                   106\n",
       "hypertension            2\n",
       "heart_disease           2\n",
       "ever_married            2\n",
       "work_type               5\n",
       "Residence_type          2\n",
       "avg_glucose_level    3740\n",
       "bmi                   407\n",
       "smoking_status          4\n",
       "stroke                  2\n",
       "dtype: int64"
      ]
     },
     "execution_count": 129,
     "metadata": {},
     "output_type": "execute_result"
    }
   ],
   "source": [
    "data.nunique()"
   ]
  },
  {
   "cell_type": "code",
   "execution_count": 130,
   "id": "cecefe7e",
   "metadata": {},
   "outputs": [
    {
     "data": {
      "text/plain": [
       "np.int64(0)"
      ]
     },
     "execution_count": 130,
     "metadata": {},
     "output_type": "execute_result"
    }
   ],
   "source": [
    "data.duplicated().sum()"
   ]
  },
  {
   "cell_type": "code",
   "execution_count": 131,
   "id": "d45db0f8",
   "metadata": {},
   "outputs": [],
   "source": [
    "data[\"age\"] = np.ceil(data[\"age\"])\n",
    "test_data[\"age\"] = np.ceil(data[\"age\"])"
   ]
  },
  {
   "cell_type": "code",
   "execution_count": 132,
   "id": "c5c57d7c",
   "metadata": {},
   "outputs": [
    {
     "data": {
      "text/html": [
       "<div>\n",
       "<style scoped>\n",
       "    .dataframe tbody tr th:only-of-type {\n",
       "        vertical-align: middle;\n",
       "    }\n",
       "\n",
       "    .dataframe tbody tr th {\n",
       "        vertical-align: top;\n",
       "    }\n",
       "\n",
       "    .dataframe thead th {\n",
       "        text-align: right;\n",
       "    }\n",
       "</style>\n",
       "<table border=\"1\" class=\"dataframe\">\n",
       "  <thead>\n",
       "    <tr style=\"text-align: right;\">\n",
       "      <th></th>\n",
       "      <th>gender</th>\n",
       "      <th>age</th>\n",
       "      <th>hypertension</th>\n",
       "      <th>heart_disease</th>\n",
       "      <th>ever_married</th>\n",
       "      <th>work_type</th>\n",
       "      <th>Residence_type</th>\n",
       "      <th>avg_glucose_level</th>\n",
       "      <th>bmi</th>\n",
       "      <th>smoking_status</th>\n",
       "      <th>stroke</th>\n",
       "    </tr>\n",
       "  </thead>\n",
       "  <tbody>\n",
       "    <tr>\n",
       "      <th>9842</th>\n",
       "      <td>Female</td>\n",
       "      <td>37.0</td>\n",
       "      <td>0</td>\n",
       "      <td>0</td>\n",
       "      <td>Yes</td>\n",
       "      <td>Private</td>\n",
       "      <td>Urban</td>\n",
       "      <td>82.41</td>\n",
       "      <td>23.2</td>\n",
       "      <td>never smoked</td>\n",
       "      <td>0</td>\n",
       "    </tr>\n",
       "    <tr>\n",
       "      <th>182</th>\n",
       "      <td>Male</td>\n",
       "      <td>14.0</td>\n",
       "      <td>0</td>\n",
       "      <td>0</td>\n",
       "      <td>No</td>\n",
       "      <td>Private</td>\n",
       "      <td>Rural</td>\n",
       "      <td>91.96</td>\n",
       "      <td>28.7</td>\n",
       "      <td>never smoked</td>\n",
       "      <td>0</td>\n",
       "    </tr>\n",
       "    <tr>\n",
       "      <th>5439</th>\n",
       "      <td>Female</td>\n",
       "      <td>81.0</td>\n",
       "      <td>0</td>\n",
       "      <td>0</td>\n",
       "      <td>Yes</td>\n",
       "      <td>Private</td>\n",
       "      <td>Rural</td>\n",
       "      <td>78.16</td>\n",
       "      <td>29.6</td>\n",
       "      <td>formerly smoked</td>\n",
       "      <td>1</td>\n",
       "    </tr>\n",
       "    <tr>\n",
       "      <th>571</th>\n",
       "      <td>Female</td>\n",
       "      <td>29.0</td>\n",
       "      <td>0</td>\n",
       "      <td>0</td>\n",
       "      <td>Yes</td>\n",
       "      <td>Private</td>\n",
       "      <td>Urban</td>\n",
       "      <td>87.86</td>\n",
       "      <td>28.4</td>\n",
       "      <td>never smoked</td>\n",
       "      <td>0</td>\n",
       "    </tr>\n",
       "    <tr>\n",
       "      <th>13207</th>\n",
       "      <td>Male</td>\n",
       "      <td>57.0</td>\n",
       "      <td>0</td>\n",
       "      <td>0</td>\n",
       "      <td>Yes</td>\n",
       "      <td>Private</td>\n",
       "      <td>Urban</td>\n",
       "      <td>98.44</td>\n",
       "      <td>25.8</td>\n",
       "      <td>never smoked</td>\n",
       "      <td>0</td>\n",
       "    </tr>\n",
       "    <tr>\n",
       "      <th>4037</th>\n",
       "      <td>Female</td>\n",
       "      <td>47.0</td>\n",
       "      <td>0</td>\n",
       "      <td>0</td>\n",
       "      <td>Yes</td>\n",
       "      <td>Private</td>\n",
       "      <td>Rural</td>\n",
       "      <td>142.02</td>\n",
       "      <td>22.7</td>\n",
       "      <td>Unknown</td>\n",
       "      <td>0</td>\n",
       "    </tr>\n",
       "    <tr>\n",
       "      <th>5156</th>\n",
       "      <td>Male</td>\n",
       "      <td>74.0</td>\n",
       "      <td>0</td>\n",
       "      <td>0</td>\n",
       "      <td>Yes</td>\n",
       "      <td>Self-employed</td>\n",
       "      <td>Urban</td>\n",
       "      <td>204.77</td>\n",
       "      <td>30.6</td>\n",
       "      <td>formerly smoked</td>\n",
       "      <td>0</td>\n",
       "    </tr>\n",
       "    <tr>\n",
       "      <th>8616</th>\n",
       "      <td>Female</td>\n",
       "      <td>66.0</td>\n",
       "      <td>0</td>\n",
       "      <td>0</td>\n",
       "      <td>Yes</td>\n",
       "      <td>Self-employed</td>\n",
       "      <td>Urban</td>\n",
       "      <td>80.42</td>\n",
       "      <td>33.8</td>\n",
       "      <td>formerly smoked</td>\n",
       "      <td>0</td>\n",
       "    </tr>\n",
       "    <tr>\n",
       "      <th>10026</th>\n",
       "      <td>Female</td>\n",
       "      <td>49.0</td>\n",
       "      <td>0</td>\n",
       "      <td>0</td>\n",
       "      <td>Yes</td>\n",
       "      <td>Private</td>\n",
       "      <td>Rural</td>\n",
       "      <td>69.11</td>\n",
       "      <td>32.2</td>\n",
       "      <td>formerly smoked</td>\n",
       "      <td>0</td>\n",
       "    </tr>\n",
       "    <tr>\n",
       "      <th>7840</th>\n",
       "      <td>Male</td>\n",
       "      <td>49.0</td>\n",
       "      <td>0</td>\n",
       "      <td>0</td>\n",
       "      <td>Yes</td>\n",
       "      <td>Private</td>\n",
       "      <td>Rural</td>\n",
       "      <td>56.13</td>\n",
       "      <td>29.0</td>\n",
       "      <td>smokes</td>\n",
       "      <td>0</td>\n",
       "    </tr>\n",
       "  </tbody>\n",
       "</table>\n",
       "</div>"
      ],
      "text/plain": [
       "       gender   age  hypertension  heart_disease ever_married      work_type  \\\n",
       "9842   Female  37.0             0              0          Yes        Private   \n",
       "182      Male  14.0             0              0           No        Private   \n",
       "5439   Female  81.0             0              0          Yes        Private   \n",
       "571    Female  29.0             0              0          Yes        Private   \n",
       "13207    Male  57.0             0              0          Yes        Private   \n",
       "4037   Female  47.0             0              0          Yes        Private   \n",
       "5156     Male  74.0             0              0          Yes  Self-employed   \n",
       "8616   Female  66.0             0              0          Yes  Self-employed   \n",
       "10026  Female  49.0             0              0          Yes        Private   \n",
       "7840     Male  49.0             0              0          Yes        Private   \n",
       "\n",
       "      Residence_type  avg_glucose_level   bmi   smoking_status  stroke  \n",
       "9842           Urban              82.41  23.2     never smoked       0  \n",
       "182            Rural              91.96  28.7     never smoked       0  \n",
       "5439           Rural              78.16  29.6  formerly smoked       1  \n",
       "571            Urban              87.86  28.4     never smoked       0  \n",
       "13207          Urban              98.44  25.8     never smoked       0  \n",
       "4037           Rural             142.02  22.7          Unknown       0  \n",
       "5156           Urban             204.77  30.6  formerly smoked       0  \n",
       "8616           Urban              80.42  33.8  formerly smoked       0  \n",
       "10026          Rural              69.11  32.2  formerly smoked       0  \n",
       "7840           Rural              56.13  29.0           smokes       0  "
      ]
     },
     "execution_count": 132,
     "metadata": {},
     "output_type": "execute_result"
    }
   ],
   "source": [
    "data.sample(10)"
   ]
  },
  {
   "cell_type": "code",
   "execution_count": 133,
   "id": "8932d137",
   "metadata": {},
   "outputs": [
    {
     "data": {
      "text/html": [
       "<div>\n",
       "<style scoped>\n",
       "    .dataframe tbody tr th:only-of-type {\n",
       "        vertical-align: middle;\n",
       "    }\n",
       "\n",
       "    .dataframe tbody tr th {\n",
       "        vertical-align: top;\n",
       "    }\n",
       "\n",
       "    .dataframe thead th {\n",
       "        text-align: right;\n",
       "    }\n",
       "</style>\n",
       "<table border=\"1\" class=\"dataframe\">\n",
       "  <thead>\n",
       "    <tr style=\"text-align: right;\">\n",
       "      <th></th>\n",
       "      <th>id</th>\n",
       "      <th>gender</th>\n",
       "      <th>age</th>\n",
       "      <th>hypertension</th>\n",
       "      <th>heart_disease</th>\n",
       "      <th>ever_married</th>\n",
       "      <th>work_type</th>\n",
       "      <th>Residence_type</th>\n",
       "      <th>avg_glucose_level</th>\n",
       "      <th>bmi</th>\n",
       "      <th>smoking_status</th>\n",
       "    </tr>\n",
       "  </thead>\n",
       "  <tbody>\n",
       "    <tr>\n",
       "      <th>5341</th>\n",
       "      <td>20645</td>\n",
       "      <td>Female</td>\n",
       "      <td>33.0</td>\n",
       "      <td>0</td>\n",
       "      <td>0</td>\n",
       "      <td>Yes</td>\n",
       "      <td>Private</td>\n",
       "      <td>Rural</td>\n",
       "      <td>91.44</td>\n",
       "      <td>29.7</td>\n",
       "      <td>never smoked</td>\n",
       "    </tr>\n",
       "    <tr>\n",
       "      <th>9864</th>\n",
       "      <td>25168</td>\n",
       "      <td>Female</td>\n",
       "      <td>38.0</td>\n",
       "      <td>0</td>\n",
       "      <td>0</td>\n",
       "      <td>Yes</td>\n",
       "      <td>Private</td>\n",
       "      <td>Rural</td>\n",
       "      <td>68.66</td>\n",
       "      <td>23.5</td>\n",
       "      <td>never smoked</td>\n",
       "    </tr>\n",
       "    <tr>\n",
       "      <th>9475</th>\n",
       "      <td>24779</td>\n",
       "      <td>Female</td>\n",
       "      <td>60.0</td>\n",
       "      <td>0</td>\n",
       "      <td>0</td>\n",
       "      <td>No</td>\n",
       "      <td>children</td>\n",
       "      <td>Rural</td>\n",
       "      <td>90.52</td>\n",
       "      <td>22.6</td>\n",
       "      <td>Unknown</td>\n",
       "    </tr>\n",
       "    <tr>\n",
       "      <th>4795</th>\n",
       "      <td>20099</td>\n",
       "      <td>Male</td>\n",
       "      <td>48.0</td>\n",
       "      <td>0</td>\n",
       "      <td>0</td>\n",
       "      <td>No</td>\n",
       "      <td>Private</td>\n",
       "      <td>Rural</td>\n",
       "      <td>75.35</td>\n",
       "      <td>40.1</td>\n",
       "      <td>formerly smoked</td>\n",
       "    </tr>\n",
       "    <tr>\n",
       "      <th>5794</th>\n",
       "      <td>21098</td>\n",
       "      <td>Female</td>\n",
       "      <td>38.0</td>\n",
       "      <td>0</td>\n",
       "      <td>0</td>\n",
       "      <td>Yes</td>\n",
       "      <td>Private</td>\n",
       "      <td>Urban</td>\n",
       "      <td>63.46</td>\n",
       "      <td>39.7</td>\n",
       "      <td>never smoked</td>\n",
       "    </tr>\n",
       "    <tr>\n",
       "      <th>6675</th>\n",
       "      <td>21979</td>\n",
       "      <td>Male</td>\n",
       "      <td>47.0</td>\n",
       "      <td>0</td>\n",
       "      <td>0</td>\n",
       "      <td>No</td>\n",
       "      <td>Private</td>\n",
       "      <td>Rural</td>\n",
       "      <td>62.69</td>\n",
       "      <td>31.6</td>\n",
       "      <td>Unknown</td>\n",
       "    </tr>\n",
       "    <tr>\n",
       "      <th>3296</th>\n",
       "      <td>18600</td>\n",
       "      <td>Female</td>\n",
       "      <td>40.0</td>\n",
       "      <td>0</td>\n",
       "      <td>0</td>\n",
       "      <td>Yes</td>\n",
       "      <td>Private</td>\n",
       "      <td>Urban</td>\n",
       "      <td>89.03</td>\n",
       "      <td>37.3</td>\n",
       "      <td>never smoked</td>\n",
       "    </tr>\n",
       "    <tr>\n",
       "      <th>6302</th>\n",
       "      <td>21606</td>\n",
       "      <td>Female</td>\n",
       "      <td>58.0</td>\n",
       "      <td>0</td>\n",
       "      <td>0</td>\n",
       "      <td>Yes</td>\n",
       "      <td>Govt_job</td>\n",
       "      <td>Rural</td>\n",
       "      <td>60.74</td>\n",
       "      <td>27.7</td>\n",
       "      <td>never smoked</td>\n",
       "    </tr>\n",
       "    <tr>\n",
       "      <th>4406</th>\n",
       "      <td>19710</td>\n",
       "      <td>Female</td>\n",
       "      <td>23.0</td>\n",
       "      <td>1</td>\n",
       "      <td>0</td>\n",
       "      <td>Yes</td>\n",
       "      <td>Private</td>\n",
       "      <td>Urban</td>\n",
       "      <td>95.44</td>\n",
       "      <td>24.1</td>\n",
       "      <td>formerly smoked</td>\n",
       "    </tr>\n",
       "    <tr>\n",
       "      <th>5233</th>\n",
       "      <td>20537</td>\n",
       "      <td>Female</td>\n",
       "      <td>44.0</td>\n",
       "      <td>0</td>\n",
       "      <td>0</td>\n",
       "      <td>No</td>\n",
       "      <td>Private</td>\n",
       "      <td>Rural</td>\n",
       "      <td>103.92</td>\n",
       "      <td>18.5</td>\n",
       "      <td>Unknown</td>\n",
       "    </tr>\n",
       "  </tbody>\n",
       "</table>\n",
       "</div>"
      ],
      "text/plain": [
       "         id  gender   age  hypertension  heart_disease ever_married work_type  \\\n",
       "5341  20645  Female  33.0             0              0          Yes   Private   \n",
       "9864  25168  Female  38.0             0              0          Yes   Private   \n",
       "9475  24779  Female  60.0             0              0           No  children   \n",
       "4795  20099    Male  48.0             0              0           No   Private   \n",
       "5794  21098  Female  38.0             0              0          Yes   Private   \n",
       "6675  21979    Male  47.0             0              0           No   Private   \n",
       "3296  18600  Female  40.0             0              0          Yes   Private   \n",
       "6302  21606  Female  58.0             0              0          Yes  Govt_job   \n",
       "4406  19710  Female  23.0             1              0          Yes   Private   \n",
       "5233  20537  Female  44.0             0              0           No   Private   \n",
       "\n",
       "     Residence_type  avg_glucose_level   bmi   smoking_status  \n",
       "5341          Rural              91.44  29.7     never smoked  \n",
       "9864          Rural              68.66  23.5     never smoked  \n",
       "9475          Rural              90.52  22.6          Unknown  \n",
       "4795          Rural              75.35  40.1  formerly smoked  \n",
       "5794          Urban              63.46  39.7     never smoked  \n",
       "6675          Rural              62.69  31.6          Unknown  \n",
       "3296          Urban              89.03  37.3     never smoked  \n",
       "6302          Rural              60.74  27.7     never smoked  \n",
       "4406          Urban              95.44  24.1  formerly smoked  \n",
       "5233          Rural             103.92  18.5          Unknown  "
      ]
     },
     "execution_count": 133,
     "metadata": {},
     "output_type": "execute_result"
    }
   ],
   "source": [
    "test_data.sample(10)"
   ]
  },
  {
   "cell_type": "code",
   "execution_count": 134,
   "id": "2eb5febf",
   "metadata": {},
   "outputs": [
    {
     "data": {
      "text/html": [
       "<div>\n",
       "<style scoped>\n",
       "    .dataframe tbody tr th:only-of-type {\n",
       "        vertical-align: middle;\n",
       "    }\n",
       "\n",
       "    .dataframe tbody tr th {\n",
       "        vertical-align: top;\n",
       "    }\n",
       "\n",
       "    .dataframe thead th {\n",
       "        text-align: right;\n",
       "    }\n",
       "</style>\n",
       "<table border=\"1\" class=\"dataframe\">\n",
       "  <thead>\n",
       "    <tr style=\"text-align: right;\">\n",
       "      <th></th>\n",
       "      <th>gender</th>\n",
       "      <th>age</th>\n",
       "      <th>hypertension</th>\n",
       "      <th>heart_disease</th>\n",
       "      <th>ever_married</th>\n",
       "      <th>work_type</th>\n",
       "      <th>Residence_type</th>\n",
       "      <th>avg_glucose_level</th>\n",
       "      <th>bmi</th>\n",
       "      <th>smoking_status</th>\n",
       "    </tr>\n",
       "  </thead>\n",
       "  <tbody>\n",
       "    <tr>\n",
       "      <th>3955</th>\n",
       "      <td>Male</td>\n",
       "      <td>59.0</td>\n",
       "      <td>0</td>\n",
       "      <td>0</td>\n",
       "      <td>Yes</td>\n",
       "      <td>Private</td>\n",
       "      <td>Rural</td>\n",
       "      <td>85.83</td>\n",
       "      <td>28.7</td>\n",
       "      <td>formerly smoked</td>\n",
       "    </tr>\n",
       "    <tr>\n",
       "      <th>9987</th>\n",
       "      <td>Female</td>\n",
       "      <td>60.0</td>\n",
       "      <td>0</td>\n",
       "      <td>0</td>\n",
       "      <td>Yes</td>\n",
       "      <td>Private</td>\n",
       "      <td>Rural</td>\n",
       "      <td>90.31</td>\n",
       "      <td>22.2</td>\n",
       "      <td>never smoked</td>\n",
       "    </tr>\n",
       "    <tr>\n",
       "      <th>3774</th>\n",
       "      <td>Female</td>\n",
       "      <td>40.0</td>\n",
       "      <td>0</td>\n",
       "      <td>0</td>\n",
       "      <td>No</td>\n",
       "      <td>children</td>\n",
       "      <td>Urban</td>\n",
       "      <td>99.44</td>\n",
       "      <td>17.3</td>\n",
       "      <td>Unknown</td>\n",
       "    </tr>\n",
       "    <tr>\n",
       "      <th>2942</th>\n",
       "      <td>Male</td>\n",
       "      <td>58.0</td>\n",
       "      <td>0</td>\n",
       "      <td>0</td>\n",
       "      <td>No</td>\n",
       "      <td>Private</td>\n",
       "      <td>Urban</td>\n",
       "      <td>91.02</td>\n",
       "      <td>22.8</td>\n",
       "      <td>never smoked</td>\n",
       "    </tr>\n",
       "    <tr>\n",
       "      <th>10084</th>\n",
       "      <td>Female</td>\n",
       "      <td>62.0</td>\n",
       "      <td>0</td>\n",
       "      <td>0</td>\n",
       "      <td>Yes</td>\n",
       "      <td>Self-employed</td>\n",
       "      <td>Urban</td>\n",
       "      <td>61.89</td>\n",
       "      <td>20.1</td>\n",
       "      <td>smokes</td>\n",
       "    </tr>\n",
       "    <tr>\n",
       "      <th>8460</th>\n",
       "      <td>Female</td>\n",
       "      <td>65.0</td>\n",
       "      <td>0</td>\n",
       "      <td>0</td>\n",
       "      <td>Yes</td>\n",
       "      <td>Private</td>\n",
       "      <td>Urban</td>\n",
       "      <td>84.48</td>\n",
       "      <td>35.7</td>\n",
       "      <td>Unknown</td>\n",
       "    </tr>\n",
       "    <tr>\n",
       "      <th>7254</th>\n",
       "      <td>Male</td>\n",
       "      <td>37.0</td>\n",
       "      <td>0</td>\n",
       "      <td>0</td>\n",
       "      <td>Yes</td>\n",
       "      <td>Private</td>\n",
       "      <td>Urban</td>\n",
       "      <td>65.25</td>\n",
       "      <td>27.4</td>\n",
       "      <td>never smoked</td>\n",
       "    </tr>\n",
       "    <tr>\n",
       "      <th>3304</th>\n",
       "      <td>Female</td>\n",
       "      <td>58.0</td>\n",
       "      <td>0</td>\n",
       "      <td>0</td>\n",
       "      <td>No</td>\n",
       "      <td>Self-employed</td>\n",
       "      <td>Urban</td>\n",
       "      <td>105.90</td>\n",
       "      <td>28.5</td>\n",
       "      <td>formerly smoked</td>\n",
       "    </tr>\n",
       "    <tr>\n",
       "      <th>3302</th>\n",
       "      <td>Female</td>\n",
       "      <td>1.0</td>\n",
       "      <td>0</td>\n",
       "      <td>1</td>\n",
       "      <td>No</td>\n",
       "      <td>Private</td>\n",
       "      <td>Rural</td>\n",
       "      <td>91.23</td>\n",
       "      <td>16.8</td>\n",
       "      <td>never smoked</td>\n",
       "    </tr>\n",
       "    <tr>\n",
       "      <th>8049</th>\n",
       "      <td>Female</td>\n",
       "      <td>49.0</td>\n",
       "      <td>0</td>\n",
       "      <td>0</td>\n",
       "      <td>Yes</td>\n",
       "      <td>Private</td>\n",
       "      <td>Rural</td>\n",
       "      <td>68.70</td>\n",
       "      <td>27.3</td>\n",
       "      <td>never smoked</td>\n",
       "    </tr>\n",
       "  </tbody>\n",
       "</table>\n",
       "</div>"
      ],
      "text/plain": [
       "       gender   age  hypertension  heart_disease ever_married      work_type  \\\n",
       "3955     Male  59.0             0              0          Yes        Private   \n",
       "9987   Female  60.0             0              0          Yes        Private   \n",
       "3774   Female  40.0             0              0           No       children   \n",
       "2942     Male  58.0             0              0           No        Private   \n",
       "10084  Female  62.0             0              0          Yes  Self-employed   \n",
       "8460   Female  65.0             0              0          Yes        Private   \n",
       "7254     Male  37.0             0              0          Yes        Private   \n",
       "3304   Female  58.0             0              0           No  Self-employed   \n",
       "3302   Female   1.0             0              1           No        Private   \n",
       "8049   Female  49.0             0              0          Yes        Private   \n",
       "\n",
       "      Residence_type  avg_glucose_level   bmi   smoking_status  \n",
       "3955           Rural              85.83  28.7  formerly smoked  \n",
       "9987           Rural              90.31  22.2     never smoked  \n",
       "3774           Urban              99.44  17.3          Unknown  \n",
       "2942           Urban              91.02  22.8     never smoked  \n",
       "10084          Urban              61.89  20.1           smokes  \n",
       "8460           Urban              84.48  35.7          Unknown  \n",
       "7254           Urban              65.25  27.4     never smoked  \n",
       "3304           Urban             105.90  28.5  formerly smoked  \n",
       "3302           Rural              91.23  16.8     never smoked  \n",
       "8049           Rural              68.70  27.3     never smoked  "
      ]
     },
     "execution_count": 134,
     "metadata": {},
     "output_type": "execute_result"
    }
   ],
   "source": [
    "test_data = test_data.drop(\"id\", axis=1)\n",
    "test_data.sample(10)"
   ]
  },
  {
   "cell_type": "code",
   "execution_count": 135,
   "id": "f8d8a95a",
   "metadata": {},
   "outputs": [
    {
     "data": {
      "text/plain": [
       "gender\n",
       "Female    9446\n",
       "Male      5857\n",
       "Name: count, dtype: int64"
      ]
     },
     "execution_count": 135,
     "metadata": {},
     "output_type": "execute_result"
    }
   ],
   "source": [
    "# removing the other gender from training\n",
    "data.drop(data[data.gender == \"Other\"].index, inplace=True)\n",
    "data[\"gender\"].value_counts()"
   ]
  },
  {
   "cell_type": "code",
   "execution_count": 136,
   "id": "a7072d85",
   "metadata": {},
   "outputs": [
    {
     "data": {
      "text/plain": [
       "gender\n",
       "Female    6338\n",
       "Male      3865\n",
       "Other        1\n",
       "Name: count, dtype: int64"
      ]
     },
     "execution_count": 136,
     "metadata": {},
     "output_type": "execute_result"
    }
   ],
   "source": [
    "test_data[\"gender\"].value_counts()"
   ]
  },
  {
   "cell_type": "code",
   "execution_count": 137,
   "id": "6ebb4de6",
   "metadata": {},
   "outputs": [
    {
     "data": {
      "text/plain": [
       "gender\n",
       "Female    6338\n",
       "Male      3865\n",
       "Name: count, dtype: int64"
      ]
     },
     "execution_count": 137,
     "metadata": {},
     "output_type": "execute_result"
    }
   ],
   "source": [
    "# removing the other gender from test_data\n",
    "test_data.drop(test_data[test_data.gender == \"Other\"].index, inplace=True)\n",
    "test_data[\"gender\"].value_counts()"
   ]
  },
  {
   "cell_type": "markdown",
   "id": "fbc8daf3",
   "metadata": {},
   "source": [
    "## Exploratory Data Analysis"
   ]
  },
  {
   "cell_type": "code",
   "execution_count": 138,
   "id": "f3dc80f5",
   "metadata": {},
   "outputs": [],
   "source": [
    "# seaborn and plot default styles\n",
    "sns.set_style(\"darkgrid\")\n",
    "plot_color = [\"#B7410E\", \"#008080\"]\n",
    "sns.set_palette([\"#B7410E\", \"black\"])"
   ]
  },
  {
   "cell_type": "code",
   "execution_count": 139,
   "id": "5fcbe554",
   "metadata": {},
   "outputs": [],
   "source": [
    "# filtering data for stroke and non stroke\n",
    "stroke_data = data[data[\"stroke\"] == 1]\n",
    "non_stroke_data = data[data[\"stroke\"] == 0]"
   ]
  },
  {
   "cell_type": "code",
   "execution_count": 140,
   "id": "af1dbc05",
   "metadata": {},
   "outputs": [
    {
     "data": {
      "text/html": [
       "<div>\n",
       "<style scoped>\n",
       "    .dataframe tbody tr th:only-of-type {\n",
       "        vertical-align: middle;\n",
       "    }\n",
       "\n",
       "    .dataframe tbody tr th {\n",
       "        vertical-align: top;\n",
       "    }\n",
       "\n",
       "    .dataframe thead th {\n",
       "        text-align: right;\n",
       "    }\n",
       "</style>\n",
       "<table border=\"1\" class=\"dataframe\">\n",
       "  <thead>\n",
       "    <tr style=\"text-align: right;\">\n",
       "      <th></th>\n",
       "      <th>gender</th>\n",
       "      <th>age</th>\n",
       "      <th>hypertension</th>\n",
       "      <th>heart_disease</th>\n",
       "      <th>ever_married</th>\n",
       "      <th>work_type</th>\n",
       "      <th>Residence_type</th>\n",
       "      <th>avg_glucose_level</th>\n",
       "      <th>bmi</th>\n",
       "      <th>smoking_status</th>\n",
       "      <th>stroke</th>\n",
       "    </tr>\n",
       "  </thead>\n",
       "  <tbody>\n",
       "    <tr>\n",
       "      <th>6008</th>\n",
       "      <td>Male</td>\n",
       "      <td>67.0</td>\n",
       "      <td>0</td>\n",
       "      <td>0</td>\n",
       "      <td>Yes</td>\n",
       "      <td>Private</td>\n",
       "      <td>Urban</td>\n",
       "      <td>97.76</td>\n",
       "      <td>26.9</td>\n",
       "      <td>Unknown</td>\n",
       "      <td>1</td>\n",
       "    </tr>\n",
       "    <tr>\n",
       "      <th>3922</th>\n",
       "      <td>Male</td>\n",
       "      <td>71.0</td>\n",
       "      <td>0</td>\n",
       "      <td>0</td>\n",
       "      <td>Yes</td>\n",
       "      <td>Govt_job</td>\n",
       "      <td>Urban</td>\n",
       "      <td>100.98</td>\n",
       "      <td>27.0</td>\n",
       "      <td>never smoked</td>\n",
       "      <td>1</td>\n",
       "    </tr>\n",
       "    <tr>\n",
       "      <th>1604</th>\n",
       "      <td>Female</td>\n",
       "      <td>82.0</td>\n",
       "      <td>0</td>\n",
       "      <td>0</td>\n",
       "      <td>Yes</td>\n",
       "      <td>Private</td>\n",
       "      <td>Urban</td>\n",
       "      <td>93.02</td>\n",
       "      <td>40.5</td>\n",
       "      <td>never smoked</td>\n",
       "      <td>1</td>\n",
       "    </tr>\n",
       "    <tr>\n",
       "      <th>11635</th>\n",
       "      <td>Male</td>\n",
       "      <td>68.0</td>\n",
       "      <td>0</td>\n",
       "      <td>0</td>\n",
       "      <td>Yes</td>\n",
       "      <td>Private</td>\n",
       "      <td>Urban</td>\n",
       "      <td>74.63</td>\n",
       "      <td>28.7</td>\n",
       "      <td>never smoked</td>\n",
       "      <td>1</td>\n",
       "    </tr>\n",
       "    <tr>\n",
       "      <th>10219</th>\n",
       "      <td>Female</td>\n",
       "      <td>53.0</td>\n",
       "      <td>0</td>\n",
       "      <td>0</td>\n",
       "      <td>Yes</td>\n",
       "      <td>Private</td>\n",
       "      <td>Rural</td>\n",
       "      <td>84.88</td>\n",
       "      <td>34.7</td>\n",
       "      <td>Unknown</td>\n",
       "      <td>1</td>\n",
       "    </tr>\n",
       "    <tr>\n",
       "      <th>11200</th>\n",
       "      <td>Male</td>\n",
       "      <td>79.0</td>\n",
       "      <td>1</td>\n",
       "      <td>0</td>\n",
       "      <td>Yes</td>\n",
       "      <td>Private</td>\n",
       "      <td>Rural</td>\n",
       "      <td>218.46</td>\n",
       "      <td>26.6</td>\n",
       "      <td>smokes</td>\n",
       "      <td>1</td>\n",
       "    </tr>\n",
       "    <tr>\n",
       "      <th>9256</th>\n",
       "      <td>Female</td>\n",
       "      <td>64.0</td>\n",
       "      <td>0</td>\n",
       "      <td>0</td>\n",
       "      <td>Yes</td>\n",
       "      <td>Private</td>\n",
       "      <td>Rural</td>\n",
       "      <td>89.54</td>\n",
       "      <td>27.2</td>\n",
       "      <td>never smoked</td>\n",
       "      <td>1</td>\n",
       "    </tr>\n",
       "    <tr>\n",
       "      <th>15071</th>\n",
       "      <td>Female</td>\n",
       "      <td>62.0</td>\n",
       "      <td>1</td>\n",
       "      <td>0</td>\n",
       "      <td>Yes</td>\n",
       "      <td>Private</td>\n",
       "      <td>Urban</td>\n",
       "      <td>124.37</td>\n",
       "      <td>28.3</td>\n",
       "      <td>never smoked</td>\n",
       "      <td>1</td>\n",
       "    </tr>\n",
       "    <tr>\n",
       "      <th>1912</th>\n",
       "      <td>Female</td>\n",
       "      <td>78.0</td>\n",
       "      <td>0</td>\n",
       "      <td>0</td>\n",
       "      <td>Yes</td>\n",
       "      <td>Private</td>\n",
       "      <td>Rural</td>\n",
       "      <td>208.30</td>\n",
       "      <td>26.9</td>\n",
       "      <td>Unknown</td>\n",
       "      <td>1</td>\n",
       "    </tr>\n",
       "    <tr>\n",
       "      <th>5260</th>\n",
       "      <td>Female</td>\n",
       "      <td>80.0</td>\n",
       "      <td>0</td>\n",
       "      <td>0</td>\n",
       "      <td>Yes</td>\n",
       "      <td>Private</td>\n",
       "      <td>Rural</td>\n",
       "      <td>211.03</td>\n",
       "      <td>31.0</td>\n",
       "      <td>formerly smoked</td>\n",
       "      <td>1</td>\n",
       "    </tr>\n",
       "  </tbody>\n",
       "</table>\n",
       "</div>"
      ],
      "text/plain": [
       "       gender   age  hypertension  heart_disease ever_married work_type  \\\n",
       "6008     Male  67.0             0              0          Yes   Private   \n",
       "3922     Male  71.0             0              0          Yes  Govt_job   \n",
       "1604   Female  82.0             0              0          Yes   Private   \n",
       "11635    Male  68.0             0              0          Yes   Private   \n",
       "10219  Female  53.0             0              0          Yes   Private   \n",
       "11200    Male  79.0             1              0          Yes   Private   \n",
       "9256   Female  64.0             0              0          Yes   Private   \n",
       "15071  Female  62.0             1              0          Yes   Private   \n",
       "1912   Female  78.0             0              0          Yes   Private   \n",
       "5260   Female  80.0             0              0          Yes   Private   \n",
       "\n",
       "      Residence_type  avg_glucose_level   bmi   smoking_status  stroke  \n",
       "6008           Urban              97.76  26.9          Unknown       1  \n",
       "3922           Urban             100.98  27.0     never smoked       1  \n",
       "1604           Urban              93.02  40.5     never smoked       1  \n",
       "11635          Urban              74.63  28.7     never smoked       1  \n",
       "10219          Rural              84.88  34.7          Unknown       1  \n",
       "11200          Rural             218.46  26.6           smokes       1  \n",
       "9256           Rural              89.54  27.2     never smoked       1  \n",
       "15071          Urban             124.37  28.3     never smoked       1  \n",
       "1912           Rural             208.30  26.9          Unknown       1  \n",
       "5260           Rural             211.03  31.0  formerly smoked       1  "
      ]
     },
     "execution_count": 140,
     "metadata": {},
     "output_type": "execute_result"
    }
   ],
   "source": [
    "stroke_data.sample(10)"
   ]
  },
  {
   "cell_type": "code",
   "execution_count": 141,
   "id": "ed619390",
   "metadata": {},
   "outputs": [
    {
     "data": {
      "text/html": [
       "<div>\n",
       "<style scoped>\n",
       "    .dataframe tbody tr th:only-of-type {\n",
       "        vertical-align: middle;\n",
       "    }\n",
       "\n",
       "    .dataframe tbody tr th {\n",
       "        vertical-align: top;\n",
       "    }\n",
       "\n",
       "    .dataframe thead th {\n",
       "        text-align: right;\n",
       "    }\n",
       "</style>\n",
       "<table border=\"1\" class=\"dataframe\">\n",
       "  <thead>\n",
       "    <tr style=\"text-align: right;\">\n",
       "      <th></th>\n",
       "      <th>gender</th>\n",
       "      <th>age</th>\n",
       "      <th>hypertension</th>\n",
       "      <th>heart_disease</th>\n",
       "      <th>ever_married</th>\n",
       "      <th>work_type</th>\n",
       "      <th>Residence_type</th>\n",
       "      <th>avg_glucose_level</th>\n",
       "      <th>bmi</th>\n",
       "      <th>smoking_status</th>\n",
       "      <th>stroke</th>\n",
       "    </tr>\n",
       "  </thead>\n",
       "  <tbody>\n",
       "    <tr>\n",
       "      <th>8358</th>\n",
       "      <td>Male</td>\n",
       "      <td>32.0</td>\n",
       "      <td>0</td>\n",
       "      <td>0</td>\n",
       "      <td>Yes</td>\n",
       "      <td>Private</td>\n",
       "      <td>Urban</td>\n",
       "      <td>57.46</td>\n",
       "      <td>43.4</td>\n",
       "      <td>smokes</td>\n",
       "      <td>0</td>\n",
       "    </tr>\n",
       "    <tr>\n",
       "      <th>3674</th>\n",
       "      <td>Male</td>\n",
       "      <td>17.0</td>\n",
       "      <td>0</td>\n",
       "      <td>0</td>\n",
       "      <td>No</td>\n",
       "      <td>Private</td>\n",
       "      <td>Urban</td>\n",
       "      <td>123.41</td>\n",
       "      <td>30.2</td>\n",
       "      <td>Unknown</td>\n",
       "      <td>0</td>\n",
       "    </tr>\n",
       "    <tr>\n",
       "      <th>3513</th>\n",
       "      <td>Male</td>\n",
       "      <td>30.0</td>\n",
       "      <td>0</td>\n",
       "      <td>0</td>\n",
       "      <td>No</td>\n",
       "      <td>Self-employed</td>\n",
       "      <td>Rural</td>\n",
       "      <td>62.99</td>\n",
       "      <td>31.8</td>\n",
       "      <td>never smoked</td>\n",
       "      <td>0</td>\n",
       "    </tr>\n",
       "    <tr>\n",
       "      <th>2978</th>\n",
       "      <td>Male</td>\n",
       "      <td>37.0</td>\n",
       "      <td>0</td>\n",
       "      <td>0</td>\n",
       "      <td>No</td>\n",
       "      <td>Private</td>\n",
       "      <td>Urban</td>\n",
       "      <td>78.32</td>\n",
       "      <td>29.1</td>\n",
       "      <td>Unknown</td>\n",
       "      <td>0</td>\n",
       "    </tr>\n",
       "    <tr>\n",
       "      <th>14547</th>\n",
       "      <td>Male</td>\n",
       "      <td>2.0</td>\n",
       "      <td>0</td>\n",
       "      <td>0</td>\n",
       "      <td>No</td>\n",
       "      <td>children</td>\n",
       "      <td>Urban</td>\n",
       "      <td>57.83</td>\n",
       "      <td>18.7</td>\n",
       "      <td>Unknown</td>\n",
       "      <td>0</td>\n",
       "    </tr>\n",
       "    <tr>\n",
       "      <th>3825</th>\n",
       "      <td>Male</td>\n",
       "      <td>25.0</td>\n",
       "      <td>0</td>\n",
       "      <td>0</td>\n",
       "      <td>No</td>\n",
       "      <td>Private</td>\n",
       "      <td>Urban</td>\n",
       "      <td>92.34</td>\n",
       "      <td>26.1</td>\n",
       "      <td>smokes</td>\n",
       "      <td>0</td>\n",
       "    </tr>\n",
       "    <tr>\n",
       "      <th>7674</th>\n",
       "      <td>Male</td>\n",
       "      <td>58.0</td>\n",
       "      <td>0</td>\n",
       "      <td>0</td>\n",
       "      <td>Yes</td>\n",
       "      <td>Self-employed</td>\n",
       "      <td>Urban</td>\n",
       "      <td>65.78</td>\n",
       "      <td>26.7</td>\n",
       "      <td>never smoked</td>\n",
       "      <td>0</td>\n",
       "    </tr>\n",
       "    <tr>\n",
       "      <th>9955</th>\n",
       "      <td>Female</td>\n",
       "      <td>63.0</td>\n",
       "      <td>0</td>\n",
       "      <td>0</td>\n",
       "      <td>Yes</td>\n",
       "      <td>Self-employed</td>\n",
       "      <td>Rural</td>\n",
       "      <td>69.45</td>\n",
       "      <td>30.3</td>\n",
       "      <td>never smoked</td>\n",
       "      <td>0</td>\n",
       "    </tr>\n",
       "    <tr>\n",
       "      <th>10490</th>\n",
       "      <td>Female</td>\n",
       "      <td>25.0</td>\n",
       "      <td>0</td>\n",
       "      <td>0</td>\n",
       "      <td>Yes</td>\n",
       "      <td>Private</td>\n",
       "      <td>Rural</td>\n",
       "      <td>55.34</td>\n",
       "      <td>27.1</td>\n",
       "      <td>never smoked</td>\n",
       "      <td>0</td>\n",
       "    </tr>\n",
       "    <tr>\n",
       "      <th>13576</th>\n",
       "      <td>Male</td>\n",
       "      <td>7.0</td>\n",
       "      <td>0</td>\n",
       "      <td>0</td>\n",
       "      <td>No</td>\n",
       "      <td>children</td>\n",
       "      <td>Rural</td>\n",
       "      <td>77.12</td>\n",
       "      <td>18.6</td>\n",
       "      <td>Unknown</td>\n",
       "      <td>0</td>\n",
       "    </tr>\n",
       "  </tbody>\n",
       "</table>\n",
       "</div>"
      ],
      "text/plain": [
       "       gender   age  hypertension  heart_disease ever_married      work_type  \\\n",
       "8358     Male  32.0             0              0          Yes        Private   \n",
       "3674     Male  17.0             0              0           No        Private   \n",
       "3513     Male  30.0             0              0           No  Self-employed   \n",
       "2978     Male  37.0             0              0           No        Private   \n",
       "14547    Male   2.0             0              0           No       children   \n",
       "3825     Male  25.0             0              0           No        Private   \n",
       "7674     Male  58.0             0              0          Yes  Self-employed   \n",
       "9955   Female  63.0             0              0          Yes  Self-employed   \n",
       "10490  Female  25.0             0              0          Yes        Private   \n",
       "13576    Male   7.0             0              0           No       children   \n",
       "\n",
       "      Residence_type  avg_glucose_level   bmi smoking_status  stroke  \n",
       "8358           Urban              57.46  43.4         smokes       0  \n",
       "3674           Urban             123.41  30.2        Unknown       0  \n",
       "3513           Rural              62.99  31.8   never smoked       0  \n",
       "2978           Urban              78.32  29.1        Unknown       0  \n",
       "14547          Urban              57.83  18.7        Unknown       0  \n",
       "3825           Urban              92.34  26.1         smokes       0  \n",
       "7674           Urban              65.78  26.7   never smoked       0  \n",
       "9955           Rural              69.45  30.3   never smoked       0  \n",
       "10490          Rural              55.34  27.1   never smoked       0  \n",
       "13576          Rural              77.12  18.6        Unknown       0  "
      ]
     },
     "execution_count": 141,
     "metadata": {},
     "output_type": "execute_result"
    }
   ],
   "source": [
    "non_stroke_data.sample(10)"
   ]
  },
  {
   "cell_type": "code",
   "execution_count": 142,
   "id": "fbd660e3",
   "metadata": {},
   "outputs": [
    {
     "data": {
      "text/plain": [
       "stroke\n",
       "0    14671\n",
       "1      632\n",
       "Name: count, dtype: int64"
      ]
     },
     "execution_count": 142,
     "metadata": {},
     "output_type": "execute_result"
    }
   ],
   "source": [
    "stroke_count = data[\"stroke\"].value_counts()\n",
    "stroke_count"
   ]
  },
  {
   "cell_type": "code",
   "execution_count": 143,
   "id": "b346be5e",
   "metadata": {},
   "outputs": [
    {
     "data": {
      "application/vnd.plotly.v1+json": {
       "config": {
        "plotlyServerURL": "https://plot.ly"
       },
       "data": [
        {
         "domain": {
          "x": [
           0,
           1
          ],
          "y": [
           0,
           1
          ]
         },
         "hovertemplate": "stroke=%{label}<br>value=%{value}<extra></extra>",
         "labels": {
          "bdata": "AAE=",
          "dtype": "i1"
         },
         "legendgroup": "",
         "name": "",
         "showlegend": true,
         "type": "pie",
         "values": {
          "bdata": "Tzl4Ag==",
          "dtype": "i2"
         }
        }
       ],
       "layout": {
        "height": 600,
        "legend": {
         "title": {
          "text": "Stroke Status"
         },
         "tracegroupgap": 0
        },
        "paper_bgcolor": "lightgray",
        "piecolorway": [
         "#B7410E",
         "#008080"
        ],
        "plot_bgcolor": "black",
        "template": {
         "data": {
          "bar": [
           {
            "error_x": {
             "color": "#2a3f5f"
            },
            "error_y": {
             "color": "#2a3f5f"
            },
            "marker": {
             "line": {
              "color": "#E5ECF6",
              "width": 0.5
             },
             "pattern": {
              "fillmode": "overlay",
              "size": 10,
              "solidity": 0.2
             }
            },
            "type": "bar"
           }
          ],
          "barpolar": [
           {
            "marker": {
             "line": {
              "color": "#E5ECF6",
              "width": 0.5
             },
             "pattern": {
              "fillmode": "overlay",
              "size": 10,
              "solidity": 0.2
             }
            },
            "type": "barpolar"
           }
          ],
          "carpet": [
           {
            "aaxis": {
             "endlinecolor": "#2a3f5f",
             "gridcolor": "white",
             "linecolor": "white",
             "minorgridcolor": "white",
             "startlinecolor": "#2a3f5f"
            },
            "baxis": {
             "endlinecolor": "#2a3f5f",
             "gridcolor": "white",
             "linecolor": "white",
             "minorgridcolor": "white",
             "startlinecolor": "#2a3f5f"
            },
            "type": "carpet"
           }
          ],
          "choropleth": [
           {
            "colorbar": {
             "outlinewidth": 0,
             "ticks": ""
            },
            "type": "choropleth"
           }
          ],
          "contour": [
           {
            "colorbar": {
             "outlinewidth": 0,
             "ticks": ""
            },
            "colorscale": [
             [
              0,
              "#0d0887"
             ],
             [
              0.1111111111111111,
              "#46039f"
             ],
             [
              0.2222222222222222,
              "#7201a8"
             ],
             [
              0.3333333333333333,
              "#9c179e"
             ],
             [
              0.4444444444444444,
              "#bd3786"
             ],
             [
              0.5555555555555556,
              "#d8576b"
             ],
             [
              0.6666666666666666,
              "#ed7953"
             ],
             [
              0.7777777777777778,
              "#fb9f3a"
             ],
             [
              0.8888888888888888,
              "#fdca26"
             ],
             [
              1,
              "#f0f921"
             ]
            ],
            "type": "contour"
           }
          ],
          "contourcarpet": [
           {
            "colorbar": {
             "outlinewidth": 0,
             "ticks": ""
            },
            "type": "contourcarpet"
           }
          ],
          "heatmap": [
           {
            "colorbar": {
             "outlinewidth": 0,
             "ticks": ""
            },
            "colorscale": [
             [
              0,
              "#0d0887"
             ],
             [
              0.1111111111111111,
              "#46039f"
             ],
             [
              0.2222222222222222,
              "#7201a8"
             ],
             [
              0.3333333333333333,
              "#9c179e"
             ],
             [
              0.4444444444444444,
              "#bd3786"
             ],
             [
              0.5555555555555556,
              "#d8576b"
             ],
             [
              0.6666666666666666,
              "#ed7953"
             ],
             [
              0.7777777777777778,
              "#fb9f3a"
             ],
             [
              0.8888888888888888,
              "#fdca26"
             ],
             [
              1,
              "#f0f921"
             ]
            ],
            "type": "heatmap"
           }
          ],
          "histogram": [
           {
            "marker": {
             "pattern": {
              "fillmode": "overlay",
              "size": 10,
              "solidity": 0.2
             }
            },
            "type": "histogram"
           }
          ],
          "histogram2d": [
           {
            "colorbar": {
             "outlinewidth": 0,
             "ticks": ""
            },
            "colorscale": [
             [
              0,
              "#0d0887"
             ],
             [
              0.1111111111111111,
              "#46039f"
             ],
             [
              0.2222222222222222,
              "#7201a8"
             ],
             [
              0.3333333333333333,
              "#9c179e"
             ],
             [
              0.4444444444444444,
              "#bd3786"
             ],
             [
              0.5555555555555556,
              "#d8576b"
             ],
             [
              0.6666666666666666,
              "#ed7953"
             ],
             [
              0.7777777777777778,
              "#fb9f3a"
             ],
             [
              0.8888888888888888,
              "#fdca26"
             ],
             [
              1,
              "#f0f921"
             ]
            ],
            "type": "histogram2d"
           }
          ],
          "histogram2dcontour": [
           {
            "colorbar": {
             "outlinewidth": 0,
             "ticks": ""
            },
            "colorscale": [
             [
              0,
              "#0d0887"
             ],
             [
              0.1111111111111111,
              "#46039f"
             ],
             [
              0.2222222222222222,
              "#7201a8"
             ],
             [
              0.3333333333333333,
              "#9c179e"
             ],
             [
              0.4444444444444444,
              "#bd3786"
             ],
             [
              0.5555555555555556,
              "#d8576b"
             ],
             [
              0.6666666666666666,
              "#ed7953"
             ],
             [
              0.7777777777777778,
              "#fb9f3a"
             ],
             [
              0.8888888888888888,
              "#fdca26"
             ],
             [
              1,
              "#f0f921"
             ]
            ],
            "type": "histogram2dcontour"
           }
          ],
          "mesh3d": [
           {
            "colorbar": {
             "outlinewidth": 0,
             "ticks": ""
            },
            "type": "mesh3d"
           }
          ],
          "parcoords": [
           {
            "line": {
             "colorbar": {
              "outlinewidth": 0,
              "ticks": ""
             }
            },
            "type": "parcoords"
           }
          ],
          "pie": [
           {
            "automargin": true,
            "type": "pie"
           }
          ],
          "scatter": [
           {
            "fillpattern": {
             "fillmode": "overlay",
             "size": 10,
             "solidity": 0.2
            },
            "type": "scatter"
           }
          ],
          "scatter3d": [
           {
            "line": {
             "colorbar": {
              "outlinewidth": 0,
              "ticks": ""
             }
            },
            "marker": {
             "colorbar": {
              "outlinewidth": 0,
              "ticks": ""
             }
            },
            "type": "scatter3d"
           }
          ],
          "scattercarpet": [
           {
            "marker": {
             "colorbar": {
              "outlinewidth": 0,
              "ticks": ""
             }
            },
            "type": "scattercarpet"
           }
          ],
          "scattergeo": [
           {
            "marker": {
             "colorbar": {
              "outlinewidth": 0,
              "ticks": ""
             }
            },
            "type": "scattergeo"
           }
          ],
          "scattergl": [
           {
            "marker": {
             "colorbar": {
              "outlinewidth": 0,
              "ticks": ""
             }
            },
            "type": "scattergl"
           }
          ],
          "scattermap": [
           {
            "marker": {
             "colorbar": {
              "outlinewidth": 0,
              "ticks": ""
             }
            },
            "type": "scattermap"
           }
          ],
          "scattermapbox": [
           {
            "marker": {
             "colorbar": {
              "outlinewidth": 0,
              "ticks": ""
             }
            },
            "type": "scattermapbox"
           }
          ],
          "scatterpolar": [
           {
            "marker": {
             "colorbar": {
              "outlinewidth": 0,
              "ticks": ""
             }
            },
            "type": "scatterpolar"
           }
          ],
          "scatterpolargl": [
           {
            "marker": {
             "colorbar": {
              "outlinewidth": 0,
              "ticks": ""
             }
            },
            "type": "scatterpolargl"
           }
          ],
          "scatterternary": [
           {
            "marker": {
             "colorbar": {
              "outlinewidth": 0,
              "ticks": ""
             }
            },
            "type": "scatterternary"
           }
          ],
          "surface": [
           {
            "colorbar": {
             "outlinewidth": 0,
             "ticks": ""
            },
            "colorscale": [
             [
              0,
              "#0d0887"
             ],
             [
              0.1111111111111111,
              "#46039f"
             ],
             [
              0.2222222222222222,
              "#7201a8"
             ],
             [
              0.3333333333333333,
              "#9c179e"
             ],
             [
              0.4444444444444444,
              "#bd3786"
             ],
             [
              0.5555555555555556,
              "#d8576b"
             ],
             [
              0.6666666666666666,
              "#ed7953"
             ],
             [
              0.7777777777777778,
              "#fb9f3a"
             ],
             [
              0.8888888888888888,
              "#fdca26"
             ],
             [
              1,
              "#f0f921"
             ]
            ],
            "type": "surface"
           }
          ],
          "table": [
           {
            "cells": {
             "fill": {
              "color": "#EBF0F8"
             },
             "line": {
              "color": "white"
             }
            },
            "header": {
             "fill": {
              "color": "#C8D4E3"
             },
             "line": {
              "color": "white"
             }
            },
            "type": "table"
           }
          ]
         },
         "layout": {
          "annotationdefaults": {
           "arrowcolor": "#2a3f5f",
           "arrowhead": 0,
           "arrowwidth": 1
          },
          "autotypenumbers": "strict",
          "coloraxis": {
           "colorbar": {
            "outlinewidth": 0,
            "ticks": ""
           }
          },
          "colorscale": {
           "diverging": [
            [
             0,
             "#8e0152"
            ],
            [
             0.1,
             "#c51b7d"
            ],
            [
             0.2,
             "#de77ae"
            ],
            [
             0.3,
             "#f1b6da"
            ],
            [
             0.4,
             "#fde0ef"
            ],
            [
             0.5,
             "#f7f7f7"
            ],
            [
             0.6,
             "#e6f5d0"
            ],
            [
             0.7,
             "#b8e186"
            ],
            [
             0.8,
             "#7fbc41"
            ],
            [
             0.9,
             "#4d9221"
            ],
            [
             1,
             "#276419"
            ]
           ],
           "sequential": [
            [
             0,
             "#0d0887"
            ],
            [
             0.1111111111111111,
             "#46039f"
            ],
            [
             0.2222222222222222,
             "#7201a8"
            ],
            [
             0.3333333333333333,
             "#9c179e"
            ],
            [
             0.4444444444444444,
             "#bd3786"
            ],
            [
             0.5555555555555556,
             "#d8576b"
            ],
            [
             0.6666666666666666,
             "#ed7953"
            ],
            [
             0.7777777777777778,
             "#fb9f3a"
            ],
            [
             0.8888888888888888,
             "#fdca26"
            ],
            [
             1,
             "#f0f921"
            ]
           ],
           "sequentialminus": [
            [
             0,
             "#0d0887"
            ],
            [
             0.1111111111111111,
             "#46039f"
            ],
            [
             0.2222222222222222,
             "#7201a8"
            ],
            [
             0.3333333333333333,
             "#9c179e"
            ],
            [
             0.4444444444444444,
             "#bd3786"
            ],
            [
             0.5555555555555556,
             "#d8576b"
            ],
            [
             0.6666666666666666,
             "#ed7953"
            ],
            [
             0.7777777777777778,
             "#fb9f3a"
            ],
            [
             0.8888888888888888,
             "#fdca26"
            ],
            [
             1,
             "#f0f921"
            ]
           ]
          },
          "colorway": [
           "#636efa",
           "#EF553B",
           "#00cc96",
           "#ab63fa",
           "#FFA15A",
           "#19d3f3",
           "#FF6692",
           "#B6E880",
           "#FF97FF",
           "#FECB52"
          ],
          "font": {
           "color": "#2a3f5f"
          },
          "geo": {
           "bgcolor": "white",
           "lakecolor": "white",
           "landcolor": "#E5ECF6",
           "showlakes": true,
           "showland": true,
           "subunitcolor": "white"
          },
          "hoverlabel": {
           "align": "left"
          },
          "hovermode": "closest",
          "mapbox": {
           "style": "light"
          },
          "paper_bgcolor": "white",
          "plot_bgcolor": "#E5ECF6",
          "polar": {
           "angularaxis": {
            "gridcolor": "white",
            "linecolor": "white",
            "ticks": ""
           },
           "bgcolor": "#E5ECF6",
           "radialaxis": {
            "gridcolor": "white",
            "linecolor": "white",
            "ticks": ""
           }
          },
          "scene": {
           "xaxis": {
            "backgroundcolor": "#E5ECF6",
            "gridcolor": "white",
            "gridwidth": 2,
            "linecolor": "white",
            "showbackground": true,
            "ticks": "",
            "zerolinecolor": "white"
           },
           "yaxis": {
            "backgroundcolor": "#E5ECF6",
            "gridcolor": "white",
            "gridwidth": 2,
            "linecolor": "white",
            "showbackground": true,
            "ticks": "",
            "zerolinecolor": "white"
           },
           "zaxis": {
            "backgroundcolor": "#E5ECF6",
            "gridcolor": "white",
            "gridwidth": 2,
            "linecolor": "white",
            "showbackground": true,
            "ticks": "",
            "zerolinecolor": "white"
           }
          },
          "shapedefaults": {
           "line": {
            "color": "#2a3f5f"
           }
          },
          "ternary": {
           "aaxis": {
            "gridcolor": "white",
            "linecolor": "white",
            "ticks": ""
           },
           "baxis": {
            "gridcolor": "white",
            "linecolor": "white",
            "ticks": ""
           },
           "bgcolor": "#E5ECF6",
           "caxis": {
            "gridcolor": "white",
            "linecolor": "white",
            "ticks": ""
           }
          },
          "title": {
           "x": 0.05
          },
          "xaxis": {
           "automargin": true,
           "gridcolor": "white",
           "linecolor": "white",
           "ticks": "",
           "title": {
            "standoff": 15
           },
           "zerolinecolor": "white",
           "zerolinewidth": 2
          },
          "yaxis": {
           "automargin": true,
           "gridcolor": "white",
           "linecolor": "white",
           "ticks": "",
           "title": {
            "standoff": 15
           },
           "zerolinecolor": "white",
           "zerolinewidth": 2
          }
         }
        },
        "title": {
         "text": "Proportion of Stroke Cases",
         "x": 0.3,
         "y": 0.95
        },
        "width": 1000
       }
      }
     },
     "metadata": {},
     "output_type": "display_data"
    }
   ],
   "source": [
    "# plot for stroke and non stroke: pie chart: univariate analysis\n",
    "fig = px.pie(\n",
    "    stroke_count,\n",
    "    values = stroke_count.values,\n",
    "    names = stroke_count.index,\n",
    "    title = \"Proportion of Stroke Cases\",\n",
    "    color_discrete_sequence = plot_color\n",
    ")\n",
    "fig.update_layout(\n",
    "    legend_title_text = \"Stroke Status\",\n",
    "    title_x = 0.3,\n",
    "    title_y = 0.95,\n",
    "    paper_bgcolor=\"lightgray\",\n",
    "    plot_bgcolor=\"black\",\n",
    "    width=1000,\n",
    "    height=600\n",
    ")\n",
    "fig.show()"
   ]
  },
  {
   "cell_type": "code",
   "execution_count": 144,
   "id": "108e9fa8",
   "metadata": {},
   "outputs": [],
   "source": [
    "# bivariate analysis\n",
    "def custom_hist(column:str, titles:list)->go.Figure:\n",
    "    fig = sp.make_subplots(\n",
    "        rows=1,\n",
    "        cols=2,\n",
    "        subplot_titles = ['Stroke', 'No Stroke']\n",
    "    )\n",
    "    stroke_hist = px.histogram(\n",
    "        stroke_data,\n",
    "        x = column,\n",
    "        color_discrete_sequence = [\"#B7410E\"]\n",
    "    )\n",
    "    non_stroke_hist = px.histogram(\n",
    "        non_stroke_data,\n",
    "        x = column,\n",
    "        color_discrete_sequence = [\"#008080\"]\n",
    "    )\n",
    "    fig.add_trace(stroke_hist.data[0], row=1, col=1)\n",
    "    fig.add_trace(non_stroke_hist.data[0], row=1, col=2)\n",
    "    fig.update_layout(title = titles[0], title_x = 0.5)\n",
    "    fig.update_xaxes(title_text = titles[1], row=1, col=1)\n",
    "    fig.update_xaxes(title_text = titles[1], row=1, col=2)\n",
    "    fig.update_yaxes(title_text = \"Count\")\n",
    "\n",
    "    return fig"
   ]
  },
  {
   "cell_type": "code",
   "execution_count": 145,
   "id": "018ea145",
   "metadata": {},
   "outputs": [
    {
     "data": {
      "application/vnd.plotly.v1+json": {
       "config": {
        "plotlyServerURL": "https://plot.ly"
       },
       "data": [
        {
         "bingroup": "x",
         "hovertemplate": "avg_glucose_level=%{x}<br>count=%{y}<extra></extra>",
         "legendgroup": "",
         "marker": {
          "color": "#B7410E",
          "pattern": {
           "shape": ""
          }
         },
         "name": "",
         "orientation": "v",
         "showlegend": false,
         "type": "histogram",
         "x": {
          "bdata": "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",
          "dtype": "f8"
         },
         "xaxis": "x",
         "yaxis": "y"
        },
        {
         "bingroup": "x",
         "hovertemplate": "avg_glucose_level=%{x}<br>count=%{y}<extra></extra>",
         "legendgroup": "",
         "marker": {
          "color": "#008080",
          "pattern": {
           "shape": ""
          }
         },
         "name": "",
         "orientation": "v",
         "showlegend": false,
         "type": "histogram",
         "x": {
          "bdata": "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",
          "dtype": "f8"
         },
         "xaxis": "x2",
         "yaxis": "y2"
        }
       ],
       "layout": {
        "annotations": [
         {
          "font": {
           "size": 16
          },
          "showarrow": false,
          "text": "Stroke",
          "x": 0.225,
          "xanchor": "center",
          "xref": "paper",
          "y": 1,
          "yanchor": "bottom",
          "yref": "paper"
         },
         {
          "font": {
           "size": 16
          },
          "showarrow": false,
          "text": "No Stroke",
          "x": 0.775,
          "xanchor": "center",
          "xref": "paper",
          "y": 1,
          "yanchor": "bottom",
          "yref": "paper"
         }
        ],
        "template": {
         "data": {
          "bar": [
           {
            "error_x": {
             "color": "#2a3f5f"
            },
            "error_y": {
             "color": "#2a3f5f"
            },
            "marker": {
             "line": {
              "color": "#E5ECF6",
              "width": 0.5
             },
             "pattern": {
              "fillmode": "overlay",
              "size": 10,
              "solidity": 0.2
             }
            },
            "type": "bar"
           }
          ],
          "barpolar": [
           {
            "marker": {
             "line": {
              "color": "#E5ECF6",
              "width": 0.5
             },
             "pattern": {
              "fillmode": "overlay",
              "size": 10,
              "solidity": 0.2
             }
            },
            "type": "barpolar"
           }
          ],
          "carpet": [
           {
            "aaxis": {
             "endlinecolor": "#2a3f5f",
             "gridcolor": "white",
             "linecolor": "white",
             "minorgridcolor": "white",
             "startlinecolor": "#2a3f5f"
            },
            "baxis": {
             "endlinecolor": "#2a3f5f",
             "gridcolor": "white",
             "linecolor": "white",
             "minorgridcolor": "white",
             "startlinecolor": "#2a3f5f"
            },
            "type": "carpet"
           }
          ],
          "choropleth": [
           {
            "colorbar": {
             "outlinewidth": 0,
             "ticks": ""
            },
            "type": "choropleth"
           }
          ],
          "contour": [
           {
            "colorbar": {
             "outlinewidth": 0,
             "ticks": ""
            },
            "colorscale": [
             [
              0,
              "#0d0887"
             ],
             [
              0.1111111111111111,
              "#46039f"
             ],
             [
              0.2222222222222222,
              "#7201a8"
             ],
             [
              0.3333333333333333,
              "#9c179e"
             ],
             [
              0.4444444444444444,
              "#bd3786"
             ],
             [
              0.5555555555555556,
              "#d8576b"
             ],
             [
              0.6666666666666666,
              "#ed7953"
             ],
             [
              0.7777777777777778,
              "#fb9f3a"
             ],
             [
              0.8888888888888888,
              "#fdca26"
             ],
             [
              1,
              "#f0f921"
             ]
            ],
            "type": "contour"
           }
          ],
          "contourcarpet": [
           {
            "colorbar": {
             "outlinewidth": 0,
             "ticks": ""
            },
            "type": "contourcarpet"
           }
          ],
          "heatmap": [
           {
            "colorbar": {
             "outlinewidth": 0,
             "ticks": ""
            },
            "colorscale": [
             [
              0,
              "#0d0887"
             ],
             [
              0.1111111111111111,
              "#46039f"
             ],
             [
              0.2222222222222222,
              "#7201a8"
             ],
             [
              0.3333333333333333,
              "#9c179e"
             ],
             [
              0.4444444444444444,
              "#bd3786"
             ],
             [
              0.5555555555555556,
              "#d8576b"
             ],
             [
              0.6666666666666666,
              "#ed7953"
             ],
             [
              0.7777777777777778,
              "#fb9f3a"
             ],
             [
              0.8888888888888888,
              "#fdca26"
             ],
             [
              1,
              "#f0f921"
             ]
            ],
            "type": "heatmap"
           }
          ],
          "histogram": [
           {
            "marker": {
             "pattern": {
              "fillmode": "overlay",
              "size": 10,
              "solidity": 0.2
             }
            },
            "type": "histogram"
           }
          ],
          "histogram2d": [
           {
            "colorbar": {
             "outlinewidth": 0,
             "ticks": ""
            },
            "colorscale": [
             [
              0,
              "#0d0887"
             ],
             [
              0.1111111111111111,
              "#46039f"
             ],
             [
              0.2222222222222222,
              "#7201a8"
             ],
             [
              0.3333333333333333,
              "#9c179e"
             ],
             [
              0.4444444444444444,
              "#bd3786"
             ],
             [
              0.5555555555555556,
              "#d8576b"
             ],
             [
              0.6666666666666666,
              "#ed7953"
             ],
             [
              0.7777777777777778,
              "#fb9f3a"
             ],
             [
              0.8888888888888888,
              "#fdca26"
             ],
             [
              1,
              "#f0f921"
             ]
            ],
            "type": "histogram2d"
           }
          ],
          "histogram2dcontour": [
           {
            "colorbar": {
             "outlinewidth": 0,
             "ticks": ""
            },
            "colorscale": [
             [
              0,
              "#0d0887"
             ],
             [
              0.1111111111111111,
              "#46039f"
             ],
             [
              0.2222222222222222,
              "#7201a8"
             ],
             [
              0.3333333333333333,
              "#9c179e"
             ],
             [
              0.4444444444444444,
              "#bd3786"
             ],
             [
              0.5555555555555556,
              "#d8576b"
             ],
             [
              0.6666666666666666,
              "#ed7953"
             ],
             [
              0.7777777777777778,
              "#fb9f3a"
             ],
             [
              0.8888888888888888,
              "#fdca26"
             ],
             [
              1,
              "#f0f921"
             ]
            ],
            "type": "histogram2dcontour"
           }
          ],
          "mesh3d": [
           {
            "colorbar": {
             "outlinewidth": 0,
             "ticks": ""
            },
            "type": "mesh3d"
           }
          ],
          "parcoords": [
           {
            "line": {
             "colorbar": {
              "outlinewidth": 0,
              "ticks": ""
             }
            },
            "type": "parcoords"
           }
          ],
          "pie": [
           {
            "automargin": true,
            "type": "pie"
           }
          ],
          "scatter": [
           {
            "fillpattern": {
             "fillmode": "overlay",
             "size": 10,
             "solidity": 0.2
            },
            "type": "scatter"
           }
          ],
          "scatter3d": [
           {
            "line": {
             "colorbar": {
              "outlinewidth": 0,
              "ticks": ""
             }
            },
            "marker": {
             "colorbar": {
              "outlinewidth": 0,
              "ticks": ""
             }
            },
            "type": "scatter3d"
           }
          ],
          "scattercarpet": [
           {
            "marker": {
             "colorbar": {
              "outlinewidth": 0,
              "ticks": ""
             }
            },
            "type": "scattercarpet"
           }
          ],
          "scattergeo": [
           {
            "marker": {
             "colorbar": {
              "outlinewidth": 0,
              "ticks": ""
             }
            },
            "type": "scattergeo"
           }
          ],
          "scattergl": [
           {
            "marker": {
             "colorbar": {
              "outlinewidth": 0,
              "ticks": ""
             }
            },
            "type": "scattergl"
           }
          ],
          "scattermap": [
           {
            "marker": {
             "colorbar": {
              "outlinewidth": 0,
              "ticks": ""
             }
            },
            "type": "scattermap"
           }
          ],
          "scattermapbox": [
           {
            "marker": {
             "colorbar": {
              "outlinewidth": 0,
              "ticks": ""
             }
            },
            "type": "scattermapbox"
           }
          ],
          "scatterpolar": [
           {
            "marker": {
             "colorbar": {
              "outlinewidth": 0,
              "ticks": ""
             }
            },
            "type": "scatterpolar"
           }
          ],
          "scatterpolargl": [
           {
            "marker": {
             "colorbar": {
              "outlinewidth": 0,
              "ticks": ""
             }
            },
            "type": "scatterpolargl"
           }
          ],
          "scatterternary": [
           {
            "marker": {
             "colorbar": {
              "outlinewidth": 0,
              "ticks": ""
             }
            },
            "type": "scatterternary"
           }
          ],
          "surface": [
           {
            "colorbar": {
             "outlinewidth": 0,
             "ticks": ""
            },
            "colorscale": [
             [
              0,
              "#0d0887"
             ],
             [
              0.1111111111111111,
              "#46039f"
             ],
             [
              0.2222222222222222,
              "#7201a8"
             ],
             [
              0.3333333333333333,
              "#9c179e"
             ],
             [
              0.4444444444444444,
              "#bd3786"
             ],
             [
              0.5555555555555556,
              "#d8576b"
             ],
             [
              0.6666666666666666,
              "#ed7953"
             ],
             [
              0.7777777777777778,
              "#fb9f3a"
             ],
             [
              0.8888888888888888,
              "#fdca26"
             ],
             [
              1,
              "#f0f921"
             ]
            ],
            "type": "surface"
           }
          ],
          "table": [
           {
            "cells": {
             "fill": {
              "color": "#EBF0F8"
             },
             "line": {
              "color": "white"
             }
            },
            "header": {
             "fill": {
              "color": "#C8D4E3"
             },
             "line": {
              "color": "white"
             }
            },
            "type": "table"
           }
          ]
         },
         "layout": {
          "annotationdefaults": {
           "arrowcolor": "#2a3f5f",
           "arrowhead": 0,
           "arrowwidth": 1
          },
          "autotypenumbers": "strict",
          "coloraxis": {
           "colorbar": {
            "outlinewidth": 0,
            "ticks": ""
           }
          },
          "colorscale": {
           "diverging": [
            [
             0,
             "#8e0152"
            ],
            [
             0.1,
             "#c51b7d"
            ],
            [
             0.2,
             "#de77ae"
            ],
            [
             0.3,
             "#f1b6da"
            ],
            [
             0.4,
             "#fde0ef"
            ],
            [
             0.5,
             "#f7f7f7"
            ],
            [
             0.6,
             "#e6f5d0"
            ],
            [
             0.7,
             "#b8e186"
            ],
            [
             0.8,
             "#7fbc41"
            ],
            [
             0.9,
             "#4d9221"
            ],
            [
             1,
             "#276419"
            ]
           ],
           "sequential": [
            [
             0,
             "#0d0887"
            ],
            [
             0.1111111111111111,
             "#46039f"
            ],
            [
             0.2222222222222222,
             "#7201a8"
            ],
            [
             0.3333333333333333,
             "#9c179e"
            ],
            [
             0.4444444444444444,
             "#bd3786"
            ],
            [
             0.5555555555555556,
             "#d8576b"
            ],
            [
             0.6666666666666666,
             "#ed7953"
            ],
            [
             0.7777777777777778,
             "#fb9f3a"
            ],
            [
             0.8888888888888888,
             "#fdca26"
            ],
            [
             1,
             "#f0f921"
            ]
           ],
           "sequentialminus": [
            [
             0,
             "#0d0887"
            ],
            [
             0.1111111111111111,
             "#46039f"
            ],
            [
             0.2222222222222222,
             "#7201a8"
            ],
            [
             0.3333333333333333,
             "#9c179e"
            ],
            [
             0.4444444444444444,
             "#bd3786"
            ],
            [
             0.5555555555555556,
             "#d8576b"
            ],
            [
             0.6666666666666666,
             "#ed7953"
            ],
            [
             0.7777777777777778,
             "#fb9f3a"
            ],
            [
             0.8888888888888888,
             "#fdca26"
            ],
            [
             1,
             "#f0f921"
            ]
           ]
          },
          "colorway": [
           "#636efa",
           "#EF553B",
           "#00cc96",
           "#ab63fa",
           "#FFA15A",
           "#19d3f3",
           "#FF6692",
           "#B6E880",
           "#FF97FF",
           "#FECB52"
          ],
          "font": {
           "color": "#2a3f5f"
          },
          "geo": {
           "bgcolor": "white",
           "lakecolor": "white",
           "landcolor": "#E5ECF6",
           "showlakes": true,
           "showland": true,
           "subunitcolor": "white"
          },
          "hoverlabel": {
           "align": "left"
          },
          "hovermode": "closest",
          "mapbox": {
           "style": "light"
          },
          "paper_bgcolor": "white",
          "plot_bgcolor": "#E5ECF6",
          "polar": {
           "angularaxis": {
            "gridcolor": "white",
            "linecolor": "white",
            "ticks": ""
           },
           "bgcolor": "#E5ECF6",
           "radialaxis": {
            "gridcolor": "white",
            "linecolor": "white",
            "ticks": ""
           }
          },
          "scene": {
           "xaxis": {
            "backgroundcolor": "#E5ECF6",
            "gridcolor": "white",
            "gridwidth": 2,
            "linecolor": "white",
            "showbackground": true,
            "ticks": "",
            "zerolinecolor": "white"
           },
           "yaxis": {
            "backgroundcolor": "#E5ECF6",
            "gridcolor": "white",
            "gridwidth": 2,
            "linecolor": "white",
            "showbackground": true,
            "ticks": "",
            "zerolinecolor": "white"
           },
           "zaxis": {
            "backgroundcolor": "#E5ECF6",
            "gridcolor": "white",
            "gridwidth": 2,
            "linecolor": "white",
            "showbackground": true,
            "ticks": "",
            "zerolinecolor": "white"
           }
          },
          "shapedefaults": {
           "line": {
            "color": "#2a3f5f"
           }
          },
          "ternary": {
           "aaxis": {
            "gridcolor": "white",
            "linecolor": "white",
            "ticks": ""
           },
           "baxis": {
            "gridcolor": "white",
            "linecolor": "white",
            "ticks": ""
           },
           "bgcolor": "#E5ECF6",
           "caxis": {
            "gridcolor": "white",
            "linecolor": "white",
            "ticks": ""
           }
          },
          "title": {
           "x": 0.05
          },
          "xaxis": {
           "automargin": true,
           "gridcolor": "white",
           "linecolor": "white",
           "ticks": "",
           "title": {
            "standoff": 15
           },
           "zerolinecolor": "white",
           "zerolinewidth": 2
          },
          "yaxis": {
           "automargin": true,
           "gridcolor": "white",
           "linecolor": "white",
           "ticks": "",
           "title": {
            "standoff": 15
           },
           "zerolinecolor": "white",
           "zerolinewidth": 2
          }
         }
        },
        "title": {
         "text": "Average Glucose Level Distribution by Stroke",
         "x": 0.5
        },
        "xaxis": {
         "anchor": "y",
         "domain": [
          0,
          0.45
         ],
         "title": {
          "text": "Average Glucose Level"
         }
        },
        "xaxis2": {
         "anchor": "y2",
         "domain": [
          0.55,
          1
         ],
         "title": {
          "text": "Average Glucose Level"
         }
        },
        "yaxis": {
         "anchor": "x",
         "domain": [
          0,
          1
         ],
         "title": {
          "text": "Count"
         }
        },
        "yaxis2": {
         "anchor": "x2",
         "domain": [
          0,
          1
         ],
         "title": {
          "text": "Count"
         }
        }
       }
      }
     },
     "metadata": {},
     "output_type": "display_data"
    }
   ],
   "source": [
    "# glucose levels distribution by stroke\n",
    "column = \"avg_glucose_level\"\n",
    "glucose_titles = [\n",
    "    \"Average Glucose Level Distribution by Stroke\",\n",
    "    \"Average Glucose Level\"\n",
    "]\n",
    "glu_fig = custom_hist(column, glucose_titles)\n",
    "glu_fig.show()"
   ]
  },
  {
   "cell_type": "code",
   "execution_count": 146,
   "id": "b831728a",
   "metadata": {},
   "outputs": [
    {
     "data": {
      "application/vnd.plotly.v1+json": {
       "config": {
        "plotlyServerURL": "https://plot.ly"
       },
       "data": [
        {
         "bingroup": "x",
         "hovertemplate": "age=%{x}<br>count=%{y}<extra></extra>",
         "legendgroup": "",
         "marker": {
          "color": "#B7410E",
          "pattern": {
           "shape": ""
          }
         },
         "name": "",
         "orientation": "v",
         "showlegend": false,
         "type": "histogram",
         "x": {
          "bdata": "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",
          "dtype": "f8"
         },
         "xaxis": "x",
         "yaxis": "y"
        },
        {
         "bingroup": "x",
         "hovertemplate": "age=%{x}<br>count=%{y}<extra></extra>",
         "legendgroup": "",
         "marker": {
          "color": "#008080",
          "pattern": {
           "shape": ""
          }
         },
         "name": "",
         "orientation": "v",
         "showlegend": false,
         "type": "histogram",
         "x": {
          "bdata": "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",
          "dtype": "f8"
         },
         "xaxis": "x2",
         "yaxis": "y2"
        }
       ],
       "layout": {
        "annotations": [
         {
          "font": {
           "size": 16
          },
          "showarrow": false,
          "text": "Stroke",
          "x": 0.225,
          "xanchor": "center",
          "xref": "paper",
          "y": 1,
          "yanchor": "bottom",
          "yref": "paper"
         },
         {
          "font": {
           "size": 16
          },
          "showarrow": false,
          "text": "No Stroke",
          "x": 0.775,
          "xanchor": "center",
          "xref": "paper",
          "y": 1,
          "yanchor": "bottom",
          "yref": "paper"
         }
        ],
        "template": {
         "data": {
          "bar": [
           {
            "error_x": {
             "color": "#2a3f5f"
            },
            "error_y": {
             "color": "#2a3f5f"
            },
            "marker": {
             "line": {
              "color": "#E5ECF6",
              "width": 0.5
             },
             "pattern": {
              "fillmode": "overlay",
              "size": 10,
              "solidity": 0.2
             }
            },
            "type": "bar"
           }
          ],
          "barpolar": [
           {
            "marker": {
             "line": {
              "color": "#E5ECF6",
              "width": 0.5
             },
             "pattern": {
              "fillmode": "overlay",
              "size": 10,
              "solidity": 0.2
             }
            },
            "type": "barpolar"
           }
          ],
          "carpet": [
           {
            "aaxis": {
             "endlinecolor": "#2a3f5f",
             "gridcolor": "white",
             "linecolor": "white",
             "minorgridcolor": "white",
             "startlinecolor": "#2a3f5f"
            },
            "baxis": {
             "endlinecolor": "#2a3f5f",
             "gridcolor": "white",
             "linecolor": "white",
             "minorgridcolor": "white",
             "startlinecolor": "#2a3f5f"
            },
            "type": "carpet"
           }
          ],
          "choropleth": [
           {
            "colorbar": {
             "outlinewidth": 0,
             "ticks": ""
            },
            "type": "choropleth"
           }
          ],
          "contour": [
           {
            "colorbar": {
             "outlinewidth": 0,
             "ticks": ""
            },
            "colorscale": [
             [
              0,
              "#0d0887"
             ],
             [
              0.1111111111111111,
              "#46039f"
             ],
             [
              0.2222222222222222,
              "#7201a8"
             ],
             [
              0.3333333333333333,
              "#9c179e"
             ],
             [
              0.4444444444444444,
              "#bd3786"
             ],
             [
              0.5555555555555556,
              "#d8576b"
             ],
             [
              0.6666666666666666,
              "#ed7953"
             ],
             [
              0.7777777777777778,
              "#fb9f3a"
             ],
             [
              0.8888888888888888,
              "#fdca26"
             ],
             [
              1,
              "#f0f921"
             ]
            ],
            "type": "contour"
           }
          ],
          "contourcarpet": [
           {
            "colorbar": {
             "outlinewidth": 0,
             "ticks": ""
            },
            "type": "contourcarpet"
           }
          ],
          "heatmap": [
           {
            "colorbar": {
             "outlinewidth": 0,
             "ticks": ""
            },
            "colorscale": [
             [
              0,
              "#0d0887"
             ],
             [
              0.1111111111111111,
              "#46039f"
             ],
             [
              0.2222222222222222,
              "#7201a8"
             ],
             [
              0.3333333333333333,
              "#9c179e"
             ],
             [
              0.4444444444444444,
              "#bd3786"
             ],
             [
              0.5555555555555556,
              "#d8576b"
             ],
             [
              0.6666666666666666,
              "#ed7953"
             ],
             [
              0.7777777777777778,
              "#fb9f3a"
             ],
             [
              0.8888888888888888,
              "#fdca26"
             ],
             [
              1,
              "#f0f921"
             ]
            ],
            "type": "heatmap"
           }
          ],
          "histogram": [
           {
            "marker": {
             "pattern": {
              "fillmode": "overlay",
              "size": 10,
              "solidity": 0.2
             }
            },
            "type": "histogram"
           }
          ],
          "histogram2d": [
           {
            "colorbar": {
             "outlinewidth": 0,
             "ticks": ""
            },
            "colorscale": [
             [
              0,
              "#0d0887"
             ],
             [
              0.1111111111111111,
              "#46039f"
             ],
             [
              0.2222222222222222,
              "#7201a8"
             ],
             [
              0.3333333333333333,
              "#9c179e"
             ],
             [
              0.4444444444444444,
              "#bd3786"
             ],
             [
              0.5555555555555556,
              "#d8576b"
             ],
             [
              0.6666666666666666,
              "#ed7953"
             ],
             [
              0.7777777777777778,
              "#fb9f3a"
             ],
             [
              0.8888888888888888,
              "#fdca26"
             ],
             [
              1,
              "#f0f921"
             ]
            ],
            "type": "histogram2d"
           }
          ],
          "histogram2dcontour": [
           {
            "colorbar": {
             "outlinewidth": 0,
             "ticks": ""
            },
            "colorscale": [
             [
              0,
              "#0d0887"
             ],
             [
              0.1111111111111111,
              "#46039f"
             ],
             [
              0.2222222222222222,
              "#7201a8"
             ],
             [
              0.3333333333333333,
              "#9c179e"
             ],
             [
              0.4444444444444444,
              "#bd3786"
             ],
             [
              0.5555555555555556,
              "#d8576b"
             ],
             [
              0.6666666666666666,
              "#ed7953"
             ],
             [
              0.7777777777777778,
              "#fb9f3a"
             ],
             [
              0.8888888888888888,
              "#fdca26"
             ],
             [
              1,
              "#f0f921"
             ]
            ],
            "type": "histogram2dcontour"
           }
          ],
          "mesh3d": [
           {
            "colorbar": {
             "outlinewidth": 0,
             "ticks": ""
            },
            "type": "mesh3d"
           }
          ],
          "parcoords": [
           {
            "line": {
             "colorbar": {
              "outlinewidth": 0,
              "ticks": ""
             }
            },
            "type": "parcoords"
           }
          ],
          "pie": [
           {
            "automargin": true,
            "type": "pie"
           }
          ],
          "scatter": [
           {
            "fillpattern": {
             "fillmode": "overlay",
             "size": 10,
             "solidity": 0.2
            },
            "type": "scatter"
           }
          ],
          "scatter3d": [
           {
            "line": {
             "colorbar": {
              "outlinewidth": 0,
              "ticks": ""
             }
            },
            "marker": {
             "colorbar": {
              "outlinewidth": 0,
              "ticks": ""
             }
            },
            "type": "scatter3d"
           }
          ],
          "scattercarpet": [
           {
            "marker": {
             "colorbar": {
              "outlinewidth": 0,
              "ticks": ""
             }
            },
            "type": "scattercarpet"
           }
          ],
          "scattergeo": [
           {
            "marker": {
             "colorbar": {
              "outlinewidth": 0,
              "ticks": ""
             }
            },
            "type": "scattergeo"
           }
          ],
          "scattergl": [
           {
            "marker": {
             "colorbar": {
              "outlinewidth": 0,
              "ticks": ""
             }
            },
            "type": "scattergl"
           }
          ],
          "scattermap": [
           {
            "marker": {
             "colorbar": {
              "outlinewidth": 0,
              "ticks": ""
             }
            },
            "type": "scattermap"
           }
          ],
          "scattermapbox": [
           {
            "marker": {
             "colorbar": {
              "outlinewidth": 0,
              "ticks": ""
             }
            },
            "type": "scattermapbox"
           }
          ],
          "scatterpolar": [
           {
            "marker": {
             "colorbar": {
              "outlinewidth": 0,
              "ticks": ""
             }
            },
            "type": "scatterpolar"
           }
          ],
          "scatterpolargl": [
           {
            "marker": {
             "colorbar": {
              "outlinewidth": 0,
              "ticks": ""
             }
            },
            "type": "scatterpolargl"
           }
          ],
          "scatterternary": [
           {
            "marker": {
             "colorbar": {
              "outlinewidth": 0,
              "ticks": ""
             }
            },
            "type": "scatterternary"
           }
          ],
          "surface": [
           {
            "colorbar": {
             "outlinewidth": 0,
             "ticks": ""
            },
            "colorscale": [
             [
              0,
              "#0d0887"
             ],
             [
              0.1111111111111111,
              "#46039f"
             ],
             [
              0.2222222222222222,
              "#7201a8"
             ],
             [
              0.3333333333333333,
              "#9c179e"
             ],
             [
              0.4444444444444444,
              "#bd3786"
             ],
             [
              0.5555555555555556,
              "#d8576b"
             ],
             [
              0.6666666666666666,
              "#ed7953"
             ],
             [
              0.7777777777777778,
              "#fb9f3a"
             ],
             [
              0.8888888888888888,
              "#fdca26"
             ],
             [
              1,
              "#f0f921"
             ]
            ],
            "type": "surface"
           }
          ],
          "table": [
           {
            "cells": {
             "fill": {
              "color": "#EBF0F8"
             },
             "line": {
              "color": "white"
             }
            },
            "header": {
             "fill": {
              "color": "#C8D4E3"
             },
             "line": {
              "color": "white"
             }
            },
            "type": "table"
           }
          ]
         },
         "layout": {
          "annotationdefaults": {
           "arrowcolor": "#2a3f5f",
           "arrowhead": 0,
           "arrowwidth": 1
          },
          "autotypenumbers": "strict",
          "coloraxis": {
           "colorbar": {
            "outlinewidth": 0,
            "ticks": ""
           }
          },
          "colorscale": {
           "diverging": [
            [
             0,
             "#8e0152"
            ],
            [
             0.1,
             "#c51b7d"
            ],
            [
             0.2,
             "#de77ae"
            ],
            [
             0.3,
             "#f1b6da"
            ],
            [
             0.4,
             "#fde0ef"
            ],
            [
             0.5,
             "#f7f7f7"
            ],
            [
             0.6,
             "#e6f5d0"
            ],
            [
             0.7,
             "#b8e186"
            ],
            [
             0.8,
             "#7fbc41"
            ],
            [
             0.9,
             "#4d9221"
            ],
            [
             1,
             "#276419"
            ]
           ],
           "sequential": [
            [
             0,
             "#0d0887"
            ],
            [
             0.1111111111111111,
             "#46039f"
            ],
            [
             0.2222222222222222,
             "#7201a8"
            ],
            [
             0.3333333333333333,
             "#9c179e"
            ],
            [
             0.4444444444444444,
             "#bd3786"
            ],
            [
             0.5555555555555556,
             "#d8576b"
            ],
            [
             0.6666666666666666,
             "#ed7953"
            ],
            [
             0.7777777777777778,
             "#fb9f3a"
            ],
            [
             0.8888888888888888,
             "#fdca26"
            ],
            [
             1,
             "#f0f921"
            ]
           ],
           "sequentialminus": [
            [
             0,
             "#0d0887"
            ],
            [
             0.1111111111111111,
             "#46039f"
            ],
            [
             0.2222222222222222,
             "#7201a8"
            ],
            [
             0.3333333333333333,
             "#9c179e"
            ],
            [
             0.4444444444444444,
             "#bd3786"
            ],
            [
             0.5555555555555556,
             "#d8576b"
            ],
            [
             0.6666666666666666,
             "#ed7953"
            ],
            [
             0.7777777777777778,
             "#fb9f3a"
            ],
            [
             0.8888888888888888,
             "#fdca26"
            ],
            [
             1,
             "#f0f921"
            ]
           ]
          },
          "colorway": [
           "#636efa",
           "#EF553B",
           "#00cc96",
           "#ab63fa",
           "#FFA15A",
           "#19d3f3",
           "#FF6692",
           "#B6E880",
           "#FF97FF",
           "#FECB52"
          ],
          "font": {
           "color": "#2a3f5f"
          },
          "geo": {
           "bgcolor": "white",
           "lakecolor": "white",
           "landcolor": "#E5ECF6",
           "showlakes": true,
           "showland": true,
           "subunitcolor": "white"
          },
          "hoverlabel": {
           "align": "left"
          },
          "hovermode": "closest",
          "mapbox": {
           "style": "light"
          },
          "paper_bgcolor": "white",
          "plot_bgcolor": "#E5ECF6",
          "polar": {
           "angularaxis": {
            "gridcolor": "white",
            "linecolor": "white",
            "ticks": ""
           },
           "bgcolor": "#E5ECF6",
           "radialaxis": {
            "gridcolor": "white",
            "linecolor": "white",
            "ticks": ""
           }
          },
          "scene": {
           "xaxis": {
            "backgroundcolor": "#E5ECF6",
            "gridcolor": "white",
            "gridwidth": 2,
            "linecolor": "white",
            "showbackground": true,
            "ticks": "",
            "zerolinecolor": "white"
           },
           "yaxis": {
            "backgroundcolor": "#E5ECF6",
            "gridcolor": "white",
            "gridwidth": 2,
            "linecolor": "white",
            "showbackground": true,
            "ticks": "",
            "zerolinecolor": "white"
           },
           "zaxis": {
            "backgroundcolor": "#E5ECF6",
            "gridcolor": "white",
            "gridwidth": 2,
            "linecolor": "white",
            "showbackground": true,
            "ticks": "",
            "zerolinecolor": "white"
           }
          },
          "shapedefaults": {
           "line": {
            "color": "#2a3f5f"
           }
          },
          "ternary": {
           "aaxis": {
            "gridcolor": "white",
            "linecolor": "white",
            "ticks": ""
           },
           "baxis": {
            "gridcolor": "white",
            "linecolor": "white",
            "ticks": ""
           },
           "bgcolor": "#E5ECF6",
           "caxis": {
            "gridcolor": "white",
            "linecolor": "white",
            "ticks": ""
           }
          },
          "title": {
           "x": 0.05
          },
          "xaxis": {
           "automargin": true,
           "gridcolor": "white",
           "linecolor": "white",
           "ticks": "",
           "title": {
            "standoff": 15
           },
           "zerolinecolor": "white",
           "zerolinewidth": 2
          },
          "yaxis": {
           "automargin": true,
           "gridcolor": "white",
           "linecolor": "white",
           "ticks": "",
           "title": {
            "standoff": 15
           },
           "zerolinecolor": "white",
           "zerolinewidth": 2
          }
         }
        },
        "title": {
         "text": "Age Distribution by Stroke",
         "x": 0.5
        },
        "xaxis": {
         "anchor": "y",
         "domain": [
          0,
          0.45
         ],
         "title": {
          "text": "Age"
         }
        },
        "xaxis2": {
         "anchor": "y2",
         "domain": [
          0.55,
          1
         ],
         "title": {
          "text": "Age"
         }
        },
        "yaxis": {
         "anchor": "x",
         "domain": [
          0,
          1
         ],
         "title": {
          "text": "Count"
         }
        },
        "yaxis2": {
         "anchor": "x2",
         "domain": [
          0,
          1
         ],
         "title": {
          "text": "Count"
         }
        }
       }
      }
     },
     "metadata": {},
     "output_type": "display_data"
    }
   ],
   "source": [
    "# age distribution by stroke\n",
    "age_column = \"age\"\n",
    "age_titles = [\n",
    "    \"Age Distribution by Stroke\",\n",
    "    \"Age\"\n",
    "]\n",
    "age_fig = custom_hist(age_column, age_titles)\n",
    "age_fig.show()"
   ]
  },
  {
   "cell_type": "code",
   "execution_count": 147,
   "id": "c78aea15",
   "metadata": {},
   "outputs": [
    {
     "data": {
      "text/plain": [
       "np.float64(30.230696202531643)"
      ]
     },
     "execution_count": 147,
     "metadata": {},
     "output_type": "execute_result"
    }
   ],
   "source": [
    "stroke_data[\"bmi\"].mean()"
   ]
  },
  {
   "cell_type": "code",
   "execution_count": 148,
   "id": "42fffd57",
   "metadata": {},
   "outputs": [
    {
     "data": {
      "text/plain": [
       "np.float64(28.02217163110899)"
      ]
     },
     "execution_count": 148,
     "metadata": {},
     "output_type": "execute_result"
    }
   ],
   "source": [
    "non_stroke_data[\"bmi\"].mean()"
   ]
  },
  {
   "cell_type": "code",
   "execution_count": 149,
   "id": "f6d89c6b",
   "metadata": {},
   "outputs": [
    {
     "data": {
      "application/vnd.plotly.v1+json": {
       "config": {
        "plotlyServerURL": "https://plot.ly"
       },
       "data": [
        {
         "alignmentgroup": "True",
         "box": {
          "visible": true
         },
         "hovertemplate": "Stroke Status=%{x}<br>BMI=%{y}<extra></extra>",
         "legendgroup": "",
         "marker": {
          "color": "#B7410E"
         },
         "name": "",
         "offsetgroup": "",
         "orientation": "v",
         "scalegroup": "True",
         "showlegend": false,
         "type": "violin",
         "x": {
          "bdata": "AAAAAAAAAAAAAAAAAAAAAAAAAAAAAAAAAAEAAAAAAAAAAAAAAAAAAAAAAAAAAAAAAAAAAAAAAAAAAAAAAAEAAAAAAAEAAAAAAAAAAAAAAAAAAAAAAAABAAAAAAAAAAAAAAAAAAAAAAAAAAAAAAAAAAAAAQAAAAAAAAAAAAAAAAAAAAAAAAAAAAAAAAAAAAAAAAAAAAAAAAAAAAABAAABAAAAAAAAAAAAAAAAAAAAAAEAAAAAAAAAAAAAAAAAAAAAAAAAAAAAAAAAAAAAAAAAAAAAAAEAAAAAAAAAAQAAAAABAAAAAAAAAAAAAAAAAAAAAAAAAQAAAAAAAAAAAAAAAAAAAAAAAAAAAAAAAAAAAAAAAAAAAAAAAAAAAAAAAAAAAAAAAAAAAAABAAAAAAAAAAAAAAAAAAAAAAAAAAAAAAABAAAAAAAAAAAAAAAAAAAAAAAAAAAAAAAAAAEAAAAAAAAAAAABAAEAAAAAAAAAAAAAAAAAAAAAAAAAAAAAAAAAAAEAAQAAAAAAAAABAAAAAAAAAAAAAAABAAAAAAAAAAAAAAAAAAAAAAAAAAAAAAEAAAAAAAAAAAAAAAAAAAEAAQAAAAAAAAAAAAAAAAAAAAAAAAAAAAAAAAAAAAAAAAAAAAEAAAAAAAAAAAABAAAAAAAAAAAAAAAAAAAAAAAAAAAAAAEAAAAAAAAAAAAAAAAAAAAAAAAAAAEAAAAAAAABAAAAAAAAAQAAAQAAAAAAAAAAAAAAAAAAAAAAAAAAAAAAAAAAAAAAAAAAAAAAAAABAAAAAAAAAAAAAAAAAAAAAAEAAAAAAAAAAAAAAAAAAAAAAAAAAAAAAAEAAAAAAAAAAAAAAAAAAAAAAAAAAAEAAAABAAAAAAAAAQAAAAAAAAAAAAAAAAAAAAAAAAAAAAAAAAAAAAAAAAAAAAAAAAAAAAAAAAAAAAAAAAAAAAAAAAAAAAAAAAAAAAAAAAAAAAAAAAAAAAAAAAAAAAAAAAAAAAAAAAAAAAAAAAAAAAAAAAAAAAAAAAAAAAAAAAAAAAAAAAAAAAAAAAAAAAAAAAAAAAAAAAAAAQAAAAAAAQAAAAAAAAAAAAAAAAAAAAAAAAEAAAAAAAEAAAAAAAAAAAAAAAAAAAAAAAAAAAAAAAAAAAAAAQAAAAAAAAAAAAAAAAAAAAAAAAEAAAAAAAAAAAAAAAAAAAAAAAEAAAAAAAAAAAAAAAAAAAAAAAAAAAAAAAAAAAAAAAAAAAAAAAAAAAAAAAAAAAAAAAAAAAAAAAEAAAAAAAAAAAAAAAAAAAEAAAAAAAAAAQAAAQAAAAAAAAABAAAAAAAAAAAAAAAAAAAAAAAAAAAAAQAAAAAAAAAAAAAAAAAAAAAAAAAAAAAAAAAAAAAAAQAAAAAAAAAAAAAAAAAAAAAAAAAAAQAAAQAAAAAAAAAAAAEAAAAAAAAAAAAAAAAAAAEAAAAAAAAAAAAAAQAAAAAAAQAAAAAAAAAAAQAAAAAAAAAAAAAAAAAAAAAAAAAAAAAAAAAAAAAAAAAAAAAAAAAAAAAAAAAAAAAAAAAAAAAAAAAAAAAAAAAAAAAAAAAAAAABAAAAAAAAAQAAAAAAAAAAAAAAAAAAAAAAAAABAQABAAAAAAAAAAAAAAAAAAAAAAAAAAAAAAAAAAAAAAAAAAAAAAAAAAEAAAAAAAAAAAAAAAAAAAAAAAEBAAAAAAAAAAAAAAAAAAAAAAAAAAAAAAAAAAAAAAAAAAAAAAAAAAAAAAAAAAAAAAAAAAAAAAAAAAAAAAAAAAAAAAAAAQAAAAAAAAAAAAAAAAAAAAAAAAAAAAAAAAAAAAAAAAAAAAAAAAAAAAAAAAAAAAAAAAAAAAAAAAAAAAAAAAAAAAAAAAAAAAAAAAAAAAAAAAAAAAAAAAAAAAAAAAAAAAAAAAAAAAAAAAAAAAAAAAAAAAAAAQAAAAAAAAAAAAABAAAAAAAAAAAAAAAAAAAAAAAAAAAAAAAAAAAAAAAAAAAAAAAAAAAAAAAAAAAAAAAAAAAAAAAAAAAAAAAAAAAAAAAAAAAAAAAAAAAAAAAAAAAAAAAAAAAAAAAAAAAAAAAAAAAAAAAAAAAAAAAAAAAAAAAAAAAAAAAAAAAAAAAAAAAAAAAAAAAAAAABAAEAAAAAAAAAAAAAAAAAAAAAAAEAAAAAAAAAAAAAAAAAAAAAAAAAAAAAAAAAAAAAAAAAAAAAAAAAAAAAAAAAAAAAAAABAAAAAAAAAAAAAAAAAAAAAAAAAAAAAAAAAAEAAAAAAAAAAAAAAAAAAAAAAAAAAAAAAAAAAAAAAAAAAAAAAAAAAAAAAAAAAAAAAAAAAAAAAAEAAAAAAAAAAAAAAAAAAAABAAAAAAAAAAAAAAAAAAAAAAAAAAAAAAAAAAAAAAAAAAAAAAAAAAAAAAAAAAAAAAAAAAAAAAAAAAEAAAAAAAAAAAAAAAAAAAAAAAAAAAAAAAAAAAAAAAEAAAAAAAAAAAAAAAAAAAAAAAAAAAAAAAAAAAAAAQAAAAAAAAAAAAAAAAAAAAAAAQAAAAAAAAAAAAEAAAAAAAABAAABAAAAAAAAAAAAAAAAAAAAAAAAAAAAAAAAAAAAAAAAAAAAAAAAAAEAAAAAAAABAAAAAAAAAAAAAQAAAAAAAAAAAAAAAAEAAQAAAAAAAAAAAAEAAAAAAAAAAAEAAAAAAAAAAAAAAAAAAAAAAAEAAAAAAAAAAAAAAAAAAAAAAAAAAAAAAAAAAQAAAAAAAAEAAAAAAAEAAAAAAAAAAAAAAAAAAAAAAAAAAAAAAAAAAQAAAAAAAAEAAAAAAAAAAAAAAAAAAQABAAAAAAAAAAAAAAAAAAAAAAAAAAAAAAAAAAAAAAAAAAAAAAAAAAAAAAAAAAAAAQAAAAAAAQAAAQAAAAAAAAAAAAAAAAAAAAAAAAAAAAAAAAEAAAAAAAAAAAAAAAAAAAAAAAAAAAAAAAAAAAAAAAAAAAAAAAAAAAAAAAABAAAAAAAAAAAAAAAAAAAAAAABAAAAAAAAAAAAAAAAAAAAAAAAAAEAAQAAAAAAAQAAAAAAAAAAAAAAAAAAAAAAAAAAAAAAAAAAAAAAAAAAAAAAAAAAAAEAAAAAAAAAAAAAAAAAAAAAAAAAAAAAAAAAAAAAAAAAAAAAAAAAAAAAAAAAAAAAAAAAAAAAAAAAAQAAAAAAAAAAAAEAAAAAAAAAAAAAAAAAAAAAAAAAAAABAAAAAAAAAAAAAAAAAAAAAAAAAAAAAAAAAAAAAAAAAAAAAAAAAAAAAAAAAAAAAAAAAAAAAAAAAAAAAAAAAAAAAAAAAAEAAAAAAAAAAAAAAAAAAAAAAAAAAAAAAAAAAAAAAAAAAAAAAAAAAAAAAAEAAAAAAAAAAAAAAAAAAAAAAAAAAAEAAAAAAAAAAAAAAAEAAAAAAAAAAAAAAAAAAAAAAAAAAAEAAAAAAAAAAAAAAAEAAAAAAAAAAAABAAAAAAAAAAAAAAAAAAAAAQAAAAAAAAAAAAAAAAAAAAAAAAAAAAAAAAAAAAAAAAAAAAAAAAABAAAAAAAAAAAAAAAAAAAAAAAAAAAAAAAAAAAAAAAAAAABAAAAAAAAAQEAAAAAAAAAAAAAAAAAAAAAAAAAAAAAAAAAAAAAAAAAAAAAAAABAAAAAAAAAAAAAAAAAAAAAAAAAAAAAAAAAAAAAAAAAAAAAAAAAAAAAAAAAAAAAAAAAAAAAAAAAAAAAAAAAAAAAAAAAAAAAAAAAAAAAAAAAAAAAAAAAAAAAAABAAEAAAAAAAAAAAAAAAAAAAAAAAAAAAAAAAAAAAAAAAEAAAAAAAAAAAAAAAAAAAABAAAAAAAAAAAAAAABAAAAAAAAAAAAAAAAAAAAAAABAAAAAAAAAAAAAAAAAAAAAAEAAAABAAAAAAAAAAAAAAEAAAAAAAAAAAAAAAAAAAAAAAAAAAAAAAAAAAAAAAEAAAAAAAAAAAAAAAAAAAAAAAAAAAAAAAEAAAAAAAAAAAAAAAAAAAAAAAAAAQAAAAAAAAAAAAAAAAAAAAAAAQAAAAEAAAAAAAAAAAAAAAAAAAEAAAAAAAAAAAAAAAAAAAAAAAAAAAAAAAAAAAAAAAAAAAAAAAAAAAAAAQAAAAAAAAAAAAABAAAAAAAAAAAAAAAAAAAAAAAAAAAAAAAAAAAAAAAAAQAAAAEAAAAAAAAAAAAAAAAAAAAAAAAAAAAAAAAAAAAAAAAAAAAAAAAAAAAAAAAAAAAAAAABAAAAAQAAAAAAAAAAAAAAAAAAAAAAAAAAAAAAAQAAAAAAAAAAAAAAAAABAAAAAAEAAAAAAAAAAAABAAAAAAAAAAAAAAAAAAAAAAAAAAAAAAABAAAAAAEAAAAAAAAAAAAAAAAAAAAAAAAAAAAAAAAAAAAAAAAAAAAAAAEAAAAAAAAAAAAAAAEAAAAAAAAAAAAAAAAAAAAAAAEAAQAAAAAAAAAAAAAAAAAAAAAAAAAAAAAAAAAAAAAAAAAAAAAAAQAAAAABAQAAAAAAAAAAAAAAAAAAAAAAAQAAAAAAAAAAAAAAAAAAAAAAAAAAAAAAAAAAAAAAAAABAAAAAAAAAAAAAAAAAAAAAQAAAQAAAAAAAAAAAAAAAAAAAAAAAAAAAAAAAAABAAAAAAEAAAAAAAAAAAAAAAAAAAAAAAAAAAAAAAAAAAAAAAEAAAAAAAAAAAAAAAAAAAAAAAAAAAAAAAABAAAAAAAAAQAAAAAAAAAAAAABAAAAAAAAAAAAAAEAAQAAAAAAAAAAAAEAAAAAAAAAAAAAAAAAAAAAAAAAAAEAAAAAAAAAAAAAAAABAAAAAAAAAAAAAAEAAAAAAAAAAAAAAAAAAAAAAAAAAAEAAAAAAAAAAAEAAAAAAAAAAAAAAAAAAAAAAAAAAAAAAAAAAAAAAAAAAAAAAAAAAAABAAAAAAAAAAAAAAAAAAAAAAAAAQEAAAAAAAAAAAAAAQAAAAAAAAAAAAEAAAAAAAAAAAAAAAAAAAAAAAAAAAAAAAAAAAAAAAAAAAAAAAABAAAAAAAAAAAAAAAAAAAAAAABAAAAAAAAAAAAAQAAAAAAAAAAAAAAAAAAAAAAAAAAAAAAAAAAAAAAAAAAAAAAAAAAAAAAAAAAAAAAAAAAAAAAAQAAAAAAAAAAAAAAAAAAAAAAAAEAAAAAAAAAAAEAAAAAAAAAAAAAAAAAAAAAAAAAAAAAAAAAAAAAAAAAAAAAAAAAAAAAAAEAAAAAAAEAAAAAAAAAAAAAAAAAAAEAAAAAAAAAAAAAAAAAAAAAAAAAAAAAAQAAAAAAAAAAAAAAAQAAAAAAAAAAAAAAAAAAAAAAAAAAAAAAAAAAAAAAAAAAAAAAAAAAAAAAAAAAAAAAAAAAAAAAAAAAAAAAAAAAAAAAAAAAAAAAAAAAAAAAAQAAAAABAQAAAAAAAAAAAAABAAAAAAAAAAAAAAAAAAAAAAAAAQAAAAABAAAAAAAAAAAAAAAAAAAAAAABAAABAAAAAAAAAAAAAAAAAQAAAAAAAAAAAAAAAAAAAAAAAAAAAAAAAAAAAAAAAAAAAAAAAAAAAAAAAAAAAAAAAAAAAAAAAAAAAAAAAAAAAAAAAAAAAAAAAAAAAAAAAAAAAAAAAAAAAAAAAAAAAAAAAAAAAAABAAAAAAAAAAAAAAAAAAAAAAAAAAAAAAAAAAEAAAAAAAAAAAAAAAAAAAAAAAAAAAAAAAAAAAAAAAAAAAEAAAAAAAAAAAAAAAAAAAAAAAAAAAAAAAAAAAAAAAAAAAAAAAAAAAAAAQABAAAAAAABAAAAAAAAAAAAAAAAAAAAAAAAAAAAAAAAAAAAAAAAAAAAAAAAAAAAAAAAAAAAAAAAAAAAAAAAAAAAAAAAAAAAAAAAAAAAAAAAAAAAAAAAAAEBAAAAAAAAAAAAAAAAAAAAAAAAAAAAAAAAAAAAAAAAAAAAAAAAAAAAAAAAAAAAAAAAAAAAAAAAAAAAAAAAAAAAAAAAAAAAAAAAAAAAAAAAAAAAAAAAAAAAAAAAAAAAAAAAAAAAAAAAAAAAAAAAAAAAAAAAAAAAAAAAAAAAAAAAAAAAAAAAAAAAAAAAAAAAAAEAAAAAAAAAAAAAAAAAAAAAAAAAAAAAAAAAAAAAAAAAAAAAAAAAAAAAAAAAAAAAAAAAAAAAAAEAAAAAAAAAAAAAAAAAAAAAAAAAAQAAAAEAAQAAAAAAAAAAAAAAAAAAAAEAAAAAAAAAAAAAAAAAAAAAAAAAAAABAAAAAAAAAAAAAAAAAAAAAAAAAAAAAAAAAAAAAAAAAAAAAAAAAAAAAAAAAAAAAQAAAAAAAAABAAAAAAAAAAAAAAAAAAAAAAAAAAAAAAAAAAAAAAAAAAAAAAAAAAAAAAAAAAAAAAAAAAAAAAAAAAAAAAAAAAAAAAAAAAAAAAAAAAAAAAAAAAAAAAAAAAAAAAAAAAAAAAABAAAAAAAAAAAAAAAAAQAAAAABAAAAAAAAAAAAAAAAAAAAAAABAAEAAAAAAAAAAAABAAABAAAAAAAAAAABAAAAAAAAAAAAAAAAAAAAAAAAAAAAAQAAAAAAAAAAAAAAAAAAAAABAAAAAAAAAAAAAAAAAAAAAAAAAAAAAAAAAAAAAAAAAAAAAAAAAAAAAAAAAAEAAAAAAAAAAAAAAAAAAAAAAAAAAAAAAAAAAAAAAAAAAAAAAAAAAAAAAAAAAAAAAAAAAQAAAAAAAAAAAAAAAAAAAQAAAAAAAAAAAAAAAAAAAAAAAAAAAAAAAAAAAAAAAAAAAAAAAAAAAAAAAAAAAAAAAAAAAAAAAAAAAAAAAAAAAAABAAAAAAAAAAAAAAABAAAAAAAAAAAAAAAAAAAAAAAAAAAAAAAAAAAAAAAAAAAAAAAAAAAAAAAAAAAAAAAAAAAAAAAAAAAAAAAAAAAAAAAAAAEAAAAAAAAAAAAAAAAAAAAAAAAAAAABAAAAAAAAAAAAAAAAAAAAAAAAAAAAAAAAAAAAAAAAAAAAAAAAAAAAAAAAAAAAAAAAAAAAAAAAAAAAAAEAAAAAAAAAAAAAAQEAAAAAAAAAAAAAAAABAAAAAAAAAAAAAAAAAAAAAAAAAAAAAAAAAAAAAAAAAQAAAAAAAAAAAAAAAAAAAAAAAAEAAAAAAAABAAAAAAAAAAAAAAAAAAAAAAAAAAAAAAAAAAAAAAAAAAAAAAAAAAAAAAAAAQAAAAAAAAAAAAAAAAAAAAAAAAAAAAAAAAAAAAAAAAAAAAAAAAAAAAAAAAAAAAAAAAAAAAAAAQEAAAAAAAAAAAAAAAAAAAAAAAAAAAAAAAAAAQABAAAAAAABAAAAAAABAAAAAAAAAAAAAAAAAAAAAAAAAAAAAAAAAAAAAAAAAAAAAAAAAAAAAAAAAAAAAAAAAAAAAAAAAAAAAAEAAAEAAAEAAQAAAAAAAAAAAAABAAAAAAAAAAAAAAAAAAAAAAAAAAAAAAAAAAAAAAAAAAAAAAAAAAAAAAAAAAAAAAAAAAAAAAEAAAABAAABAAAAAAAAAAAAAAAAAAAAAAAAAAAAAAAAAAAAAAAAAAAAAAAAAAAAAAAAAAAAAAAAAAAAAAAAAAAAAAAAAAAAAAAAAAAAAAAAAAAAAAAAAAAAAQAAAAAAAAAAAAAAAAAAAAAAAAAAAAAAAAAAAAAAAAAAAAAAAAAAAAEAAAAAAAEAAAAAAAEAAAAAAAAAAAAAAAAAAAAAAAAAAQEAAAEAAAAAAAAAAAAAAAAAAAAAAQAAAAAAAAAAAAEAAAAAAAAAAAAAAAABAAAAAAAAAAAAAAAAAQAAAAAAAAAAAAAAAAAAAAAAAAAAAAAAAAAAAAAAAQEAAAAAAAEAAAAAAAAAAAAAAAAAAAAAAAAAAAAAAAAAAAAAAAAAAAAAAAAAAAAAAAAAAAABAAAAAAAAAAAAAQAAAAAAAAAAAAAAAAAAAAEAAAAAAAAAAAAAAAAAAAAAAAAAAAAAAAAAAAAAAAAAAAAAAAAAAAAAAAAAAAAAAAABAAAAAAAAAAAAAAAAAAAAAAAAAAABAAAAAAAAAAAAAAAAAAAAAAAAAAAAAAAAAAAAAAAAAAAAAAAAAAAAAAAAAAAAAAAAAAAAAAAAAAEAAAEAAAAAAAAAAAAAAAAAAAABAAAAAAAAAQAAAAAAAAAAAAAAAAAAAAAAAAAAAAAAAAAAAAAAAAAAAAAAAAAAAAAAAQAAAAAAAAAAAAAAAAAAAAAAAAAAAAAAAAAAAAEAAAAAAAAAAAAAAAAAAAAAAAAAAAAAAAAAAAAAAAAAAAAAAAEAAAAAAAAAAAAAAAABAAAAAAAAAAAAAAAAAAAAAAAAAAAAAAAAAAAAAAAAAAAAAAAAAAAAAAAAAAAAAAAAAAAAAAABAAAAAAEAAAAAAAAAAAAAAAAAAAAAAAAAAAAAAAAAAAAAAAAAAAAAAAAAAAAAAAAAAAAAAAAAAAAAAAAAAAAAAAAAAAAAAAAAAAAAAAAAAAAAAAAAAAEAAAAAAQAAAAAAAAAAAAAAAQAAAAAAAAAAAAAAAAAAAAAAAAAAAAAAAAAAAAAAAAAAAAAAAAAAAAAAAAAAAAAAAAAAAAEAAAAAAAAAAAAAAQAAAAAAAAAAAAAAAAAAAAAAAAAAAAAAAAAAAAABAAAAAAAAAAABAAAAAAAAAAAAAAAAAAAAAAAAAAAAAQAAAAAAAAAAAAAAAAABAAAAAAEAAAABAAAAAAAAAAAAAAAAAAAAAAAAAAAAAAAAAAAAAAAAAAAAAAAAAAAAAAAAAAAAAQAAAAAAAAAAAAAAAAAAAAAAAAAAAAAAAAAAAAAAAAAAAAAAAAAAAAAAAAAAAAAAAAAAAAAAAQAAAAAAAAAAAAAAAQAAAAEAAAABAQAAAAAAAQAAAAAAAAAAAAAAAAAAAAAAAAAAAAAAAAAAAAAAAAAAAAAAAAAAAAAAAAAAAAAAAAAAAAAAAAAAAAAAAAAAAAAAAAAAAAAAAAAAAAAAAAAAAAAAAAAAAAAAAAAAAAAAAAAAAAAAAAAAAAAAAAAAAAAAAAAAAAAAAAAAAAAAAAAAAAAAAAAAAAAAAAAAAAAAAAAAAAAAAAAAAAAAAAAAAAAAAAAAAAAAAAAAAAAAAAAAAAAAAAAAAAAAAAAAAAAAAAAAAAAAAAAAAAAAAAABAAAAAAAAAAABAAEAAAAAAAAAAAAAAAEAAAAAAAAAAQAAAAAAAAAAAAAAAAAAAAAAAAAAAAAAAAAAAAAAAAAAAAAAAAAAAAAAAAABAAAAAAAAAAEAAAAAAQAAAAAAAAAAAAAAAAAAAAAAAAAAAAABAAAAAAAAAAAAAAAAAAAAAAAAAAAAAAAAAAAAAAAAAAAAAAAAAAAAAAAAAAAAAAAAAAAAAAAAAAAAAAAAAAAAAAAAAAAAAAAAAAAAAAAAAAAAAAAAAAAAAAAAAAABAAAAAAAAAAAAAAAAAAAAAAAAAAAAAQAAAAAAAAAAAAAAAAAAAAAAAAAAAAAAAAEAAAAAAQAAAAAAAAAAAAAAAAAAAAAAAAAAAAAAAAAAAAAAAAAAAAAAAAAAAAAAAAABAAAAAAAAAAAAAQAAAAAAAAAAAAAAAAAAAAAAAAAAAAAAAAAAAAAAAAAAAAAAAAAAAAAAAAABAAAAAAAAAAAAAAAAAAAAAAAAAAAAAAAAAAAAAAABAAAAAAAAAAAAAAAAAAAAAAAAAAAAAAAAAAAAAAAAAAAAAAAAAAAAAAAAAAAAAAAAAAAAAAAAAAEAAAAAAAABAAAAAAAAAAAAAAAAAAAAAAAAAAAAAAAAAAAAAAAAAAAAAQAAAAAAAAAAAAAAAAAAAAAAAAAAAAAAAAAAAAAAAAAAAAAAAAAAAAEAAAAAAAAAAAAAAAAAAAAAAQAAAAAAAAAAAAAAAAEAAAAAAAAAAAAAAAABAAAAAAAAAAAAAAAAAQAAAAAAAAAAAAAAAAAAAAAAAAAAAAAAAAAAAAAAAAAAAAAAAAAAAAAAAAAAAQAAAAAAAAAAAAAAAAAAAAAAAAAAAAAAAAAAAAAAAAAAAAAAAAEAAAAAAAAAAAAAAAAAAAAAAAAAAAABAAAAAAAAAAAAAAAAAAAAAAAAAAAAAAAAAAAAAAAAAAAAAAAAAAAAAAAAAAEAAAAAAAAAAAAAAAAAAAAAAAAAAAAAAAAAAAEAAAAAAAAAAAAAAAABAAEAAAAAAAAAAAAAAAAAAAAAAAAAAAAAAAAAAAAAAAAAAAAAAAAAAAAAAAAAAQAAAAAAAAAAAAAAAAAAAAAAAAAAAAAAAAAAAAAAAAAAAAAAAAABAAAAAAAAAAAAAAAAAAAAAQAAAAAAAAAAAAAAAAAAAAAAAAAAAAAAAAAAAAAAAAAAAAAAAAAAAAAAAAAAAAAAAAAAAAEAAAAAAAAAAAAAAAAAAAAAAAAAAAAAAQAAAAABAAAAAAAAAAAAAAAAAAAAAAAAAAAAAAAAAAAAAQAAAAAAAAAAAAAAAAABAAAAAAAAAAAAAAAAAAAAAAAAAAAAAAAAAAAAAAAAAAAAAAAAAAAAAAAAAAAAAAAAAAAAAAAAAAAAAAEAAAABAAAAAAAAAAAAAAAAAAAAAAAAAAAAAQAAAAAAAAAAAAAAAAAAAAAAAAAAAAAAAAAAAAAAAAAAAAAAAAEAAAAAAAAAAAAAAAAAAAEAAAAAAAAAAAAAAAAAAAAAAQAAAAABAAAAAAAAAAABAAAAAAAAAAAAAAAAAAAAAAABAAABAAAAAAAAAAAAAAAAAAAAAAAAAAAAAAAAAAABAAAAAAAAAAAAAAAAAAAAAAAAAAAAAAAAAAAAAAAAAAAAAAAAAAAAAAAAAAAAAAAAAAAAAAAAAAAAAAAAAAAAAAAAAAABAAAAAAABAAABAAAAAAAAAAAAAAAAAAAAAAAAAAAAAAAAAAEAAAAAAAAAAAAAAAAAAAAAAAAAAAAAAAAAAAAAAAAAAAAAAAAAAAAAAAAAAAAAAAAAAAAAAAAAAAAAAAAAAAAAAAAAAAAAAAAAAAAAAAAAAAAAAAAAAAAAAAAAAQAAAAAAAAAAAAAAAAAAAAAAAAAAAAAAAAAAAAAAAAAAAAAAAAAAAAAAAQAAAAAAAAEAAAAAAAEAAAAAAAAAAAAAAQAAAAAAAAAAAAAAAAAAAAAAAAAAAAAAAAAAAAAAAAAAAQAAAAAAAAAAAAAAAAAAAAAAAAAAAAAAAAAAAAAAAAABAAAAAAAAAAAAAAAAAAAAAQAAAAABAAAAAAAAAAAAAAAAAAAAAAEBAAAAAAAAAAAAAAAAAAAAAAAAAAAAAAAAAQAAAAAAAAAAAAAAAAAAAAAAAAAAAAAAAAAAAAAAAAAAAAAAAAAAAAAAAAAAAAAAAAAAAAAAAAABAAAAAAAAAAAAAAAAAAAAAAAAAAAAAAAAAAAAAAAAAQEAAAABAAAAAAAAAAAAAAAAAAAAAAAAAAAAAAAAAAAAAAAAAAAAAAAAAAEAAAAAAAAAAAAAAAAAAAAAAAAAAAAAAAAAAAAAAAAAAAAAAAAAAAAAAAAAAAAAAAAAAAAAAAAAAAAAAAAAAAAAAAAAAAAAAAAAAAAAAAAAAAAAAQAAAAAAAAAAAAAAAAAAAAAAAAAAAAAAAAAAAAAAAAAAAAAAAAAAAAAAAAAAAAAAAAEAAAAAAAAAAAAAAAAAAAAAAAAAAAAAAAAAAAAAAAAAAAABAAAAAAAAAAAAAAEAAAEAAAAAAAAAAAAAAQAAAAAAAAAAAAAAAAAAAAAAAAAAAAAAAAABAAAAAAAAAAAAAAAAAAAAAAAAAAAAAAAAAAAAAAAAAAAAAAAAAAAAAAAAAAAAAAAAAAAAAAAAAAAAAAAAAAAAAAAAAAAAAAAAAAABAAAAAAEAAAAAAAAAAAAAAAAAAAAAAAEAAAAAAAAAAAAAAAAAAAAAAAAAAAAAAAAAAAAAAQAAAAAAAAAAAAAAAAAAAAAAAAAAAAAAAAAAAAAAAAAAAQAAAAAAAAAAAAAAAAAAAAAAAAAAAQAAAAAAAAAAAAAAAAAAAAEAAAAAAAAAAAAAAAAAAAAAAAAAAAAAAAAAAAAAAAEAAAAAAAAAAAAAAAABAAAAAAAAAAAAAAAAAAAAAAAAAAAAAAAAAAAAAAAAAAAAAAAAAAAAAAAAAAAAAAAAAAABAAAAAAAAAAAAAAAAAAAAAAAAAAAAAAAAAAAAAAAAAAAAAAAAAAAAAAAAAAAAAAAAAAAAAAAAAAAAAAAAAAAAAAAAAAAAAAAAAAAAAAAAAAAAAAAAAAAAAAAAAAAAAAAAAAAAAAAAAAAAAAAAAAAAAAAAAAEAAAAAAAAAAAAAAAAAAAAAAAAAAAAAAAAAAAAAAAAAAAEAAAAAAAAAAAABAAAAAAAAAAAAAAAAAAAAAAAAAQEAAAAAAAAAAAAAAAAAAAAAAAAAAAAAAAAAAAAAAAAAAAAAAAAAAAAAAAAAAAAAAAAAAAAAAAABAAAAAAAAAAAAAAAAAAAAAAAAAAAAAAAAAAABAAAAAAABAAAAAAAAAAAAAAAAAAAAAAAAAQAAAAAAAAAAAAAAAAAAAAAAAAABAAAAAAAAAAAAAAAAAAAAAAAAAAAAAAEAAAAAAAAAAAAAAAAAAAAAAAAAAAAAAAAAAAEAAAEAAAAAAAEAAAEAAAAAAAAAAAAAAAAAAAABAAAAAAAAAAAAAAAAAAAAAAAAAAAAAAAAAAAAAAAAAAAAAAAAAAAAAAAAAAAAAAAAAAAAAAAAAAAAAAAAAAEAAAAAAAAAAAAAAAAAAQAAAAAAAAAAAAAAAAAAAAAAAQAAAAAAAAAAAAAAAAAAAAAAAAEAAAAAAAAAAAAAAAAAAAAAAAAAAAAAAAAAAAAAAAAAAAEAAAAAAAAAAAAAAAAAAAAAAAAAAAAAAAAAAAAAAAAAAAAAAAAAAAAAAAAAAAAAAAAAAAAAAAAAAAAAAAAAAAAAAAAAAAAAAAAAAAAAAAAAAAAAAAAAAAAAAAAAAAAAAAAAAAAAAAAAAQAAAAAAAAAAAAAAAAAAAAAAAAAAAAAAAAAAAAAAAAAAAQAAAAAAAAAAAAAAAAAAAAAAAAABAAAAAAAAAAAAAAAAAAAAAAAAAAAAAAAAAAABAAAAAAAAAAAAAAAAAAAAAAAAAAAAAQABAAAAAAAAAAAAAAAAAAAAAAAAAAAAAAAAAAAAAQAAAQAAAAAAAAEAAAAAAAAAAAAAAAAAAAEAAAAAAAAAAAAAAAAAAAAAAQAAAAABAAAAAAAAAAAAAAAAAAAAAAAAAAAAAAAAAAAAAAABAAAAAAAAAAAAAAEAAAAAAAAAAAAAAAAAAAAAAAAAAAAAAAAAAAAAAAAAAAAAAAAAAAAAAAAAAAAAAAAAAAAAAAAAAAAAAAAAAQAAAAAAAAAAAAAAAAAAAAAAAAEAAAAAAQAAAAAAAAAAAAAAAAAAAAAAAAAAAAAAAAAAAAAAAAAAAAAAAAAAAQAAAAAAAAABAQAAAAAAAAAAAAAAAQAAAAAAAAAAAAAAAAAAAAAAAAAAAAAAAAAAAAAAAAEAAAAAAAAAAAAAAAAAAAAAAAAAAAAAAAAAAAAAAAAAAAAAAAAAAAAAAAAAAAAAAAAAAAAAAAAAAAAAAAAAAQAAAAABAAAAAAAAAAAAAAAAAAAAAAAAAAAAAAAAAAAAAAAAAAAAAAAAAAAAAAAAAQAAAAAAAAAAAAAAAAAAAAAAAAAAAAAAAAAAAAAAAAAAAAAAAAAAAAAAAQAAAAAAAAAAAAAAAAAAAAAAAAAAAAAAAAABAAAAAAAAAAEAAAAAAAAAAAAAAAAAAAEAAAABAAAAAAAAAAAAAAAAAAAAAAAAAAAAAAAAAAAAAQAAAAAAAAAAAAAAAAAAAAAAAAAAAQAAAAAAAAEAAAAAAAAAAAAAAAAAAAAAAAEAAAAAAAAAAAAAAAAAAAAAAAAAAAAAAAAAAAAAAAAAAAAAAAAAAAAAAAAAAAAAAAAAAAAAAAABAAAAAAAAAAAAAAAAAAAAAAAAAAAAAQAAAAAAAAAAAAAAAAAAAAAAAAABAAAAAAAAAAAAAAAAAAAAAAAAAAAAAAAAAAAAAAAAAAAAAAAAAAAAAAABAAAAAAAAAAAAAAAAAAAAAAAAAAAAAAAAAAAAAQAAAAAAAAAAAAAAAAAAAAAAAAAAAAAAAAAAAAEAAAAAAAAAAAAAAAAAAAAAAAAAAAAAAAAAAAAAAAAAAAAAAAAAAAAAAQAAAAABAAAAAAAAAAAAAAAAAAAAAAAAAAAAAAAAAQAAAAAAAAAAAAAAAAAAAAAAAAAAAAAAAAAAAAAAAAAAAAAAAAAAAAAAAAAAAAAAAAAAAAAAAAABAAAAAAAAAAAAAAAAAAEAAAAAAAAAAAAAAAABAAAAAAAAAAAAAAAAAAABAAAAAAAAAAAAAAAAAAAAAAABAAAAAAAAAAAAAAAAAAEAAAAAAAABAAEAAAABAAAAAAAAAAAAAAAAAAAAAAAAAQAAAAAAAAAAAAAAAAAAAAAAAAAAAAAAAAAAAAAAAAAAAAAAAAAAAAAAAAABAAAAAAABAAAAAQAAAAAAAAAAAAAAAAAAAQAAAAAAAAEAAAAAAAAAAAAAAAAAAAAAAAAAAAAAAAAAAAAAAAAAAAAAAAAAAAAAAAAAAAAAAAAAAAABAQAAAAAAAAAAAAAAAAAAAAAAAAAAAAAAAAAAAAAAAAAAAAAAAAAAAAAAAAAAAAAAAAAAAAAAAAAAAAAAAAAAAAEAAAAAAAAAAAAAAAAAAAAAAAAAAAAAAAAAAAAAAQAAAAAAAAAAAAAAAAAAAAAAAAAAAAAAAAAAAAABAAAAAAAAAAAAAAAAAAAAAAEAAAAAAAAAAAAAAAAAAAAAAAAAAQAAAAAAAAAAAAAAAAAAAAAAAAABAAAAAAAAAAAAAAAAAAAAAAAAAAAAAAAAAAAAAAAAAAAAAAEAAAEAAAAAAAAAAAAAAAAAAAAAAAAAAAAAAAAAAAAAAAAAAAAAAAAAAQAAAAAAAAAAAAAAAAAAAAAAAAAAAAAAAAAAAAAAAAAAAAABAAAAAAAAAQAAAAAAAAAAAAAAAAAAAAAAAAAAAAAAAAAAAAAAAAAAAAAAAAAAAAAAAAEAAAAAAAAAAAAAAAAAAAAAAAAAAQABAAAAAAABAAAAAAAAAAAAAAAAAAAAAAAAAQAAAAAAAAAAAAAAAAABAQAAAAAAAAAAAAAAAAAAAQAAAAAAAAAAAQAAAAAAAAAAAQAAAAABAAAAAAAAAAAAAAAAAAAAAAAAAAAAAAAAAAAAAAAAAAAAAAAAAAAAAAABAAAAAAAAAAAAAAAAAAAAAAAAAAAAAAAAAQAAAAAAAAAAAAAAAAAAAAAAAAAAAAAAAAAAAAAAAAAAAAAAAQEAAAAAAAAAAAAAAQAAAAAAAAAAAAAAAAAAAAAAAAAAAAAAAAAAAAAAAAAAAAAAAAAAAAAAAAAAAAAAAAAAAAAAAAAAAAAAAAEAAAAAAAAAAAAAAAAAAAAAAAAAAAAAAAAAAAAAAAAAAAAAAAAAAAAAAAAAAAEAAAAAAAAAAAAAAAEAAAAAAAAAAAAAAAAAAAAAAQAAAAAAAAAAAAAAAAAAAAAAAAAAAAAAAAAAAAAAAAAAAAAAAAAAAQAAAAAAAAAAAAEAAAAAAAAAAAAAAAAAAAAAAAAAAAAAAAAAAQAAAAAAAAAAAAAAAAAAAAAAAAAAAAAAAAAAAAAAAAAAAAAAAAAAAAAAAAAAAAAAAAAAAAAAAAAAAAAAAAAAAAAAAAAAAAABAAAAAAAAAAAAAAAAAAAAAAAAAAAAAAAAAAAAAAAAAAAAAAAAAAAAAAAAAAAAAAAAAAAAAAAAAAAAAAAAAAAAAAAAAAAAAAABAAAAAAAAAAAAAAAAAAAAAAAAAAAAAAAAAAAAAAAAAAABAAAAAAAAAAAAAAAAAAAAAAAAAAAAAAAAAAAAAAAAAAAAAAAAAAAAAAAAAAAAAAAAAAAAAAAAAAAAAAAAAAAAAAAAAAAAAAAAAAAAAAAAAAAAAAAAAAABAAAAAAAAAAAAAAAAAAEAAAAAAAAAAAAAAAEAAAAAAAAAAAAAAAAAAAAAAAAAAAAAAAAAAAAAAAAAAAAAAAAAAAAAAAAAAAAAAAAAAAAAAAAAAAAAAAAAAAEAAAABAAAAAAAAAAAAAAAAAAAAAAAAAAAAAAAAAAAAAAAAAAAAAAEAAAAAAAAAAAAAAAAAAAAAAAAAAAAAAAAAAAAAAAAAAAAAAAAAAAAAAAAAAAAAAAABAAAAAAAAAAAAAAAAAAAAAQAAAAAAAQAAAAAAAAAAAAAAAAAAAAAAAAAAAAAAAAAAAAAAAAAAAAAAAAAAAAAAAAAAAAAAAAAAAAAAAAAAAAAAAAAAAAAAAAAAAAEAAAAAAAAAAAAAAAAAAAAAAAAAAAAAAAAAAAAAAAAAAAAAAAAAAAAAAAAAAAAAAAAAAAAAAAAAAAAAAAAAAAAAAAAAAAAAAAAAAAAAAAEBAQAAAAAAAAAAAAAAAAAAAAAAAAAAAAAAAAEBAAAAAAAAAAAAAAAAAAAAAAAAAAAAAAAAAAAAAAAAAAAAAAAAAAAAAAAAAAAAAAAAAAAAAAAAAAAAAAAAAAAAAAAAAAAAAAAAAAAAAAAAAAAAAAAAAAAAAAAAAAAAAAAAAAAAAQAAAAAAAAAAAAAAAAAAAAABAAEBAAEAAAAAAAABAAAAAAAAAAAAAAAAAAAAAAAAAAAAAAAAAQAAAAAAAAAAAQAAAAAAAAAAAAAAAAAAAAAAAAAAAAAAAAAAAAABAAAAAAAAAAAAAAAAAAAAAAEAAAAAAAAAAAAAAAAAAAAAAAAAAAAAAQAAAAAAAAAAAAAAAAAAAAAAAAAAAAABAAAAAAAAAAAAAAAAAAAAAAAAAAAAAAAAAAAAAAAAAAAAAQAAAAAAAAAAAAAAAAAAAAAAAAAAAAAAAAAAAAAAAAAAAAAAAAAAAAAAAAAAAAAAAAAAAAAAAAAAAAAAAAAAAAAAAAAAAAAAAQAAAAAAAAAAAAAAAAAAAAAAAQAAAAAAAAAAAAAAAAAAAAAAAAAAAAAAAAAAAAAAAAAAAAAAAAAAAAAAAAAAAAAAAAAAAAAAAAAAAAAAAAAAAAAAAAEAAAAAAAAAAAAAAQAAAAAAAAAAAAAAAAAAAAAAAAAAAAAAAAAAAAAAAAAAAAAAAAAAAAAAAAAAAAAAAAAAAAAAAAAAAAAAAAAAAAAAAAAAAAAAAAAAAAAAAAAAAQAAAAAAAAAAAAAAAAAAAAAAAAAAAAAAAAAAAAAAAAAAAAAAAQAAAAAAAAAAAAAAAAAAAAAAAAAAAAAAAAAAAAAAAAAAAAAAAAAAAAAAAAAAAAAAAAAAAAAAAAAAAAAAAAAAAAAAAAAAAAAAAAAAAAAAAAAAAAAAAAAAAAAAAAAAAAAAAAAAAAAAAAAAAAAAAAAAAAAAAAAAAAAAAAAAAAAAAAAAAAAAAAAAAAAAAAAAAAAAAAABAAAAAAAAAAAAAAAAAAAAAAAAAAAAAAAAAQAAAAAAAAAAAQAAAAAAAAEAAQAAAAAAAAAAAAAAAAAAAAAAAQABAAAAAAAAAAAAAAAAAAAAAAAAAAAAAAAAAAAAAAAAAAAAAAAAAAAAAAAAAAAAAAAAAQAAAAABAAAAAAAAAAAAAAAAAAAAAAAAAAEAAAAAAAAAAAABAAAAAAAAAAAAAAAAAAABAAAAAAAAAAAAAAAAAAAAAAAAAAAAAAAAAAAAAAAAAAAAAAAAAAAAAAEAAAAAAAAAAAAAAAAAAAAAAAAAAAAAAAAAAAAAAAAAAAEAAAAAAAAAAAAAAAAAAAAAAAAAAAAAAAAAAAAAAAAAAAAAAAAAAAAAAAAAAAAAAAAAAAAAAAAAAAAAAAAAAAAAAAAAAAABAAAAAAAAAAAAAAAAAAAAAAAAAAABAAAAAAAAAAAAAAAAAAAAAAEAAAAAAAAAAAAAAAAAAAAAAAAAAAAAAAAAAAAAAAAAAAAAAAAAAAAAAAAAAQAAAAAAAAAAAAAAAAAAAAAAAAAAAAAAAAAAAAAAAAAAAAAAAAAAAAAAAAAAAAABAAABAAAAAAAAAAAAAAAAAAAAAAAAAAAAAAAAAAAAAAAAAAAAAAAAAAAAAAAAAAAAAAAAAAAAAAAAAAABAAAAAAAAAAAAAAAAAAAAAAAAAAEAAQAAAAAAAAAAAAAAAAAAAAAAAAAAAAAAAAABAAAAAAAAAAAAAAAAAAEAAAAAAAAAAAAAAQAAAAAAAAAAAAAAAAAAAAABAAAAAAAAAAAAAAAAAAAAAAAAAAAAAAAAAAABAAAAAAAAAAAAAAAAAAAAAAAAAAAAAAAAAAAAAAAAAAAAAAAAAAAAAAAAAAAAAAAAAAAAAAAAAAAAAAAAAAAAAAAAAAAAAAAAAAAAAAABAAAAAAAAAAAAAAAAAAAAAAAAAAAAAAAAAAAAAAAAAAAAAAAAAAAAAAEAAAAAAAAAAAAAAAAAAAAAAAAAAQAAAAAAAAAAAAAAAAAAAAAAAAAAAAAAAAAAAAAAAAAAAAAAAAAAAAAAAAAAAQAAAAAAAAEAAAAAAAAAAAAAAAAAAAAAAAAAAAABAAAAAAAAAAAAAAAAAAAAAAAAAAAAAAAAAAABAAAAAAAAAAAAAAAAAAAAAQAAAAAAAAAAAAAAAAAAAAAAAAAAAAAAAAAAAAAAAAAAAAAAAAAAAAAAAAAAAAAAAAAAAAAAAAAAAAAAAAAAAAAAAAAAAAAAAAAAAAAAAQAAAAAAAAAAAAAAAAAAAAAAAQAAAAAAAAAAAAEAAAAAAAAAAAAAAAAAAAAAAAAAAQAAAAAAAAAAAAAAAAAAAAAAAAAAAAEAAAAAAAAAAAAAAAAAAAAAAAAAAAABAAAAAAAAAAAAAAAAAAAAAAAAAAAAAAAAAAAAAQAAAAAAAAAAAAAAAAEAAAAAAAAAAAAAAAAAAAEAAAAAAAAAAAAAAAAAAAAAAAAAAAAAAAAAAAAAAAAAAAAAAAAAAAAAAAAAAAAAAAAAAAAAAAAAAAAAAQAAAAEAAAEAAAEAAAAAAAAAAAABAAAAAQAAAQAAAAAAAAAAAAAAAAAAAAAAAAAAAAAAAQAAAAAAAAAAAAAAAAAAAAAAAAAAAAAAAAAAAAAAAAEAAAAAAAAAAAAAAAAAAAAAAAAAAAAAAAAAAAAAAAAAAAAAAAAAAAAAAAAAAAAAAAAAAAAAAAAAAAAAAAABAAAAAAAAAAAAAAAAAAAAAAAAAAAAAAEAAAAAAAAAAAAAAAAAAAEAAQAAAAABAAAAAAAAAAAAAAAAAAAAAAAAAAAAAAAAAAAAAQAAAAAAAAAAAAAAAAAAAAAAAAAAAAAAAAAAAAAAAAAAAAAAAAAAAAAAAAAAAAAAAAAAAAAAAAAAAAAAAAAAAAAAAAAAAAAAAAAAAQAAAAAAAAAAAAAAAAAAAAAAAAAAAAAAAAAAAAAAAAAAAAAAAAAAAAAAAAAAAAAAAAAAAAAAAAAAAAAAAAAAAAAAAAAAAAAAAAAAAAAAAAAAAAAAAAAAAAAAAAAAAAEBAAAAAAAAAAAAAAAAAAAAAAAAAAAAAAAAAAAAAAAAAAAAAAAAAAAAAAAAAAAAAAAAAAAAAAAAAAABAAAAAAAAAAAAAAAAAAEAAAAAAAAAAAAAAAEAAAAAAAAAAAAAAAAAAAAAAAAAAAAAAAAAAAAAAAAAAAAAAAAAAAAAAAAAAAAAAAAAAAAAAAAAAAAAAAAAAAAAAAAAAAAAAAAAAAAAAAAAAAAAAAAAAQAAAAAAAAAAAAAAAAABAAAAAAAAAAAAAAAAAAAAAAAAAAAAAAAAAAAAAAAAAAAAAAAAAAAAAAAAAAAAAAAAAAAAAAAAAAAAAAAAAAAAAAAAAAAAAAAAAAAAAAAAAAAAAAAAAAAAAAAAAAAAAAAAAQAAAAAAAAAAAAAAAAAAAAAAAAAAAAAAAAAAAQAAAAAAAAAAAAAAAAAAAAAAAAAAAAAAAAAAAAAAAAAAAAAAAAAAAAEAAAAAAQAAAAAAAAAAAAAAAQAAAAAAAAAAAAAAAAAAAAAAAAAAAAAAAAAAAAAAAQAAAAAAAAAAAAAAAAAAAAAAAAAAAAAAAAAAAAAAAAAAAAAAAAAAAAAAAAAAAAAAAAAAAAAAAAAAAAAAAAAAAAAAAAABAAEAAAAAAAABAAAAAAAAAAAAAAAAAAAAAAAAAAAAAAAAAAAAAAAAAAAAAAAAAAAAAAAAAAEAAAAAAAAAAAAAAAAAAAAAAAAAAAAAAAAAAAAAAAAAAAAAAAAAAAAAAAAAAAABAAAAAQABAAAAAAAAAAAAAAAAAAAAAAAAAAAAAAAAAAAAAAABAAAAAAAAAAAAAAAAAAAAAAAAAAABAAAAAAAAAAAAAAAAAAAAAAAAAAABAAAAAQAAAAAAAAAAAAAAAAAAAAAAAAAAAAAAAAEAAAAAAAAAAAAAAAAAAAAAAAABAAAAAAAAAAAA",
          "dtype": "i1"
         },
         "x0": " ",
         "xaxis": "x",
         "y": {
          "bdata": "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",
          "dtype": "f8"
         },
         "y0": " ",
         "yaxis": "y"
        }
       ],
       "layout": {
        "height": 500,
        "legend": {
         "tracegroupgap": 0
        },
        "template": {
         "data": {
          "bar": [
           {
            "error_x": {
             "color": "#2a3f5f"
            },
            "error_y": {
             "color": "#2a3f5f"
            },
            "marker": {
             "line": {
              "color": "#E5ECF6",
              "width": 0.5
             },
             "pattern": {
              "fillmode": "overlay",
              "size": 10,
              "solidity": 0.2
             }
            },
            "type": "bar"
           }
          ],
          "barpolar": [
           {
            "marker": {
             "line": {
              "color": "#E5ECF6",
              "width": 0.5
             },
             "pattern": {
              "fillmode": "overlay",
              "size": 10,
              "solidity": 0.2
             }
            },
            "type": "barpolar"
           }
          ],
          "carpet": [
           {
            "aaxis": {
             "endlinecolor": "#2a3f5f",
             "gridcolor": "white",
             "linecolor": "white",
             "minorgridcolor": "white",
             "startlinecolor": "#2a3f5f"
            },
            "baxis": {
             "endlinecolor": "#2a3f5f",
             "gridcolor": "white",
             "linecolor": "white",
             "minorgridcolor": "white",
             "startlinecolor": "#2a3f5f"
            },
            "type": "carpet"
           }
          ],
          "choropleth": [
           {
            "colorbar": {
             "outlinewidth": 0,
             "ticks": ""
            },
            "type": "choropleth"
           }
          ],
          "contour": [
           {
            "colorbar": {
             "outlinewidth": 0,
             "ticks": ""
            },
            "colorscale": [
             [
              0,
              "#0d0887"
             ],
             [
              0.1111111111111111,
              "#46039f"
             ],
             [
              0.2222222222222222,
              "#7201a8"
             ],
             [
              0.3333333333333333,
              "#9c179e"
             ],
             [
              0.4444444444444444,
              "#bd3786"
             ],
             [
              0.5555555555555556,
              "#d8576b"
             ],
             [
              0.6666666666666666,
              "#ed7953"
             ],
             [
              0.7777777777777778,
              "#fb9f3a"
             ],
             [
              0.8888888888888888,
              "#fdca26"
             ],
             [
              1,
              "#f0f921"
             ]
            ],
            "type": "contour"
           }
          ],
          "contourcarpet": [
           {
            "colorbar": {
             "outlinewidth": 0,
             "ticks": ""
            },
            "type": "contourcarpet"
           }
          ],
          "heatmap": [
           {
            "colorbar": {
             "outlinewidth": 0,
             "ticks": ""
            },
            "colorscale": [
             [
              0,
              "#0d0887"
             ],
             [
              0.1111111111111111,
              "#46039f"
             ],
             [
              0.2222222222222222,
              "#7201a8"
             ],
             [
              0.3333333333333333,
              "#9c179e"
             ],
             [
              0.4444444444444444,
              "#bd3786"
             ],
             [
              0.5555555555555556,
              "#d8576b"
             ],
             [
              0.6666666666666666,
              "#ed7953"
             ],
             [
              0.7777777777777778,
              "#fb9f3a"
             ],
             [
              0.8888888888888888,
              "#fdca26"
             ],
             [
              1,
              "#f0f921"
             ]
            ],
            "type": "heatmap"
           }
          ],
          "histogram": [
           {
            "marker": {
             "pattern": {
              "fillmode": "overlay",
              "size": 10,
              "solidity": 0.2
             }
            },
            "type": "histogram"
           }
          ],
          "histogram2d": [
           {
            "colorbar": {
             "outlinewidth": 0,
             "ticks": ""
            },
            "colorscale": [
             [
              0,
              "#0d0887"
             ],
             [
              0.1111111111111111,
              "#46039f"
             ],
             [
              0.2222222222222222,
              "#7201a8"
             ],
             [
              0.3333333333333333,
              "#9c179e"
             ],
             [
              0.4444444444444444,
              "#bd3786"
             ],
             [
              0.5555555555555556,
              "#d8576b"
             ],
             [
              0.6666666666666666,
              "#ed7953"
             ],
             [
              0.7777777777777778,
              "#fb9f3a"
             ],
             [
              0.8888888888888888,
              "#fdca26"
             ],
             [
              1,
              "#f0f921"
             ]
            ],
            "type": "histogram2d"
           }
          ],
          "histogram2dcontour": [
           {
            "colorbar": {
             "outlinewidth": 0,
             "ticks": ""
            },
            "colorscale": [
             [
              0,
              "#0d0887"
             ],
             [
              0.1111111111111111,
              "#46039f"
             ],
             [
              0.2222222222222222,
              "#7201a8"
             ],
             [
              0.3333333333333333,
              "#9c179e"
             ],
             [
              0.4444444444444444,
              "#bd3786"
             ],
             [
              0.5555555555555556,
              "#d8576b"
             ],
             [
              0.6666666666666666,
              "#ed7953"
             ],
             [
              0.7777777777777778,
              "#fb9f3a"
             ],
             [
              0.8888888888888888,
              "#fdca26"
             ],
             [
              1,
              "#f0f921"
             ]
            ],
            "type": "histogram2dcontour"
           }
          ],
          "mesh3d": [
           {
            "colorbar": {
             "outlinewidth": 0,
             "ticks": ""
            },
            "type": "mesh3d"
           }
          ],
          "parcoords": [
           {
            "line": {
             "colorbar": {
              "outlinewidth": 0,
              "ticks": ""
             }
            },
            "type": "parcoords"
           }
          ],
          "pie": [
           {
            "automargin": true,
            "type": "pie"
           }
          ],
          "scatter": [
           {
            "fillpattern": {
             "fillmode": "overlay",
             "size": 10,
             "solidity": 0.2
            },
            "type": "scatter"
           }
          ],
          "scatter3d": [
           {
            "line": {
             "colorbar": {
              "outlinewidth": 0,
              "ticks": ""
             }
            },
            "marker": {
             "colorbar": {
              "outlinewidth": 0,
              "ticks": ""
             }
            },
            "type": "scatter3d"
           }
          ],
          "scattercarpet": [
           {
            "marker": {
             "colorbar": {
              "outlinewidth": 0,
              "ticks": ""
             }
            },
            "type": "scattercarpet"
           }
          ],
          "scattergeo": [
           {
            "marker": {
             "colorbar": {
              "outlinewidth": 0,
              "ticks": ""
             }
            },
            "type": "scattergeo"
           }
          ],
          "scattergl": [
           {
            "marker": {
             "colorbar": {
              "outlinewidth": 0,
              "ticks": ""
             }
            },
            "type": "scattergl"
           }
          ],
          "scattermap": [
           {
            "marker": {
             "colorbar": {
              "outlinewidth": 0,
              "ticks": ""
             }
            },
            "type": "scattermap"
           }
          ],
          "scattermapbox": [
           {
            "marker": {
             "colorbar": {
              "outlinewidth": 0,
              "ticks": ""
             }
            },
            "type": "scattermapbox"
           }
          ],
          "scatterpolar": [
           {
            "marker": {
             "colorbar": {
              "outlinewidth": 0,
              "ticks": ""
             }
            },
            "type": "scatterpolar"
           }
          ],
          "scatterpolargl": [
           {
            "marker": {
             "colorbar": {
              "outlinewidth": 0,
              "ticks": ""
             }
            },
            "type": "scatterpolargl"
           }
          ],
          "scatterternary": [
           {
            "marker": {
             "colorbar": {
              "outlinewidth": 0,
              "ticks": ""
             }
            },
            "type": "scatterternary"
           }
          ],
          "surface": [
           {
            "colorbar": {
             "outlinewidth": 0,
             "ticks": ""
            },
            "colorscale": [
             [
              0,
              "#0d0887"
             ],
             [
              0.1111111111111111,
              "#46039f"
             ],
             [
              0.2222222222222222,
              "#7201a8"
             ],
             [
              0.3333333333333333,
              "#9c179e"
             ],
             [
              0.4444444444444444,
              "#bd3786"
             ],
             [
              0.5555555555555556,
              "#d8576b"
             ],
             [
              0.6666666666666666,
              "#ed7953"
             ],
             [
              0.7777777777777778,
              "#fb9f3a"
             ],
             [
              0.8888888888888888,
              "#fdca26"
             ],
             [
              1,
              "#f0f921"
             ]
            ],
            "type": "surface"
           }
          ],
          "table": [
           {
            "cells": {
             "fill": {
              "color": "#EBF0F8"
             },
             "line": {
              "color": "white"
             }
            },
            "header": {
             "fill": {
              "color": "#C8D4E3"
             },
             "line": {
              "color": "white"
             }
            },
            "type": "table"
           }
          ]
         },
         "layout": {
          "annotationdefaults": {
           "arrowcolor": "#2a3f5f",
           "arrowhead": 0,
           "arrowwidth": 1
          },
          "autotypenumbers": "strict",
          "coloraxis": {
           "colorbar": {
            "outlinewidth": 0,
            "ticks": ""
           }
          },
          "colorscale": {
           "diverging": [
            [
             0,
             "#8e0152"
            ],
            [
             0.1,
             "#c51b7d"
            ],
            [
             0.2,
             "#de77ae"
            ],
            [
             0.3,
             "#f1b6da"
            ],
            [
             0.4,
             "#fde0ef"
            ],
            [
             0.5,
             "#f7f7f7"
            ],
            [
             0.6,
             "#e6f5d0"
            ],
            [
             0.7,
             "#b8e186"
            ],
            [
             0.8,
             "#7fbc41"
            ],
            [
             0.9,
             "#4d9221"
            ],
            [
             1,
             "#276419"
            ]
           ],
           "sequential": [
            [
             0,
             "#0d0887"
            ],
            [
             0.1111111111111111,
             "#46039f"
            ],
            [
             0.2222222222222222,
             "#7201a8"
            ],
            [
             0.3333333333333333,
             "#9c179e"
            ],
            [
             0.4444444444444444,
             "#bd3786"
            ],
            [
             0.5555555555555556,
             "#d8576b"
            ],
            [
             0.6666666666666666,
             "#ed7953"
            ],
            [
             0.7777777777777778,
             "#fb9f3a"
            ],
            [
             0.8888888888888888,
             "#fdca26"
            ],
            [
             1,
             "#f0f921"
            ]
           ],
           "sequentialminus": [
            [
             0,
             "#0d0887"
            ],
            [
             0.1111111111111111,
             "#46039f"
            ],
            [
             0.2222222222222222,
             "#7201a8"
            ],
            [
             0.3333333333333333,
             "#9c179e"
            ],
            [
             0.4444444444444444,
             "#bd3786"
            ],
            [
             0.5555555555555556,
             "#d8576b"
            ],
            [
             0.6666666666666666,
             "#ed7953"
            ],
            [
             0.7777777777777778,
             "#fb9f3a"
            ],
            [
             0.8888888888888888,
             "#fdca26"
            ],
            [
             1,
             "#f0f921"
            ]
           ]
          },
          "colorway": [
           "#636efa",
           "#EF553B",
           "#00cc96",
           "#ab63fa",
           "#FFA15A",
           "#19d3f3",
           "#FF6692",
           "#B6E880",
           "#FF97FF",
           "#FECB52"
          ],
          "font": {
           "color": "#2a3f5f"
          },
          "geo": {
           "bgcolor": "white",
           "lakecolor": "white",
           "landcolor": "#E5ECF6",
           "showlakes": true,
           "showland": true,
           "subunitcolor": "white"
          },
          "hoverlabel": {
           "align": "left"
          },
          "hovermode": "closest",
          "mapbox": {
           "style": "light"
          },
          "paper_bgcolor": "white",
          "plot_bgcolor": "#E5ECF6",
          "polar": {
           "angularaxis": {
            "gridcolor": "white",
            "linecolor": "white",
            "ticks": ""
           },
           "bgcolor": "#E5ECF6",
           "radialaxis": {
            "gridcolor": "white",
            "linecolor": "white",
            "ticks": ""
           }
          },
          "scene": {
           "xaxis": {
            "backgroundcolor": "#E5ECF6",
            "gridcolor": "white",
            "gridwidth": 2,
            "linecolor": "white",
            "showbackground": true,
            "ticks": "",
            "zerolinecolor": "white"
           },
           "yaxis": {
            "backgroundcolor": "#E5ECF6",
            "gridcolor": "white",
            "gridwidth": 2,
            "linecolor": "white",
            "showbackground": true,
            "ticks": "",
            "zerolinecolor": "white"
           },
           "zaxis": {
            "backgroundcolor": "#E5ECF6",
            "gridcolor": "white",
            "gridwidth": 2,
            "linecolor": "white",
            "showbackground": true,
            "ticks": "",
            "zerolinecolor": "white"
           }
          },
          "shapedefaults": {
           "line": {
            "color": "#2a3f5f"
           }
          },
          "ternary": {
           "aaxis": {
            "gridcolor": "white",
            "linecolor": "white",
            "ticks": ""
           },
           "baxis": {
            "gridcolor": "white",
            "linecolor": "white",
            "ticks": ""
           },
           "bgcolor": "#E5ECF6",
           "caxis": {
            "gridcolor": "white",
            "linecolor": "white",
            "ticks": ""
           }
          },
          "title": {
           "x": 0.05
          },
          "xaxis": {
           "automargin": true,
           "gridcolor": "white",
           "linecolor": "white",
           "ticks": "",
           "title": {
            "standoff": 15
           },
           "zerolinecolor": "white",
           "zerolinewidth": 2
          },
          "yaxis": {
           "automargin": true,
           "gridcolor": "white",
           "linecolor": "white",
           "ticks": "",
           "title": {
            "standoff": 15
           },
           "zerolinecolor": "white",
           "zerolinewidth": 2
          }
         }
        },
        "title": {
         "text": "BMI and Stroke Status",
         "x": 0.3,
         "y": 0.9
        },
        "violinmode": "group",
        "width": 700,
        "xaxis": {
         "anchor": "y",
         "domain": [
          0,
          1
         ],
         "title": {
          "text": "Stroke Status"
         }
        },
        "yaxis": {
         "anchor": "x",
         "domain": [
          0,
          1
         ],
         "title": {
          "text": "BMI"
         }
        }
       }
      }
     },
     "metadata": {},
     "output_type": "display_data"
    }
   ],
   "source": [
    "fig = px.violin(\n",
    "    data,\n",
    "    y = \"bmi\",\n",
    "    x = \"stroke\",\n",
    "    box = True,\n",
    "    width = 700,\n",
    "    height = 500,\n",
    "    color_discrete_sequence = plot_color,\n",
    "    title = \"BMI and Stroke Status\",\n",
    "    labels = {\n",
    "        \"stroke\": \"Stroke Status\",\n",
    "        \"bmi\": \"BMI\"\n",
    "    }\n",
    ")\n",
    "fig.update_layout(\n",
    "    title_x = 0.3,\n",
    "    title_y = 0.9\n",
    ")\n",
    "fig.show()"
   ]
  },
  {
   "cell_type": "code",
   "execution_count": 150,
   "id": "2b48b141",
   "metadata": {},
   "outputs": [
    {
     "data": {
      "text/plain": [
       "Index(['gender', 'age', 'hypertension', 'heart_disease', 'ever_married',\n",
       "       'work_type', 'Residence_type', 'avg_glucose_level', 'bmi',\n",
       "       'smoking_status', 'stroke'],\n",
       "      dtype='object')"
      ]
     },
     "execution_count": 150,
     "metadata": {},
     "output_type": "execute_result"
    }
   ],
   "source": [
    "data.columns"
   ]
  },
  {
   "cell_type": "code",
   "execution_count": 151,
   "id": "c01da780",
   "metadata": {},
   "outputs": [
    {
     "data": {
      "image/png": "[encoded data removed]",
      "text/plain": [
       "<Figure size 1200x1000 with 6 Axes>"
      ]
     },
     "metadata": {},
     "output_type": "display_data"
    }
   ],
   "source": [
    "x_values = [\"smoking_status\", \"gender\", \"heart_disease\", \"hypertension\", \"Residence_type\", \"ever_married\"]\n",
    "fig, axis = plt.subplots(\n",
    "    nrows=3,\n",
    "    ncols=2,\n",
    "    figsize=(12, 10)\n",
    ")\n",
    "\n",
    "for ax, x_value in zip(axis.flat, x_values):\n",
    "    sns.countplot(\n",
    "        data = data,\n",
    "        x = x_value,\n",
    "        hue = \"stroke\",\n",
    "        ax = ax\n",
    "    )\n",
    "    ax.set_title(f\"{x_value.capitalize()} and smoking status\")\n",
    "\n",
    "plt.tight_layout()\n",
    "plt.show()"
   ]
  },
  {
   "cell_type": "markdown",
   "id": "4c469be1",
   "metadata": {},
   "source": [
    "## Data Preprocessing"
   ]
  },
  {
   "cell_type": "code",
   "execution_count": 152,
   "id": "fb19e77b",
   "metadata": {},
   "outputs": [
    {
     "data": {
      "text/html": [
       "<div>\n",
       "<style scoped>\n",
       "    .dataframe tbody tr th:only-of-type {\n",
       "        vertical-align: middle;\n",
       "    }\n",
       "\n",
       "    .dataframe tbody tr th {\n",
       "        vertical-align: top;\n",
       "    }\n",
       "\n",
       "    .dataframe thead th {\n",
       "        text-align: right;\n",
       "    }\n",
       "</style>\n",
       "<table border=\"1\" class=\"dataframe\">\n",
       "  <thead>\n",
       "    <tr style=\"text-align: right;\">\n",
       "      <th></th>\n",
       "      <th>gender</th>\n",
       "      <th>age</th>\n",
       "      <th>hypertension</th>\n",
       "      <th>heart_disease</th>\n",
       "      <th>ever_married</th>\n",
       "      <th>work_type</th>\n",
       "      <th>Residence_type</th>\n",
       "      <th>avg_glucose_level</th>\n",
       "      <th>bmi</th>\n",
       "      <th>smoking_status</th>\n",
       "      <th>stroke</th>\n",
       "    </tr>\n",
       "  </thead>\n",
       "  <tbody>\n",
       "    <tr>\n",
       "      <th>12776</th>\n",
       "      <td>Female</td>\n",
       "      <td>57.0</td>\n",
       "      <td>0</td>\n",
       "      <td>0</td>\n",
       "      <td>Yes</td>\n",
       "      <td>Private</td>\n",
       "      <td>Rural</td>\n",
       "      <td>99.83</td>\n",
       "      <td>26.2</td>\n",
       "      <td>formerly smoked</td>\n",
       "      <td>0</td>\n",
       "    </tr>\n",
       "    <tr>\n",
       "      <th>13180</th>\n",
       "      <td>Male</td>\n",
       "      <td>59.0</td>\n",
       "      <td>0</td>\n",
       "      <td>0</td>\n",
       "      <td>Yes</td>\n",
       "      <td>Govt_job</td>\n",
       "      <td>Rural</td>\n",
       "      <td>75.29</td>\n",
       "      <td>27.0</td>\n",
       "      <td>formerly smoked</td>\n",
       "      <td>1</td>\n",
       "    </tr>\n",
       "    <tr>\n",
       "      <th>11760</th>\n",
       "      <td>Male</td>\n",
       "      <td>5.0</td>\n",
       "      <td>0</td>\n",
       "      <td>0</td>\n",
       "      <td>No</td>\n",
       "      <td>children</td>\n",
       "      <td>Urban</td>\n",
       "      <td>101.58</td>\n",
       "      <td>25.3</td>\n",
       "      <td>Unknown</td>\n",
       "      <td>0</td>\n",
       "    </tr>\n",
       "    <tr>\n",
       "      <th>13646</th>\n",
       "      <td>Female</td>\n",
       "      <td>32.0</td>\n",
       "      <td>0</td>\n",
       "      <td>0</td>\n",
       "      <td>Yes</td>\n",
       "      <td>Private</td>\n",
       "      <td>Rural</td>\n",
       "      <td>73.62</td>\n",
       "      <td>34.4</td>\n",
       "      <td>never smoked</td>\n",
       "      <td>0</td>\n",
       "    </tr>\n",
       "    <tr>\n",
       "      <th>210</th>\n",
       "      <td>Female</td>\n",
       "      <td>52.0</td>\n",
       "      <td>0</td>\n",
       "      <td>0</td>\n",
       "      <td>Yes</td>\n",
       "      <td>Private</td>\n",
       "      <td>Urban</td>\n",
       "      <td>107.45</td>\n",
       "      <td>35.8</td>\n",
       "      <td>smokes</td>\n",
       "      <td>0</td>\n",
       "    </tr>\n",
       "    <tr>\n",
       "      <th>13394</th>\n",
       "      <td>Male</td>\n",
       "      <td>18.0</td>\n",
       "      <td>0</td>\n",
       "      <td>0</td>\n",
       "      <td>No</td>\n",
       "      <td>Private</td>\n",
       "      <td>Rural</td>\n",
       "      <td>67.07</td>\n",
       "      <td>29.0</td>\n",
       "      <td>never smoked</td>\n",
       "      <td>0</td>\n",
       "    </tr>\n",
       "    <tr>\n",
       "      <th>7330</th>\n",
       "      <td>Male</td>\n",
       "      <td>24.0</td>\n",
       "      <td>0</td>\n",
       "      <td>0</td>\n",
       "      <td>No</td>\n",
       "      <td>Private</td>\n",
       "      <td>Urban</td>\n",
       "      <td>123.89</td>\n",
       "      <td>25.1</td>\n",
       "      <td>smokes</td>\n",
       "      <td>0</td>\n",
       "    </tr>\n",
       "    <tr>\n",
       "      <th>3848</th>\n",
       "      <td>Female</td>\n",
       "      <td>53.0</td>\n",
       "      <td>0</td>\n",
       "      <td>0</td>\n",
       "      <td>Yes</td>\n",
       "      <td>Private</td>\n",
       "      <td>Urban</td>\n",
       "      <td>97.93</td>\n",
       "      <td>26.7</td>\n",
       "      <td>Unknown</td>\n",
       "      <td>0</td>\n",
       "    </tr>\n",
       "    <tr>\n",
       "      <th>5562</th>\n",
       "      <td>Female</td>\n",
       "      <td>55.0</td>\n",
       "      <td>0</td>\n",
       "      <td>0</td>\n",
       "      <td>Yes</td>\n",
       "      <td>Private</td>\n",
       "      <td>Rural</td>\n",
       "      <td>90.96</td>\n",
       "      <td>31.3</td>\n",
       "      <td>never smoked</td>\n",
       "      <td>0</td>\n",
       "    </tr>\n",
       "    <tr>\n",
       "      <th>14740</th>\n",
       "      <td>Female</td>\n",
       "      <td>40.0</td>\n",
       "      <td>0</td>\n",
       "      <td>0</td>\n",
       "      <td>Yes</td>\n",
       "      <td>Private</td>\n",
       "      <td>Rural</td>\n",
       "      <td>72.36</td>\n",
       "      <td>38.1</td>\n",
       "      <td>smokes</td>\n",
       "      <td>0</td>\n",
       "    </tr>\n",
       "  </tbody>\n",
       "</table>\n",
       "</div>"
      ],
      "text/plain": [
       "       gender   age  hypertension  heart_disease ever_married work_type  \\\n",
       "12776  Female  57.0             0              0          Yes   Private   \n",
       "13180    Male  59.0             0              0          Yes  Govt_job   \n",
       "11760    Male   5.0             0              0           No  children   \n",
       "13646  Female  32.0             0              0          Yes   Private   \n",
       "210    Female  52.0             0              0          Yes   Private   \n",
       "13394    Male  18.0             0              0           No   Private   \n",
       "7330     Male  24.0             0              0           No   Private   \n",
       "3848   Female  53.0             0              0          Yes   Private   \n",
       "5562   Female  55.0             0              0          Yes   Private   \n",
       "14740  Female  40.0             0              0          Yes   Private   \n",
       "\n",
       "      Residence_type  avg_glucose_level   bmi   smoking_status  stroke  \n",
       "12776          Rural              99.83  26.2  formerly smoked       0  \n",
       "13180          Rural              75.29  27.0  formerly smoked       1  \n",
       "11760          Urban             101.58  25.3          Unknown       0  \n",
       "13646          Rural              73.62  34.4     never smoked       0  \n",
       "210            Urban             107.45  35.8           smokes       0  \n",
       "13394          Rural              67.07  29.0     never smoked       0  \n",
       "7330           Urban             123.89  25.1           smokes       0  \n",
       "3848           Urban              97.93  26.7          Unknown       0  \n",
       "5562           Rural              90.96  31.3     never smoked       0  \n",
       "14740          Rural              72.36  38.1           smokes       0  "
      ]
     },
     "execution_count": 152,
     "metadata": {},
     "output_type": "execute_result"
    }
   ],
   "source": [
    "data.sample(10)"
   ]
  },
  {
   "cell_type": "code",
   "execution_count": 153,
   "id": "df26fd42",
   "metadata": {},
   "outputs": [
    {
     "data": {
      "text/plain": [
       "stroke\n",
       "0    14671\n",
       "1      632\n",
       "Name: count, dtype: int64"
      ]
     },
     "execution_count": 153,
     "metadata": {},
     "output_type": "execute_result"
    }
   ],
   "source": [
    "data[\"stroke\"].value_counts()"
   ]
  },
  {
   "cell_type": "code",
   "execution_count": 154,
   "id": "475c892b",
   "metadata": {},
   "outputs": [
    {
     "name": "stderr",
     "output_type": "stream",
     "text": [
      "/tmp/ipykernel_14239/4202156296.py:2: FutureWarning:\n",
      "\n",
      "Downcasting behavior in `replace` is deprecated and will be removed in a future version. To retain the old behavior, explicitly call `result.infer_objects(copy=False)`. To opt-in to the future behavior, set `pd.set_option('future.no_silent_downcasting', True)`\n",
      "\n",
      "/tmp/ipykernel_14239/4202156296.py:3: FutureWarning:\n",
      "\n",
      "Downcasting behavior in `replace` is deprecated and will be removed in a future version. To retain the old behavior, explicitly call `result.infer_objects(copy=False)`. To opt-in to the future behavior, set `pd.set_option('future.no_silent_downcasting', True)`\n",
      "\n"
     ]
    }
   ],
   "source": [
    "# encoding categorical features\n",
    "data['gender'] = data['gender'].replace({'Male': 0, 'Female': 1})\n",
    "data['ever_married'] = data['ever_married'].replace({'No': 0, 'Yes': 1})"
   ]
  },
  {
   "cell_type": "code",
   "execution_count": 155,
   "id": "94eb2d6f",
   "metadata": {},
   "outputs": [
    {
     "data": {
      "text/html": [
       "<div>\n",
       "<style scoped>\n",
       "    .dataframe tbody tr th:only-of-type {\n",
       "        vertical-align: middle;\n",
       "    }\n",
       "\n",
       "    .dataframe tbody tr th {\n",
       "        vertical-align: top;\n",
       "    }\n",
       "\n",
       "    .dataframe thead th {\n",
       "        text-align: right;\n",
       "    }\n",
       "</style>\n",
       "<table border=\"1\" class=\"dataframe\">\n",
       "  <thead>\n",
       "    <tr style=\"text-align: right;\">\n",
       "      <th></th>\n",
       "      <th>gender</th>\n",
       "      <th>age</th>\n",
       "      <th>hypertension</th>\n",
       "      <th>heart_disease</th>\n",
       "      <th>ever_married</th>\n",
       "      <th>work_type</th>\n",
       "      <th>Residence_type</th>\n",
       "      <th>avg_glucose_level</th>\n",
       "      <th>bmi</th>\n",
       "      <th>smoking_status</th>\n",
       "      <th>stroke</th>\n",
       "    </tr>\n",
       "  </thead>\n",
       "  <tbody>\n",
       "    <tr>\n",
       "      <th>6873</th>\n",
       "      <td>1</td>\n",
       "      <td>17.0</td>\n",
       "      <td>0</td>\n",
       "      <td>0</td>\n",
       "      <td>0</td>\n",
       "      <td>Private</td>\n",
       "      <td>Urban</td>\n",
       "      <td>88.51</td>\n",
       "      <td>24.9</td>\n",
       "      <td>Unknown</td>\n",
       "      <td>0</td>\n",
       "    </tr>\n",
       "    <tr>\n",
       "      <th>13433</th>\n",
       "      <td>1</td>\n",
       "      <td>42.0</td>\n",
       "      <td>0</td>\n",
       "      <td>0</td>\n",
       "      <td>0</td>\n",
       "      <td>Private</td>\n",
       "      <td>Rural</td>\n",
       "      <td>80.08</td>\n",
       "      <td>21.0</td>\n",
       "      <td>never smoked</td>\n",
       "      <td>0</td>\n",
       "    </tr>\n",
       "    <tr>\n",
       "      <th>4897</th>\n",
       "      <td>1</td>\n",
       "      <td>32.0</td>\n",
       "      <td>0</td>\n",
       "      <td>0</td>\n",
       "      <td>0</td>\n",
       "      <td>Private</td>\n",
       "      <td>Urban</td>\n",
       "      <td>101.31</td>\n",
       "      <td>23.5</td>\n",
       "      <td>never smoked</td>\n",
       "      <td>0</td>\n",
       "    </tr>\n",
       "    <tr>\n",
       "      <th>6668</th>\n",
       "      <td>1</td>\n",
       "      <td>27.0</td>\n",
       "      <td>0</td>\n",
       "      <td>0</td>\n",
       "      <td>0</td>\n",
       "      <td>Private</td>\n",
       "      <td>Urban</td>\n",
       "      <td>60.01</td>\n",
       "      <td>34.4</td>\n",
       "      <td>never smoked</td>\n",
       "      <td>0</td>\n",
       "    </tr>\n",
       "    <tr>\n",
       "      <th>6256</th>\n",
       "      <td>0</td>\n",
       "      <td>15.0</td>\n",
       "      <td>0</td>\n",
       "      <td>0</td>\n",
       "      <td>0</td>\n",
       "      <td>children</td>\n",
       "      <td>Urban</td>\n",
       "      <td>85.58</td>\n",
       "      <td>22.4</td>\n",
       "      <td>Unknown</td>\n",
       "      <td>0</td>\n",
       "    </tr>\n",
       "    <tr>\n",
       "      <th>13663</th>\n",
       "      <td>1</td>\n",
       "      <td>79.0</td>\n",
       "      <td>0</td>\n",
       "      <td>0</td>\n",
       "      <td>1</td>\n",
       "      <td>Self-employed</td>\n",
       "      <td>Urban</td>\n",
       "      <td>104.38</td>\n",
       "      <td>26.7</td>\n",
       "      <td>Unknown</td>\n",
       "      <td>0</td>\n",
       "    </tr>\n",
       "    <tr>\n",
       "      <th>5064</th>\n",
       "      <td>0</td>\n",
       "      <td>44.0</td>\n",
       "      <td>0</td>\n",
       "      <td>0</td>\n",
       "      <td>1</td>\n",
       "      <td>Private</td>\n",
       "      <td>Urban</td>\n",
       "      <td>96.29</td>\n",
       "      <td>24.3</td>\n",
       "      <td>smokes</td>\n",
       "      <td>0</td>\n",
       "    </tr>\n",
       "    <tr>\n",
       "      <th>10897</th>\n",
       "      <td>0</td>\n",
       "      <td>55.0</td>\n",
       "      <td>0</td>\n",
       "      <td>0</td>\n",
       "      <td>0</td>\n",
       "      <td>Govt_job</td>\n",
       "      <td>Rural</td>\n",
       "      <td>99.64</td>\n",
       "      <td>25.9</td>\n",
       "      <td>formerly smoked</td>\n",
       "      <td>0</td>\n",
       "    </tr>\n",
       "    <tr>\n",
       "      <th>3854</th>\n",
       "      <td>0</td>\n",
       "      <td>57.0</td>\n",
       "      <td>0</td>\n",
       "      <td>0</td>\n",
       "      <td>1</td>\n",
       "      <td>Self-employed</td>\n",
       "      <td>Urban</td>\n",
       "      <td>82.14</td>\n",
       "      <td>36.5</td>\n",
       "      <td>never smoked</td>\n",
       "      <td>0</td>\n",
       "    </tr>\n",
       "    <tr>\n",
       "      <th>3315</th>\n",
       "      <td>1</td>\n",
       "      <td>55.0</td>\n",
       "      <td>0</td>\n",
       "      <td>0</td>\n",
       "      <td>1</td>\n",
       "      <td>Private</td>\n",
       "      <td>Rural</td>\n",
       "      <td>68.38</td>\n",
       "      <td>26.4</td>\n",
       "      <td>never smoked</td>\n",
       "      <td>0</td>\n",
       "    </tr>\n",
       "  </tbody>\n",
       "</table>\n",
       "</div>"
      ],
      "text/plain": [
       "       gender   age  hypertension  heart_disease  ever_married      work_type  \\\n",
       "6873        1  17.0             0              0             0        Private   \n",
       "13433       1  42.0             0              0             0        Private   \n",
       "4897        1  32.0             0              0             0        Private   \n",
       "6668        1  27.0             0              0             0        Private   \n",
       "6256        0  15.0             0              0             0       children   \n",
       "13663       1  79.0             0              0             1  Self-employed   \n",
       "5064        0  44.0             0              0             1        Private   \n",
       "10897       0  55.0             0              0             0       Govt_job   \n",
       "3854        0  57.0             0              0             1  Self-employed   \n",
       "3315        1  55.0             0              0             1        Private   \n",
       "\n",
       "      Residence_type  avg_glucose_level   bmi   smoking_status  stroke  \n",
       "6873           Urban              88.51  24.9          Unknown       0  \n",
       "13433          Rural              80.08  21.0     never smoked       0  \n",
       "4897           Urban             101.31  23.5     never smoked       0  \n",
       "6668           Urban              60.01  34.4     never smoked       0  \n",
       "6256           Urban              85.58  22.4          Unknown       0  \n",
       "13663          Urban             104.38  26.7          Unknown       0  \n",
       "5064           Urban              96.29  24.3           smokes       0  \n",
       "10897          Rural              99.64  25.9  formerly smoked       0  \n",
       "3854           Urban              82.14  36.5     never smoked       0  \n",
       "3315           Rural              68.38  26.4     never smoked       0  "
      ]
     },
     "execution_count": 155,
     "metadata": {},
     "output_type": "execute_result"
    }
   ],
   "source": [
    "data.sample(10)"
   ]
  },
  {
   "cell_type": "code",
   "execution_count": 162,
   "id": "d686a2f9",
   "metadata": {},
   "outputs": [],
   "source": [
    "# nominal features\n",
    "nominal_features = [\"work_type\", \"Residence_type\", \"smoking_status\"]\n",
    "\n",
    "# building the One Hot Encoder\n",
    "nominal_transformer = OneHotEncoder(drop=\"first\", handle_unknown=\"ignore\")\n",
    "\n",
    "# preprocessing\n",
    "preprocessor = ColumnTransformer(\n",
    "    transformers = [\n",
    "        (\"nom\", nominal_transformer, nominal_features)\n",
    "    ],\n",
    "    remainder = \"passthrough\"\n",
    ")"
   ]
  },
  {
   "cell_type": "code",
   "execution_count": 157,
   "id": "583d4011",
   "metadata": {},
   "outputs": [
    {
     "data": {
      "text/html": [
       "<div>\n",
       "<style scoped>\n",
       "    .dataframe tbody tr th:only-of-type {\n",
       "        vertical-align: middle;\n",
       "    }\n",
       "\n",
       "    .dataframe tbody tr th {\n",
       "        vertical-align: top;\n",
       "    }\n",
       "\n",
       "    .dataframe thead th {\n",
       "        text-align: right;\n",
       "    }\n",
       "</style>\n",
       "<table border=\"1\" class=\"dataframe\">\n",
       "  <thead>\n",
       "    <tr style=\"text-align: right;\">\n",
       "      <th></th>\n",
       "      <th>gender</th>\n",
       "      <th>age</th>\n",
       "      <th>hypertension</th>\n",
       "      <th>heart_disease</th>\n",
       "      <th>ever_married</th>\n",
       "      <th>work_type</th>\n",
       "      <th>Residence_type</th>\n",
       "      <th>avg_glucose_level</th>\n",
       "      <th>bmi</th>\n",
       "      <th>smoking_status</th>\n",
       "    </tr>\n",
       "  </thead>\n",
       "  <tbody>\n",
       "    <tr>\n",
       "      <th>8513</th>\n",
       "      <td>1</td>\n",
       "      <td>78.0</td>\n",
       "      <td>1</td>\n",
       "      <td>0</td>\n",
       "      <td>1</td>\n",
       "      <td>Self-employed</td>\n",
       "      <td>Rural</td>\n",
       "      <td>90.43</td>\n",
       "      <td>31.8</td>\n",
       "      <td>smokes</td>\n",
       "    </tr>\n",
       "    <tr>\n",
       "      <th>450</th>\n",
       "      <td>1</td>\n",
       "      <td>34.0</td>\n",
       "      <td>0</td>\n",
       "      <td>0</td>\n",
       "      <td>0</td>\n",
       "      <td>Private</td>\n",
       "      <td>Rural</td>\n",
       "      <td>90.18</td>\n",
       "      <td>25.0</td>\n",
       "      <td>Unknown</td>\n",
       "    </tr>\n",
       "    <tr>\n",
       "      <th>4642</th>\n",
       "      <td>1</td>\n",
       "      <td>28.0</td>\n",
       "      <td>0</td>\n",
       "      <td>0</td>\n",
       "      <td>0</td>\n",
       "      <td>Private</td>\n",
       "      <td>Rural</td>\n",
       "      <td>95.30</td>\n",
       "      <td>43.7</td>\n",
       "      <td>never smoked</td>\n",
       "    </tr>\n",
       "    <tr>\n",
       "      <th>1972</th>\n",
       "      <td>1</td>\n",
       "      <td>55.0</td>\n",
       "      <td>0</td>\n",
       "      <td>0</td>\n",
       "      <td>1</td>\n",
       "      <td>Self-employed</td>\n",
       "      <td>Rural</td>\n",
       "      <td>90.98</td>\n",
       "      <td>29.3</td>\n",
       "      <td>never smoked</td>\n",
       "    </tr>\n",
       "    <tr>\n",
       "      <th>3590</th>\n",
       "      <td>1</td>\n",
       "      <td>58.0</td>\n",
       "      <td>0</td>\n",
       "      <td>0</td>\n",
       "      <td>1</td>\n",
       "      <td>Private</td>\n",
       "      <td>Rural</td>\n",
       "      <td>131.41</td>\n",
       "      <td>28.4</td>\n",
       "      <td>never smoked</td>\n",
       "    </tr>\n",
       "    <tr>\n",
       "      <th>6106</th>\n",
       "      <td>0</td>\n",
       "      <td>12.0</td>\n",
       "      <td>0</td>\n",
       "      <td>0</td>\n",
       "      <td>0</td>\n",
       "      <td>children</td>\n",
       "      <td>Urban</td>\n",
       "      <td>92.97</td>\n",
       "      <td>21.4</td>\n",
       "      <td>Unknown</td>\n",
       "    </tr>\n",
       "    <tr>\n",
       "      <th>12295</th>\n",
       "      <td>1</td>\n",
       "      <td>55.0</td>\n",
       "      <td>0</td>\n",
       "      <td>0</td>\n",
       "      <td>1</td>\n",
       "      <td>Govt_job</td>\n",
       "      <td>Urban</td>\n",
       "      <td>113.65</td>\n",
       "      <td>24.8</td>\n",
       "      <td>never smoked</td>\n",
       "    </tr>\n",
       "    <tr>\n",
       "      <th>5510</th>\n",
       "      <td>1</td>\n",
       "      <td>29.0</td>\n",
       "      <td>0</td>\n",
       "      <td>0</td>\n",
       "      <td>0</td>\n",
       "      <td>Private</td>\n",
       "      <td>Urban</td>\n",
       "      <td>94.37</td>\n",
       "      <td>36.2</td>\n",
       "      <td>Unknown</td>\n",
       "    </tr>\n",
       "    <tr>\n",
       "      <th>1540</th>\n",
       "      <td>1</td>\n",
       "      <td>41.0</td>\n",
       "      <td>0</td>\n",
       "      <td>0</td>\n",
       "      <td>1</td>\n",
       "      <td>Private</td>\n",
       "      <td>Urban</td>\n",
       "      <td>75.25</td>\n",
       "      <td>37.7</td>\n",
       "      <td>formerly smoked</td>\n",
       "    </tr>\n",
       "    <tr>\n",
       "      <th>13868</th>\n",
       "      <td>1</td>\n",
       "      <td>26.0</td>\n",
       "      <td>0</td>\n",
       "      <td>0</td>\n",
       "      <td>0</td>\n",
       "      <td>Private</td>\n",
       "      <td>Urban</td>\n",
       "      <td>112.54</td>\n",
       "      <td>33.1</td>\n",
       "      <td>Unknown</td>\n",
       "    </tr>\n",
       "  </tbody>\n",
       "</table>\n",
       "</div>"
      ],
      "text/plain": [
       "       gender   age  hypertension  heart_disease  ever_married      work_type  \\\n",
       "8513        1  78.0             1              0             1  Self-employed   \n",
       "450         1  34.0             0              0             0        Private   \n",
       "4642        1  28.0             0              0             0        Private   \n",
       "1972        1  55.0             0              0             1  Self-employed   \n",
       "3590        1  58.0             0              0             1        Private   \n",
       "6106        0  12.0             0              0             0       children   \n",
       "12295       1  55.0             0              0             1       Govt_job   \n",
       "5510        1  29.0             0              0             0        Private   \n",
       "1540        1  41.0             0              0             1        Private   \n",
       "13868       1  26.0             0              0             0        Private   \n",
       "\n",
       "      Residence_type  avg_glucose_level   bmi   smoking_status  \n",
       "8513           Rural              90.43  31.8           smokes  \n",
       "450            Rural              90.18  25.0          Unknown  \n",
       "4642           Rural              95.30  43.7     never smoked  \n",
       "1972           Rural              90.98  29.3     never smoked  \n",
       "3590           Rural             131.41  28.4     never smoked  \n",
       "6106           Urban              92.97  21.4          Unknown  \n",
       "12295          Urban             113.65  24.8     never smoked  \n",
       "5510           Urban              94.37  36.2          Unknown  \n",
       "1540           Urban              75.25  37.7  formerly smoked  \n",
       "13868          Urban             112.54  33.1          Unknown  "
      ]
     },
     "execution_count": 157,
     "metadata": {},
     "output_type": "execute_result"
    }
   ],
   "source": [
    "# feature and label separation\n",
    "X, y = data.drop(\"stroke\", axis=1), data[\"stroke\"]\n",
    "X.sample(10)"
   ]
  },
  {
   "cell_type": "code",
   "execution_count": 158,
   "id": "f8c25a1d",
   "metadata": {},
   "outputs": [
    {
     "data": {
      "text/plain": [
       "10852    0\n",
       "12726    0\n",
       "2537     0\n",
       "575      0\n",
       "4522     0\n",
       "7148     0\n",
       "5074     0\n",
       "6686     0\n",
       "13785    0\n",
       "4051     0\n",
       "Name: stroke, dtype: int64"
      ]
     },
     "execution_count": 158,
     "metadata": {},
     "output_type": "execute_result"
    }
   ],
   "source": [
    "y.sample(10)"
   ]
  },
  {
   "cell_type": "code",
   "execution_count": 159,
   "id": "8eb39dc6",
   "metadata": {},
   "outputs": [
    {
     "data": {
      "text/plain": [
       "2"
      ]
     },
     "execution_count": 159,
     "metadata": {},
     "output_type": "execute_result"
    }
   ],
   "source": [
    "y.nunique()"
   ]
  },
  {
   "cell_type": "code",
   "execution_count": 160,
   "id": "761eed3e",
   "metadata": {},
   "outputs": [
    {
     "name": "stdout",
     "output_type": "stream",
     "text": [
      "(15303, 10) (12242, 10) (3061, 10)\n"
     ]
    }
   ],
   "source": [
    "# train tes splitting the data\n",
    "X_train, X_test, y_train, y_test = train_test_split(\n",
    "    X, y,\n",
    "    test_size = 0.2,\n",
    "    random_state = 21,\n",
    "    stratify = y\n",
    ")\n",
    "print(X.shape, X_train.shape, X_test.shape)"
   ]
  },
  {
   "cell_type": "code",
   "execution_count": 163,
   "id": "8edcd270",
   "metadata": {},
   "outputs": [],
   "source": [
    "# applying the preprocessing\n",
    "X_train_processed = preprocessor.fit_transform(X_train)\n",
    "X_test_processed = preprocessor.transform(X_test)"
   ]
  },
  {
   "cell_type": "code",
   "execution_count": 165,
   "id": "e0ba28dc",
   "metadata": {},
   "outputs": [
    {
     "data": {
      "text/plain": [
       "array([[ 0.  ,  1.  ,  0.  , ...,  0.  , 75.04, 30.3 ],\n",
       "       [ 0.  ,  1.  ,  0.  , ...,  1.  , 96.77, 28.5 ],\n",
       "       [ 0.  ,  1.  ,  0.  , ...,  0.  , 80.08, 30.3 ],\n",
       "       ...,\n",
       "       [ 0.  ,  1.  ,  0.  , ...,  1.  , 83.79, 30.9 ],\n",
       "       [ 0.  ,  0.  ,  1.  , ...,  1.  , 89.45, 30.1 ],\n",
       "       [ 0.  ,  1.  ,  0.  , ...,  1.  , 76.08, 41.5 ]], shape=(12242, 15))"
      ]
     },
     "execution_count": 165,
     "metadata": {},
     "output_type": "execute_result"
    }
   ],
   "source": [
    "X_train_processed"
   ]
  },
  {
   "cell_type": "code",
   "execution_count": 167,
   "id": "78e35911",
   "metadata": {},
   "outputs": [],
   "source": [
    "# using smote for imbalanced dataset\n",
    "smote = SMOTE(random_state=21)\n",
    "X_train_resampled, y_train_resampled = smote.fit_resample(X_train_processed, y_train)"
   ]
  },
  {
   "cell_type": "code",
   "execution_count": 168,
   "id": "b6058757",
   "metadata": {},
   "outputs": [
    {
     "name": "stdout",
     "output_type": "stream",
     "text": [
      "(23472, 15) (23472,)\n"
     ]
    }
   ],
   "source": [
    "print(X_train_resampled.shape, y_train_resampled.shape)"
   ]
  },
  {
   "cell_type": "code",
   "execution_count": 170,
   "id": "d27ea5fd",
   "metadata": {},
   "outputs": [],
   "source": [
    "# building the random forest and the xgboost\n",
    "rf_model = RandomForestClassifier(\n",
    "    n_estimators=200,\n",
    "    max_depth=None,\n",
    "    random_state=42,\n",
    "    n_jobs=-1\n",
    ")\n",
    "\n",
    "xgb_model = XGBClassifier(\n",
    "    n_estimators=200,\n",
    "    max_depth=4,\n",
    "    learning_rate=0.1,\n",
    "    subsample=0.8,\n",
    "    colsample_bytree=0.8,\n",
    "    use_label_encoder=False,\n",
    "    eval_metric='logloss',\n",
    "    random_state=42\n",
    ")"
   ]
  },
  {
   "cell_type": "code",
   "execution_count": null,
   "id": "ca31c7d6",
   "metadata": {},
   "outputs": [],
   "source": []
  }
 ],
 "metadata": {
  "kernelspec": {
   "display_name": "std-prog",
   "language": "python",
   "name": "python3"
  },
  "language_info": {
   "codemirror_mode": {
    "name": "ipython",
    "version": 3
   },
   "file_extension": ".py",
   "mimetype": "text/x-python",
   "name": "python",
   "nbconvert_exporter": "python",
   "pygments_lexer": "ipython3",
   "version": "3.13.5"
  }
 },
 "nbformat": 4,
 "nbformat_minor": 5
}
